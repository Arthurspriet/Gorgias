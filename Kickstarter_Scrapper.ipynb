{
 "cells": [
  {
   "cell_type": "markdown",
   "id": "71c57e08",
   "metadata": {},
   "source": [
    "Import dependecies"
   ]
  },
  {
   "cell_type": "code",
   "execution_count": 116,
   "id": "da042296",
   "metadata": {},
   "outputs": [],
   "source": [
    "import pandas as pd\n",
    "from bs4 import BeautifulSoup\n",
    "import urllib\n",
    "from urllib.request import Request, urlopen, urlparse\n",
    "import re\n",
    "import time\n",
    "import requests\n",
    "import json\n",
    "import analytics"
   ]
  },
  {
   "cell_type": "markdown",
   "id": "5a4f97a9",
   "metadata": {},
   "source": [
    "URL to scrapp and Headers to avoid blocking from kickstarter"
   ]
  },
  {
   "cell_type": "code",
   "execution_count": 48,
   "id": "bb1a22ad",
   "metadata": {},
   "outputs": [],
   "source": [
    "url ='https://www.kickstarter.com/discover/advanced?raised=2&sort=end_date&seed=2743718&page=1'\n",
    "headers = {'User-Agent': 'Mozilla/5.0 (Macintosh; Intel Mac OS X 10_11_5) AppleWebKit/537.36 (KHTML, like Gecko) Chrome/50.0.2661.102 Safari/537.36'}"
   ]
  },
  {
   "cell_type": "code",
   "execution_count": 49,
   "id": "26c5fe87",
   "metadata": {},
   "outputs": [],
   "source": [
    "def engine(pages) : \n",
    "    url = url ='https://www.kickstarter.com/discover/advanced?raised=2&sort=enddate&seed=2743718&page='\n",
    "    headers = {'User-Agent': 'Mozilla/5.0 (Macintosh; Intel Mac OS X 10_11_5) AppleWebKit/537.36 (KHTML, like Gecko) Chrome/50.0.2661.102 Safari/537.36'}\n",
    "    lst = []\n",
    "    for i in range(1,pages) :\n",
    "        r = requests.get(url+str(i),headers=headers)\n",
    "        soup = BeautifulSoup(r.content, 'html.parser')\n",
    "        lst.append(soup)\n",
    "        i =+ 1   \n",
    "    return lst"
   ]
  },
  {
   "cell_type": "markdown",
   "id": "bf6a6e48",
   "metadata": {},
   "source": [
    "Actually not a scrapper but a function to extract and read infos from raw html"
   ]
  },
  {
   "cell_type": "code",
   "execution_count": 50,
   "id": "9423337f",
   "metadata": {},
   "outputs": [],
   "source": [
    "def scraper_prototype(text_profile, prefix):\n",
    "\n",
    "    if '\"name\"' in text_profile:\n",
    "        text_profile = re.sub('\"', '', text_profile)\n",
    "\n",
    "    text2 = text_profile.split(',')\n",
    "    dummy2 = [re.findall('[A-Za-z0-9_]+:', ww) for ww in text2]\n",
    "    itemname = [dum_part[0] for dum_part in dummy2 if len(dum_part) > 0]\n",
    "    ans_array = [re.search(xxy1+'(.*?)'+xxy2, text_profile).group(1).rstrip(',')\n",
    "                 for xxy1, xxy2 in zip(itemname[:-1], itemname[1:])]\n",
    "    itemnames = [x.rstrip(':') for x in itemname]\n",
    "\n",
    "    info_dict = dict()\n",
    "    for item, ans in zip(itemnames, ans_array):\n",
    "        info_dict[prefix+'_'+item] = ans\n",
    "    return info_dict"
   ]
  },
  {
   "cell_type": "markdown",
   "id": "93537387",
   "metadata": {},
   "source": [
    "Function to transform result into a string"
   ]
  },
  {
   "cell_type": "code",
   "execution_count": 51,
   "id": "9020c730",
   "metadata": {},
   "outputs": [],
   "source": [
    "def to_string(container) : \n",
    "    whole_string = str(container).replace('&amp', '').replace('&quot;', '')\n",
    "    return whole_string"
   ]
  },
  {
   "cell_type": "markdown",
   "id": "be64b8a3",
   "metadata": {},
   "source": [
    "Function to extract name and basic project infos"
   ]
  },
  {
   "cell_type": "code",
   "execution_count": 52,
   "id": "fef44791",
   "metadata": {},
   "outputs": [],
   "source": [
    "def get_name(whole_string) : \n",
    "    if '\"name\"' in whole_string:\n",
    "        project_info = '\"name\"' + re.findall('\"name\"(.+?)\"creator\"', whole_string)[0]\n",
    "    else:\n",
    "        project_info = 'name' + re.findall('name(.+?)creator', whole_string)[0]\n",
    "    project_info_dict = scraper_prototype(project_info, 'project')\n",
    "    df1 = pd.DataFrame.from_dict(project_info_dict, orient='index').transpose()\n",
    "    return df1"
   ]
  },
  {
   "cell_type": "markdown",
   "id": "76cd3694",
   "metadata": {},
   "source": [
    "Function to extract Creator infos "
   ]
  },
  {
   "cell_type": "code",
   "execution_count": 53,
   "id": "94830897",
   "metadata": {},
   "outputs": [],
   "source": [
    "def get_creator(whole_string) : \n",
    "    if '\"creator\"' in whole_string:\n",
    "        creator_string = re.findall(r'\\\"creator\\\"\\:\\{(.+?)\\}', whole_string)[0]\n",
    "    else:\n",
    "        creator_string = re.findall(r'creator\\:\\{(.+?)\\}', whole_string)[0]\n",
    "    creator_info_dict = scraper_prototype(creator_string, 'creator')\n",
    "    creator_info_dict['creator_slug'] = creator_info_dict.get('creator_slug', 'Null')\n",
    "    df2 = pd.DataFrame.from_dict(creator_info_dict, orient='index').transpose()\n",
    "    \n",
    "    return df2"
   ]
  },
  {
   "cell_type": "markdown",
   "id": "d8245aa6",
   "metadata": {},
   "source": [
    "Function to get location"
   ]
  },
  {
   "cell_type": "code",
   "execution_count": 54,
   "id": "d514939f",
   "metadata": {},
   "outputs": [],
   "source": [
    "def get_location(whole_string) : \n",
    "    if '\"location\"' in whole_string:\n",
    "        location_string = re.findall(r'\\\"location\\\"\\:\\{(.+?)\\}', whole_string)[0]\n",
    "    else:\n",
    "        location_string = re.findall(r'location\\:\\{(.+?)\\}', whole_string)[0]\n",
    "    location_info_dict = scraper_prototype(location_string, 'location')\n",
    "    df3 = pd.DataFrame.from_dict(location_info_dict, orient='index').transpose()\n",
    "    return df3"
   ]
  },
  {
   "cell_type": "markdown",
   "id": "bfe0fdac",
   "metadata": {},
   "source": [
    "Fucntion to concatenate all the dataframe from previous function into one"
   ]
  },
  {
   "cell_type": "code",
   "execution_count": 55,
   "id": "9e12b368",
   "metadata": {},
   "outputs": [],
   "source": [
    "def make_a_row(df1,df2,df3) : \n",
    "    df = pd.concat((df1, df2, df3), axis=1)\n",
    "    return df"
   ]
  },
  {
   "cell_type": "markdown",
   "id": "c985d9b6",
   "metadata": {},
   "source": [
    "Function to actually make a row for each project"
   ]
  },
  {
   "cell_type": "code",
   "execution_count": 56,
   "id": "b3cc2bc9",
   "metadata": {},
   "outputs": [],
   "source": [
    "def row_flow(container) : \n",
    "    string = to_string(container)\n",
    "    name = get_name(string)\n",
    "    creator = get_creator(string)\n",
    "    location = get_creator(string)\n",
    "    #profile = get_profile(string)\n",
    "    row = make_a_row(name,creator,location)\n",
    "    return row"
   ]
  },
  {
   "cell_type": "markdown",
   "id": "6aa2f949",
   "metadata": {},
   "source": [
    "Function to check if the url is a valid url"
   ]
  },
  {
   "cell_type": "code",
   "execution_count": 57,
   "id": "5c615fbc",
   "metadata": {},
   "outputs": [],
   "source": [
    "def is_valid(url):\n",
    "    parsed = urlparse(url)\n",
    "    return bool(parsed.netloc) and bool(parsed.scheme)"
   ]
  },
  {
   "cell_type": "markdown",
   "id": "24b86dfd",
   "metadata": {},
   "source": [
    "Actual scrapper (print a message if we are actually scrapping or if something went wrong)"
   ]
  },
  {
   "cell_type": "code",
   "execution_count": 58,
   "id": "3c2f51e7",
   "metadata": {},
   "outputs": [
    {
     "name": "stdout",
     "output_type": "stream",
     "text": [
      "Reading the Website\n"
     ]
    }
   ],
   "source": [
    "r = requests.get(url, headers=headers)\n",
    "soup = BeautifulSoup(r.content, 'html.parser')\n",
    "if r.status_code == 200 : \n",
    "    print('Reading the Website')\n",
    "else : \n",
    "    print('Something went wrong')"
   ]
  },
  {
   "cell_type": "markdown",
   "id": "f0d772bc",
   "metadata": {},
   "source": [
    "Divide the raw html into containers from each project-card"
   ]
  },
  {
   "cell_type": "code",
   "execution_count": 59,
   "id": "e52d87b2",
   "metadata": {},
   "outputs": [],
   "source": [
    "containers = soup.find_all('div', class_=\"js-react-proj-card\")"
   ]
  },
  {
   "cell_type": "markdown",
   "id": "d9ba6c91",
   "metadata": {},
   "source": [
    "Create row and concatenate them"
   ]
  },
  {
   "cell_type": "code",
   "execution_count": 60,
   "id": "6ec67cc1",
   "metadata": {},
   "outputs": [],
   "source": [
    "row = row_flow(containers[0])\n",
    "row0 = row_flow(containers[1])\n",
    "row1 = row_flow(containers[2])\n",
    "row2 = row_flow(containers[3])\n",
    "row3 = row_flow(containers[4])\n",
    "row4 = row_flow(containers[5])\n",
    "row5 = row_flow(containers[6])\n",
    "row6 = row_flow(containers[7])\n",
    "row7 = row_flow(containers[8])\n",
    "row8 = row_flow(containers[9])\n",
    "row9 = row_flow(containers[10])\n",
    "row10 = row_flow(containers[11])"
   ]
  },
  {
   "cell_type": "code",
   "execution_count": 73,
   "id": "fc00497c",
   "metadata": {},
   "outputs": [],
   "source": [
    "df = pd.concat([row, row2, row3, row4, row5, row6, row7, row8, row10],ignore_index=True)"
   ]
  },
  {
   "cell_type": "code",
   "execution_count": 74,
   "id": "fcff88fe",
   "metadata": {},
   "outputs": [
    {
     "data": {
      "text/html": [
       "<div>\n",
       "<style scoped>\n",
       "    .dataframe tbody tr th:only-of-type {\n",
       "        vertical-align: middle;\n",
       "    }\n",
       "\n",
       "    .dataframe tbody tr th {\n",
       "        vertical-align: top;\n",
       "    }\n",
       "\n",
       "    .dataframe thead th {\n",
       "        text-align: right;\n",
       "    }\n",
       "</style>\n",
       "<table border=\"1\" class=\"dataframe\">\n",
       "  <thead>\n",
       "    <tr style=\"text-align: right;\">\n",
       "      <th></th>\n",
       "      <th>project_name</th>\n",
       "      <th>project_blurb</th>\n",
       "      <th>project_goal</th>\n",
       "      <th>project_pledged</th>\n",
       "      <th>project_state</th>\n",
       "      <th>project_slug</th>\n",
       "      <th>project_disable_communication</th>\n",
       "      <th>project_country</th>\n",
       "      <th>project_country_displayable_name</th>\n",
       "      <th>project_currency</th>\n",
       "      <th>...</th>\n",
       "      <th>creator_small</th>\n",
       "      <th>creator_id</th>\n",
       "      <th>creator_name</th>\n",
       "      <th>creator_slug</th>\n",
       "      <th>creator_is_registered</th>\n",
       "      <th>creator_is_email_verified</th>\n",
       "      <th>creator_chosen_currency</th>\n",
       "      <th>creator_is_superbacker</th>\n",
       "      <th>creator_avatar</th>\n",
       "      <th>creator_small</th>\n",
       "    </tr>\n",
       "  </thead>\n",
       "  <tbody>\n",
       "    <tr>\n",
       "      <th>0</th>\n",
       "      <td>Make 100: Physics 1885</td>\n",
       "      <td>Restoring a forgotten scientific atlas from th...</td>\n",
       "      <td>1300.0</td>\n",
       "      <td>13378.0</td>\n",
       "      <td>live</td>\n",
       "      <td>make-100-physics-1885</td>\n",
       "      <td>false</td>\n",
       "      <td>ES</td>\n",
       "      <td>Spain</td>\n",
       "      <td>EUR</td>\n",
       "      <td>...</td>\n",
       "      <td>https://ksr-ugc.imgix.net/assets/010/365/358/1...</td>\n",
       "      <td>413661267</td>\n",
       "      <td>Alejandro Polanco</td>\n",
       "      <td>alpoma</td>\n",
       "      <td>null</td>\n",
       "      <td>null</td>\n",
       "      <td>null</td>\n",
       "      <td>null</td>\n",
       "      <td>{thumb:https://ksr-ugc.imgix.net/assets/010/36...</td>\n",
       "      <td>https://ksr-ugc.imgix.net/assets/010/365/358/1...</td>\n",
       "    </tr>\n",
       "    <tr>\n",
       "      <th>1</th>\n",
       "      <td>Shimmering Basin #2</td>\n",
       "      <td>Shimmering Basin #2 returns the reader to Shje...</td>\n",
       "      <td>2000.0</td>\n",
       "      <td>2036.29</td>\n",
       "      <td>live</td>\n",
       "      <td>shimmering-basin-2</td>\n",
       "      <td>false</td>\n",
       "      <td>CA</td>\n",
       "      <td>Canada</td>\n",
       "      <td>CAD</td>\n",
       "      <td>...</td>\n",
       "      <td>https://ksr-ugc.imgix.net/assets/030/124/176/7...</td>\n",
       "      <td>1401550725</td>\n",
       "      <td>Braedan Hafichuk</td>\n",
       "      <td>braedanhafichuk</td>\n",
       "      <td>null</td>\n",
       "      <td>null</td>\n",
       "      <td>null</td>\n",
       "      <td>null</td>\n",
       "      <td>{thumb:https://ksr-ugc.imgix.net/assets/030/12...</td>\n",
       "      <td>https://ksr-ugc.imgix.net/assets/030/124/176/7...</td>\n",
       "    </tr>\n",
       "    <tr>\n",
       "      <th>2</th>\n",
       "      <td>Starless Vampire Music Film</td>\n",
       "      <td>Brianna Knickerbocker's known for her voice ac...</td>\n",
       "      <td>22999.0</td>\n",
       "      <td>23348.0</td>\n",
       "      <td>live</td>\n",
       "      <td>starless-music-videos</td>\n",
       "      <td>false</td>\n",
       "      <td>US</td>\n",
       "      <td>the United States</td>\n",
       "      <td>USD</td>\n",
       "      <td>...</td>\n",
       "      <td>https://ksr-ugc.imgix.net/assets/035/794/750/1...</td>\n",
       "      <td>200708175</td>\n",
       "      <td>Starless Music</td>\n",
       "      <td>starlessmusic</td>\n",
       "      <td>null</td>\n",
       "      <td>null</td>\n",
       "      <td>null</td>\n",
       "      <td>null</td>\n",
       "      <td>{thumb:https://ksr-ugc.imgix.net/assets/035/79...</td>\n",
       "      <td>https://ksr-ugc.imgix.net/assets/035/794/750/1...</td>\n",
       "    </tr>\n",
       "    <tr>\n",
       "      <th>3</th>\n",
       "      <td>LINE ; MASS - Artbook by Alberto Ruiz</td>\n",
       "      <td>The new and massive collection of over 400 pag...</td>\n",
       "      <td>20000.0</td>\n",
       "      <td>111219.0</td>\n",
       "      <td>live</td>\n",
       "      <td>lineandmass</td>\n",
       "      <td>false</td>\n",
       "      <td>FR</td>\n",
       "      <td>France</td>\n",
       "      <td>EUR</td>\n",
       "      <td>...</td>\n",
       "      <td>https://ksr-ugc.imgix.net/assets/008/446/593/5...</td>\n",
       "      <td>1580441778</td>\n",
       "      <td>Spiridon</td>\n",
       "      <td>spiridon</td>\n",
       "      <td>null</td>\n",
       "      <td>null</td>\n",
       "      <td>null</td>\n",
       "      <td>null</td>\n",
       "      <td>{thumb:https://ksr-ugc.imgix.net/assets/008/44...</td>\n",
       "      <td>https://ksr-ugc.imgix.net/assets/008/446/593/5...</td>\n",
       "    </tr>\n",
       "    <tr>\n",
       "      <th>4</th>\n",
       "      <td>Goblin Civil War</td>\n",
       "      <td>An original set of rules and miniatures for ga...</td>\n",
       "      <td>1000.0</td>\n",
       "      <td>1000.0</td>\n",
       "      <td>live</td>\n",
       "      <td>goblin-civil-war</td>\n",
       "      <td>false</td>\n",
       "      <td>GB</td>\n",
       "      <td>the United Kingdom</td>\n",
       "      <td>GBP</td>\n",
       "      <td>...</td>\n",
       "      <td>https://ksr-ugc.imgix.net/assets/010/366/868/2...</td>\n",
       "      <td>179272384</td>\n",
       "      <td>Chris Abbey @ Sally 4th</td>\n",
       "      <td>blackstone</td>\n",
       "      <td>null</td>\n",
       "      <td>null</td>\n",
       "      <td>null</td>\n",
       "      <td>null</td>\n",
       "      <td>{thumb:https://ksr-ugc.imgix.net/assets/010/36...</td>\n",
       "      <td>https://ksr-ugc.imgix.net/assets/010/366/868/2...</td>\n",
       "    </tr>\n",
       "    <tr>\n",
       "      <th>5</th>\n",
       "      <td>Danielle Duval - Le Ciel est Toilé</td>\n",
       "      <td>Voici le projet de ma mère, Danielle Duval. Da...</td>\n",
       "      <td>10000.0</td>\n",
       "      <td>11337.29</td>\n",
       "      <td>live</td>\n",
       "      <td>danielle-duval-le-ciel-est-toile</td>\n",
       "      <td>false</td>\n",
       "      <td>CA</td>\n",
       "      <td>Canada</td>\n",
       "      <td>CAD</td>\n",
       "      <td>...</td>\n",
       "      <td>https://ksr-ugc.imgix.net/assets/036/225/053/7...</td>\n",
       "      <td>1743988493</td>\n",
       "      <td>Luc Laberge</td>\n",
       "      <td>danielleduvalart</td>\n",
       "      <td>null</td>\n",
       "      <td>null</td>\n",
       "      <td>null</td>\n",
       "      <td>null</td>\n",
       "      <td>{thumb:https://ksr-ugc.imgix.net/assets/036/22...</td>\n",
       "      <td>https://ksr-ugc.imgix.net/assets/036/225/053/7...</td>\n",
       "    </tr>\n",
       "    <tr>\n",
       "      <th>6</th>\n",
       "      <td>Fresh Produce Stationary: Pins, Tapes, Sticker...</td>\n",
       "      <td>Adorable and fresh, these fruits and veggies m...</td>\n",
       "      <td>2000.0</td>\n",
       "      <td>3291.0</td>\n",
       "      <td>live</td>\n",
       "      <td>fresh-produce-stationary-pins-tapes-stickers-a...</td>\n",
       "      <td>false</td>\n",
       "      <td>US</td>\n",
       "      <td>the United States</td>\n",
       "      <td>USD</td>\n",
       "      <td>...</td>\n",
       "      <td>https://ksr-ugc.imgix.net/assets/030/400/335/7...</td>\n",
       "      <td>643370180</td>\n",
       "      <td>Stars and Sprinkles</td>\n",
       "      <td>starsandsprinkles</td>\n",
       "      <td>null</td>\n",
       "      <td>null</td>\n",
       "      <td>null</td>\n",
       "      <td>null</td>\n",
       "      <td>{thumb:https://ksr-ugc.imgix.net/assets/030/40...</td>\n",
       "      <td>https://ksr-ugc.imgix.net/assets/030/400/335/7...</td>\n",
       "    </tr>\n",
       "    <tr>\n",
       "      <th>7</th>\n",
       "      <td>RB White - Comic book covers AGAIN</td>\n",
       "      <td>2nd Comic book with variant cover illustration...</td>\n",
       "      <td>3000.0</td>\n",
       "      <td>15473.29</td>\n",
       "      <td>live</td>\n",
       "      <td>rb-white-comic-book-covers-again</td>\n",
       "      <td>false</td>\n",
       "      <td>CA</td>\n",
       "      <td>Canada</td>\n",
       "      <td>CAD</td>\n",
       "      <td>...</td>\n",
       "      <td>https://ksr-ugc.imgix.net/assets/006/937/139/2...</td>\n",
       "      <td>58475264</td>\n",
       "      <td>RB White</td>\n",
       "      <td>rbwhite</td>\n",
       "      <td>null</td>\n",
       "      <td>null</td>\n",
       "      <td>null</td>\n",
       "      <td>null</td>\n",
       "      <td>{thumb:https://ksr-ugc.imgix.net/assets/006/93...</td>\n",
       "      <td>https://ksr-ugc.imgix.net/assets/006/937/139/2...</td>\n",
       "    </tr>\n",
       "    <tr>\n",
       "      <th>8</th>\n",
       "      <td>Pocket Tony Enamel Pin Series</td>\n",
       "      <td>Tony, Tony, and more Tony ✧･ﾟ</td>\n",
       "      <td>900.0</td>\n",
       "      <td>14982.0</td>\n",
       "      <td>live</td>\n",
       "      <td>pocket-tony-enamel-pin-series</td>\n",
       "      <td>false</td>\n",
       "      <td>US</td>\n",
       "      <td>the United States</td>\n",
       "      <td>USD</td>\n",
       "      <td>...</td>\n",
       "      <td>https://ksr-ugc.imgix.net/assets/032/235/715/7...</td>\n",
       "      <td>396652360</td>\n",
       "      <td>wspace</td>\n",
       "      <td>wspace</td>\n",
       "      <td>null</td>\n",
       "      <td>null</td>\n",
       "      <td>null</td>\n",
       "      <td>null</td>\n",
       "      <td>{thumb:https://ksr-ugc.imgix.net/assets/032/23...</td>\n",
       "      <td>https://ksr-ugc.imgix.net/assets/032/235/715/7...</td>\n",
       "    </tr>\n",
       "  </tbody>\n",
       "</table>\n",
       "<p>9 rows × 43 columns</p>\n",
       "</div>"
      ],
      "text/plain": [
       "                                        project_name  \\\n",
       "0                             Make 100: Physics 1885   \n",
       "1                                Shimmering Basin #2   \n",
       "2                        Starless Vampire Music Film   \n",
       "3              LINE ; MASS - Artbook by Alberto Ruiz   \n",
       "4                                   Goblin Civil War   \n",
       "5                 Danielle Duval - Le Ciel est Toilé   \n",
       "6  Fresh Produce Stationary: Pins, Tapes, Sticker...   \n",
       "7                 RB White - Comic book covers AGAIN   \n",
       "8                      Pocket Tony Enamel Pin Series   \n",
       "\n",
       "                                       project_blurb project_goal  \\\n",
       "0  Restoring a forgotten scientific atlas from th...       1300.0   \n",
       "1  Shimmering Basin #2 returns the reader to Shje...       2000.0   \n",
       "2  Brianna Knickerbocker's known for her voice ac...      22999.0   \n",
       "3  The new and massive collection of over 400 pag...      20000.0   \n",
       "4  An original set of rules and miniatures for ga...       1000.0   \n",
       "5  Voici le projet de ma mère, Danielle Duval. Da...      10000.0   \n",
       "6  Adorable and fresh, these fruits and veggies m...       2000.0   \n",
       "7  2nd Comic book with variant cover illustration...       3000.0   \n",
       "8                      Tony, Tony, and more Tony ✧･ﾟ        900.0   \n",
       "\n",
       "  project_pledged project_state  \\\n",
       "0         13378.0          live   \n",
       "1         2036.29          live   \n",
       "2         23348.0          live   \n",
       "3        111219.0          live   \n",
       "4          1000.0          live   \n",
       "5        11337.29          live   \n",
       "6          3291.0          live   \n",
       "7        15473.29          live   \n",
       "8         14982.0          live   \n",
       "\n",
       "                                        project_slug  \\\n",
       "0                              make-100-physics-1885   \n",
       "1                                 shimmering-basin-2   \n",
       "2                              starless-music-videos   \n",
       "3                                        lineandmass   \n",
       "4                                   goblin-civil-war   \n",
       "5                   danielle-duval-le-ciel-est-toile   \n",
       "6  fresh-produce-stationary-pins-tapes-stickers-a...   \n",
       "7                   rb-white-comic-book-covers-again   \n",
       "8                      pocket-tony-enamel-pin-series   \n",
       "\n",
       "  project_disable_communication project_country  \\\n",
       "0                         false              ES   \n",
       "1                         false              CA   \n",
       "2                         false              US   \n",
       "3                         false              FR   \n",
       "4                         false              GB   \n",
       "5                         false              CA   \n",
       "6                         false              US   \n",
       "7                         false              CA   \n",
       "8                         false              US   \n",
       "\n",
       "  project_country_displayable_name project_currency  ...  \\\n",
       "0                            Spain              EUR  ...   \n",
       "1                           Canada              CAD  ...   \n",
       "2                the United States              USD  ...   \n",
       "3                           France              EUR  ...   \n",
       "4               the United Kingdom              GBP  ...   \n",
       "5                           Canada              CAD  ...   \n",
       "6                the United States              USD  ...   \n",
       "7                           Canada              CAD  ...   \n",
       "8                the United States              USD  ...   \n",
       "\n",
       "                                       creator_small  creator_id  \\\n",
       "0  https://ksr-ugc.imgix.net/assets/010/365/358/1...   413661267   \n",
       "1  https://ksr-ugc.imgix.net/assets/030/124/176/7...  1401550725   \n",
       "2  https://ksr-ugc.imgix.net/assets/035/794/750/1...   200708175   \n",
       "3  https://ksr-ugc.imgix.net/assets/008/446/593/5...  1580441778   \n",
       "4  https://ksr-ugc.imgix.net/assets/010/366/868/2...   179272384   \n",
       "5  https://ksr-ugc.imgix.net/assets/036/225/053/7...  1743988493   \n",
       "6  https://ksr-ugc.imgix.net/assets/030/400/335/7...   643370180   \n",
       "7  https://ksr-ugc.imgix.net/assets/006/937/139/2...    58475264   \n",
       "8  https://ksr-ugc.imgix.net/assets/032/235/715/7...   396652360   \n",
       "\n",
       "              creator_name       creator_slug creator_is_registered  \\\n",
       "0        Alejandro Polanco             alpoma                  null   \n",
       "1         Braedan Hafichuk    braedanhafichuk                  null   \n",
       "2           Starless Music      starlessmusic                  null   \n",
       "3                 Spiridon           spiridon                  null   \n",
       "4  Chris Abbey @ Sally 4th         blackstone                  null   \n",
       "5              Luc Laberge   danielleduvalart                  null   \n",
       "6      Stars and Sprinkles  starsandsprinkles                  null   \n",
       "7                 RB White            rbwhite                  null   \n",
       "8                   wspace             wspace                  null   \n",
       "\n",
       "  creator_is_email_verified creator_chosen_currency creator_is_superbacker  \\\n",
       "0                      null                    null                   null   \n",
       "1                      null                    null                   null   \n",
       "2                      null                    null                   null   \n",
       "3                      null                    null                   null   \n",
       "4                      null                    null                   null   \n",
       "5                      null                    null                   null   \n",
       "6                      null                    null                   null   \n",
       "7                      null                    null                   null   \n",
       "8                      null                    null                   null   \n",
       "\n",
       "                                      creator_avatar  \\\n",
       "0  {thumb:https://ksr-ugc.imgix.net/assets/010/36...   \n",
       "1  {thumb:https://ksr-ugc.imgix.net/assets/030/12...   \n",
       "2  {thumb:https://ksr-ugc.imgix.net/assets/035/79...   \n",
       "3  {thumb:https://ksr-ugc.imgix.net/assets/008/44...   \n",
       "4  {thumb:https://ksr-ugc.imgix.net/assets/010/36...   \n",
       "5  {thumb:https://ksr-ugc.imgix.net/assets/036/22...   \n",
       "6  {thumb:https://ksr-ugc.imgix.net/assets/030/40...   \n",
       "7  {thumb:https://ksr-ugc.imgix.net/assets/006/93...   \n",
       "8  {thumb:https://ksr-ugc.imgix.net/assets/032/23...   \n",
       "\n",
       "                                       creator_small  \n",
       "0  https://ksr-ugc.imgix.net/assets/010/365/358/1...  \n",
       "1  https://ksr-ugc.imgix.net/assets/030/124/176/7...  \n",
       "2  https://ksr-ugc.imgix.net/assets/035/794/750/1...  \n",
       "3  https://ksr-ugc.imgix.net/assets/008/446/593/5...  \n",
       "4  https://ksr-ugc.imgix.net/assets/010/366/868/2...  \n",
       "5  https://ksr-ugc.imgix.net/assets/036/225/053/7...  \n",
       "6  https://ksr-ugc.imgix.net/assets/030/400/335/7...  \n",
       "7  https://ksr-ugc.imgix.net/assets/006/937/139/2...  \n",
       "8  https://ksr-ugc.imgix.net/assets/032/235/715/7...  \n",
       "\n",
       "[9 rows x 43 columns]"
      ]
     },
     "execution_count": 74,
     "metadata": {},
     "output_type": "execute_result"
    }
   ],
   "source": [
    "df"
   ]
  },
  {
   "cell_type": "markdown",
   "id": "ee203c7c",
   "metadata": {},
   "source": [
    "Now that we have a dataframe we drop duplicates and useless columns"
   ]
  },
  {
   "cell_type": "code",
   "execution_count": 75,
   "id": "37b081e6",
   "metadata": {},
   "outputs": [],
   "source": [
    "df = df.loc[:,~df.columns.duplicated()]"
   ]
  },
  {
   "cell_type": "code",
   "execution_count": 76,
   "id": "4556acf4",
   "metadata": {},
   "outputs": [
    {
     "name": "stderr",
     "output_type": "stream",
     "text": [
      "/var/folders/q1/v8q8_chd1rd46t7djqglmp6r0000gn/T/ipykernel_42419/2027654935.py:1: SettingWithCopyWarning: \n",
      "A value is trying to be set on a copy of a slice from a DataFrame\n",
      "\n",
      "See the caveats in the documentation: https://pandas.pydata.org/pandas-docs/stable/user_guide/indexing.html#returning-a-view-versus-a-copy\n",
      "  df.drop(['project_disable_communication','project_country_displayable_name',\n"
     ]
    }
   ],
   "source": [
    "df.drop(['project_disable_communication','project_country_displayable_name',\n",
    "         'project_currency_symbol','project_current_currency',\n",
    "         'project_currency_trailing_code','project_staff_pick','project_backers_count',\n",
    "         'project_static_usd_rate','project_converted_pledged_amount','project_fx_rate',\n",
    "         'project_usd_exchange_rate','creator_is_registered','creator_is_email_verified',\n",
    "         'creator_chosen_currency','creator_is_superbacker','creator_avatar','project_usd_pledged','project_is_starrable',\n",
    "        'creator_small','creator_slug','project_currency'],axis=1,inplace=True)"
   ]
  },
  {
   "cell_type": "code",
   "execution_count": 77,
   "id": "465e4e54",
   "metadata": {},
   "outputs": [
    {
     "data": {
      "text/html": [
       "<div>\n",
       "<style scoped>\n",
       "    .dataframe tbody tr th:only-of-type {\n",
       "        vertical-align: middle;\n",
       "    }\n",
       "\n",
       "    .dataframe tbody tr th {\n",
       "        vertical-align: top;\n",
       "    }\n",
       "\n",
       "    .dataframe thead th {\n",
       "        text-align: right;\n",
       "    }\n",
       "</style>\n",
       "<table border=\"1\" class=\"dataframe\">\n",
       "  <thead>\n",
       "    <tr style=\"text-align: right;\">\n",
       "      <th></th>\n",
       "      <th>project_name</th>\n",
       "      <th>project_blurb</th>\n",
       "      <th>project_goal</th>\n",
       "      <th>project_pledged</th>\n",
       "      <th>project_state</th>\n",
       "      <th>project_slug</th>\n",
       "      <th>project_country</th>\n",
       "      <th>project_deadline</th>\n",
       "      <th>project_state_changed_at</th>\n",
       "      <th>project_created_at</th>\n",
       "      <th>project_launched_at</th>\n",
       "      <th>creator_id</th>\n",
       "      <th>creator_name</th>\n",
       "    </tr>\n",
       "  </thead>\n",
       "  <tbody>\n",
       "    <tr>\n",
       "      <th>0</th>\n",
       "      <td>Make 100: Physics 1885</td>\n",
       "      <td>Restoring a forgotten scientific atlas from th...</td>\n",
       "      <td>1300.0</td>\n",
       "      <td>13378.0</td>\n",
       "      <td>live</td>\n",
       "      <td>make-100-physics-1885</td>\n",
       "      <td>ES</td>\n",
       "      <td>1646409238</td>\n",
       "      <td>1643817239</td>\n",
       "      <td>1643207633</td>\n",
       "      <td>1643817238</td>\n",
       "      <td>413661267</td>\n",
       "      <td>Alejandro Polanco</td>\n",
       "    </tr>\n",
       "    <tr>\n",
       "      <th>1</th>\n",
       "      <td>Shimmering Basin #2</td>\n",
       "      <td>Shimmering Basin #2 returns the reader to Shje...</td>\n",
       "      <td>2000.0</td>\n",
       "      <td>2036.29</td>\n",
       "      <td>live</td>\n",
       "      <td>shimmering-basin-2</td>\n",
       "      <td>CA</td>\n",
       "      <td>1646412346</td>\n",
       "      <td>1643820347</td>\n",
       "      <td>1642087289</td>\n",
       "      <td>1643820346</td>\n",
       "      <td>1401550725</td>\n",
       "      <td>Braedan Hafichuk</td>\n",
       "    </tr>\n",
       "    <tr>\n",
       "      <th>2</th>\n",
       "      <td>Starless Vampire Music Film</td>\n",
       "      <td>Brianna Knickerbocker's known for her voice ac...</td>\n",
       "      <td>22999.0</td>\n",
       "      <td>23348.0</td>\n",
       "      <td>live</td>\n",
       "      <td>starless-music-videos</td>\n",
       "      <td>US</td>\n",
       "      <td>1646413339</td>\n",
       "      <td>1643821341</td>\n",
       "      <td>1638233528</td>\n",
       "      <td>1643821339</td>\n",
       "      <td>200708175</td>\n",
       "      <td>Starless Music</td>\n",
       "    </tr>\n",
       "    <tr>\n",
       "      <th>3</th>\n",
       "      <td>LINE ; MASS - Artbook by Alberto Ruiz</td>\n",
       "      <td>The new and massive collection of over 400 pag...</td>\n",
       "      <td>20000.0</td>\n",
       "      <td>111219.0</td>\n",
       "      <td>live</td>\n",
       "      <td>lineandmass</td>\n",
       "      <td>FR</td>\n",
       "      <td>1646413371</td>\n",
       "      <td>1643821373</td>\n",
       "      <td>1641207976</td>\n",
       "      <td>1643821371</td>\n",
       "      <td>1580441778</td>\n",
       "      <td>Spiridon</td>\n",
       "    </tr>\n",
       "    <tr>\n",
       "      <th>4</th>\n",
       "      <td>Goblin Civil War</td>\n",
       "      <td>An original set of rules and miniatures for ga...</td>\n",
       "      <td>1000.0</td>\n",
       "      <td>1000.0</td>\n",
       "      <td>live</td>\n",
       "      <td>goblin-civil-war</td>\n",
       "      <td>GB</td>\n",
       "      <td>1646416800</td>\n",
       "      <td>1644858202</td>\n",
       "      <td>1619856514</td>\n",
       "      <td>1644858201</td>\n",
       "      <td>179272384</td>\n",
       "      <td>Chris Abbey @ Sally 4th</td>\n",
       "    </tr>\n",
       "    <tr>\n",
       "      <th>5</th>\n",
       "      <td>Danielle Duval - Le Ciel est Toilé</td>\n",
       "      <td>Voici le projet de ma mère, Danielle Duval. Da...</td>\n",
       "      <td>10000.0</td>\n",
       "      <td>11337.29</td>\n",
       "      <td>live</td>\n",
       "      <td>danielle-duval-le-ciel-est-toile</td>\n",
       "      <td>CA</td>\n",
       "      <td>1646417114</td>\n",
       "      <td>1643825115</td>\n",
       "      <td>1643659246</td>\n",
       "      <td>1643825114</td>\n",
       "      <td>1743988493</td>\n",
       "      <td>Luc Laberge</td>\n",
       "    </tr>\n",
       "    <tr>\n",
       "      <th>6</th>\n",
       "      <td>Fresh Produce Stationary: Pins, Tapes, Sticker...</td>\n",
       "      <td>Adorable and fresh, these fruits and veggies m...</td>\n",
       "      <td>2000.0</td>\n",
       "      <td>3291.0</td>\n",
       "      <td>live</td>\n",
       "      <td>fresh-produce-stationary-pins-tapes-stickers-a...</td>\n",
       "      <td>US</td>\n",
       "      <td>1646418527</td>\n",
       "      <td>1644258528</td>\n",
       "      <td>1642638216</td>\n",
       "      <td>1644258527</td>\n",
       "      <td>643370180</td>\n",
       "      <td>Stars and Sprinkles</td>\n",
       "    </tr>\n",
       "    <tr>\n",
       "      <th>7</th>\n",
       "      <td>RB White - Comic book covers AGAIN</td>\n",
       "      <td>2nd Comic book with variant cover illustration...</td>\n",
       "      <td>3000.0</td>\n",
       "      <td>15473.29</td>\n",
       "      <td>live</td>\n",
       "      <td>rb-white-comic-book-covers-again</td>\n",
       "      <td>CA</td>\n",
       "      <td>1646419124</td>\n",
       "      <td>1643827125</td>\n",
       "      <td>1643333250</td>\n",
       "      <td>1643827124</td>\n",
       "      <td>58475264</td>\n",
       "      <td>RB White</td>\n",
       "    </tr>\n",
       "    <tr>\n",
       "      <th>8</th>\n",
       "      <td>Pocket Tony Enamel Pin Series</td>\n",
       "      <td>Tony, Tony, and more Tony ✧･ﾟ</td>\n",
       "      <td>900.0</td>\n",
       "      <td>14982.0</td>\n",
       "      <td>live</td>\n",
       "      <td>pocket-tony-enamel-pin-series</td>\n",
       "      <td>US</td>\n",
       "      <td>1646420400</td>\n",
       "      <td>1645208740</td>\n",
       "      <td>1643088761</td>\n",
       "      <td>1645208739</td>\n",
       "      <td>396652360</td>\n",
       "      <td>wspace</td>\n",
       "    </tr>\n",
       "  </tbody>\n",
       "</table>\n",
       "</div>"
      ],
      "text/plain": [
       "                                        project_name  \\\n",
       "0                             Make 100: Physics 1885   \n",
       "1                                Shimmering Basin #2   \n",
       "2                        Starless Vampire Music Film   \n",
       "3              LINE ; MASS - Artbook by Alberto Ruiz   \n",
       "4                                   Goblin Civil War   \n",
       "5                 Danielle Duval - Le Ciel est Toilé   \n",
       "6  Fresh Produce Stationary: Pins, Tapes, Sticker...   \n",
       "7                 RB White - Comic book covers AGAIN   \n",
       "8                      Pocket Tony Enamel Pin Series   \n",
       "\n",
       "                                       project_blurb project_goal  \\\n",
       "0  Restoring a forgotten scientific atlas from th...       1300.0   \n",
       "1  Shimmering Basin #2 returns the reader to Shje...       2000.0   \n",
       "2  Brianna Knickerbocker's known for her voice ac...      22999.0   \n",
       "3  The new and massive collection of over 400 pag...      20000.0   \n",
       "4  An original set of rules and miniatures for ga...       1000.0   \n",
       "5  Voici le projet de ma mère, Danielle Duval. Da...      10000.0   \n",
       "6  Adorable and fresh, these fruits and veggies m...       2000.0   \n",
       "7  2nd Comic book with variant cover illustration...       3000.0   \n",
       "8                      Tony, Tony, and more Tony ✧･ﾟ        900.0   \n",
       "\n",
       "  project_pledged project_state  \\\n",
       "0         13378.0          live   \n",
       "1         2036.29          live   \n",
       "2         23348.0          live   \n",
       "3        111219.0          live   \n",
       "4          1000.0          live   \n",
       "5        11337.29          live   \n",
       "6          3291.0          live   \n",
       "7        15473.29          live   \n",
       "8         14982.0          live   \n",
       "\n",
       "                                        project_slug project_country  \\\n",
       "0                              make-100-physics-1885              ES   \n",
       "1                                 shimmering-basin-2              CA   \n",
       "2                              starless-music-videos              US   \n",
       "3                                        lineandmass              FR   \n",
       "4                                   goblin-civil-war              GB   \n",
       "5                   danielle-duval-le-ciel-est-toile              CA   \n",
       "6  fresh-produce-stationary-pins-tapes-stickers-a...              US   \n",
       "7                   rb-white-comic-book-covers-again              CA   \n",
       "8                      pocket-tony-enamel-pin-series              US   \n",
       "\n",
       "  project_deadline project_state_changed_at project_created_at  \\\n",
       "0       1646409238               1643817239         1643207633   \n",
       "1       1646412346               1643820347         1642087289   \n",
       "2       1646413339               1643821341         1638233528   \n",
       "3       1646413371               1643821373         1641207976   \n",
       "4       1646416800               1644858202         1619856514   \n",
       "5       1646417114               1643825115         1643659246   \n",
       "6       1646418527               1644258528         1642638216   \n",
       "7       1646419124               1643827125         1643333250   \n",
       "8       1646420400               1645208740         1643088761   \n",
       "\n",
       "  project_launched_at  creator_id             creator_name  \n",
       "0          1643817238   413661267        Alejandro Polanco  \n",
       "1          1643820346  1401550725         Braedan Hafichuk  \n",
       "2          1643821339   200708175           Starless Music  \n",
       "3          1643821371  1580441778                 Spiridon  \n",
       "4          1644858201   179272384  Chris Abbey @ Sally 4th  \n",
       "5          1643825114  1743988493              Luc Laberge  \n",
       "6          1644258527   643370180      Stars and Sprinkles  \n",
       "7          1643827124    58475264                 RB White  \n",
       "8          1645208739   396652360                   wspace  "
      ]
     },
     "execution_count": 77,
     "metadata": {},
     "output_type": "execute_result"
    }
   ],
   "source": [
    "df"
   ]
  },
  {
   "cell_type": "markdown",
   "id": "f3b421e6",
   "metadata": {},
   "source": [
    "Now we go to each creator and take all the link from each page, no selection is made at this point"
   ]
  },
  {
   "cell_type": "code",
   "execution_count": 78,
   "id": "c1504883",
   "metadata": {
    "scrolled": true
   },
   "outputs": [],
   "source": [
    "lst =[]\n",
    "my_dict ={}\n",
    "for i in range(0,len(df)) :\n",
    "    creator_id = str(df.loc[i]['creator_id'])\n",
    "    html = requests.get('https://www.kickstarter.com/profile/'+creator_id+'/about', headers=headers)\n",
    "    soup = BeautifulSoup(html.content, 'html.parser')\n",
    "    for a in soup.find_all('a', href=True):\n",
    "        #print(str(df.loc[i]['creator_id']))\n",
    "        lst.append((a['href'], creator_id ))\n",
    "        my_dict[creator_id]=(a['href'])"
   ]
  },
  {
   "cell_type": "markdown",
   "id": "0c254151",
   "metadata": {},
   "source": [
    "Now we want to keep just real website and remove all other links"
   ]
  },
  {
   "cell_type": "code",
   "execution_count": 79,
   "id": "0ad852d6",
   "metadata": {},
   "outputs": [],
   "source": [
    "lst2 = []\n",
    "for el in lst : \n",
    "    if is_valid(el[0]) != True :\n",
    "        lst.remove(el)\n",
    "    if el[0].find('http') != -1 :\n",
    "        lst2.append(el)"
   ]
  },
  {
   "cell_type": "markdown",
   "id": "b0651b41",
   "metadata": {},
   "source": [
    "Now that we have real website, we check every one to see if the shopify variable is in it, if not we remove it from the list"
   ]
  },
  {
   "cell_type": "code",
   "execution_count": 80,
   "id": "74079718",
   "metadata": {
    "scrolled": true
   },
   "outputs": [],
   "source": [
    "s = []\n",
    "for el in  lst2: \n",
    "    try :\n",
    "        r = requests.get(el[0])\n",
    "        t = str(r.text)\n",
    "        shopify = t.find('shopify')\n",
    "        s.append((shopify,el))\n",
    "    except requests.exceptions.SSLError:\n",
    "        pass"
   ]
  },
  {
   "cell_type": "code",
   "execution_count": 91,
   "id": "45e2bea6",
   "metadata": {},
   "outputs": [
    {
     "data": {
      "text/plain": [
       "[(-1, ('https://maptorian.com', '413661267')),\n",
       " (-1, ('http://albedopatrol.com', '179272384')),\n",
       " (1873, ('https://starsandsprinkles.shop', '643370180'))]"
      ]
     },
     "execution_count": 91,
     "metadata": {},
     "output_type": "execute_result"
    }
   ],
   "source": [
    "s"
   ]
  },
  {
   "cell_type": "code",
   "execution_count": 95,
   "id": "12e14ac2",
   "metadata": {},
   "outputs": [],
   "source": [
    "last_lst = []\n",
    "for el in s :\n",
    "    if el[0] < 0 :\n",
    "        s.remove(el)\n",
    "    else : \n",
    "        last_lst.append(el)"
   ]
  },
  {
   "cell_type": "code",
   "execution_count": 99,
   "id": "74113def",
   "metadata": {},
   "outputs": [
    {
     "data": {
      "text/plain": [
       "1"
      ]
     },
     "execution_count": 99,
     "metadata": {},
     "output_type": "execute_result"
    }
   ],
   "source": [
    "len(s)"
   ]
  },
  {
   "cell_type": "code",
   "execution_count": 100,
   "id": "596f0afb",
   "metadata": {},
   "outputs": [
    {
     "name": "stdout",
     "output_type": "stream",
     "text": [
      "1  Shopify user detected\n"
     ]
    }
   ],
   "source": [
    "if len(s) == 0 : \n",
    "    print('No shopify user for now')\n",
    "else : \n",
    "    print(len(s),' Shopify user detected')"
   ]
  },
  {
   "cell_type": "code",
   "execution_count": 78,
   "id": "c2f42f4f",
   "metadata": {},
   "outputs": [
    {
     "name": "stdout",
     "output_type": "stream",
     "text": [
      "[]\n"
     ]
    }
   ],
   "source": [
    "print(last_lst)"
   ]
  },
  {
   "cell_type": "code",
   "execution_count": 101,
   "id": "662b867c",
   "metadata": {},
   "outputs": [],
   "source": [
    "df.set_index(\"creator_id\", inplace = True)"
   ]
  },
  {
   "cell_type": "markdown",
   "id": "a60aeb2e",
   "metadata": {},
   "source": [
    "Now that we have all the shopify website, we get back all the infos from the previous DF (i use the creator_id as an index)\n",
    "and we create a Dataframe with all the infos and the valid website"
   ]
  },
  {
   "cell_type": "code",
   "execution_count": 105,
   "id": "672965d4",
   "metadata": {
    "scrolled": true
   },
   "outputs": [],
   "source": [
    "for el in s : \n",
    "    infos = el[1]"
   ]
  },
  {
   "cell_type": "code",
   "execution_count": 106,
   "id": "ff7d10ee",
   "metadata": {},
   "outputs": [],
   "source": [
    "new_df = df.loc[infos[1]]"
   ]
  },
  {
   "cell_type": "code",
   "execution_count": 107,
   "id": "3d8c65bb",
   "metadata": {},
   "outputs": [],
   "source": [
    "new_df['website'] = infos[0]"
   ]
  },
  {
   "cell_type": "code",
   "execution_count": 108,
   "id": "062494ff",
   "metadata": {},
   "outputs": [],
   "source": [
    "new_df.columns = new_df[0]"
   ]
  },
  {
   "cell_type": "code",
   "execution_count": 109,
   "id": "2093d11d",
   "metadata": {},
   "outputs": [],
   "source": [
    "new_df.columns = df.iloc[:, 0]"
   ]
  },
  {
   "cell_type": "code",
   "execution_count": 110,
   "id": "f8272a56",
   "metadata": {},
   "outputs": [
    {
     "name": "stdout",
     "output_type": "stream",
     "text": [
      "project_name                Fresh Produce Stationary: Pins, Tapes, Sticker...\n",
      "project_blurb               Adorable and fresh, these fruits and veggies m...\n",
      "project_goal                                                           2000.0\n",
      "project_pledged                                                        3291.0\n",
      "project_state                                                            live\n",
      "project_slug                fresh-produce-stationary-pins-tapes-stickers-a...\n",
      "project_country                                                            US\n",
      "project_deadline                                                   1646418527\n",
      "project_state_changed_at                                           1644258528\n",
      "project_created_at                                                 1642638216\n",
      "project_launched_at                                                1644258527\n",
      "creator_name                                              Stars and Sprinkles\n",
      "website                                        https://starsandsprinkles.shop\n",
      "Name: 643370180, dtype: object\n"
     ]
    }
   ],
   "source": [
    "print(new_df)"
   ]
  },
  {
   "cell_type": "code",
   "execution_count": 114,
   "id": "3af8c86f",
   "metadata": {},
   "outputs": [
    {
     "name": "stdout",
     "output_type": "stream",
     "text": [
      "{\n",
      "    \"project_name\":\"Fresh Produce Stationary: Pins, Tapes, Stickers ; More!\",\n",
      "    \"project_blurb\":\"Adorable and fresh, these fruits and veggies merch will brighten your day (and maybe your salad too)\",\n",
      "    \"project_goal\":\"2000.0\",\n",
      "    \"project_pledged\":\"3291.0\",\n",
      "    \"project_state\":\"live\",\n",
      "    \"project_slug\":\"fresh-produce-stationary-pins-tapes-stickers-and-more\",\n",
      "    \"project_country\":\"US\",\n",
      "    \"project_deadline\":\"1646418527\",\n",
      "    \"project_state_changed_at\":\"1644258528\",\n",
      "    \"project_created_at\":\"1642638216\",\n",
      "    \"project_launched_at\":\"1644258527\",\n",
      "    \"creator_name\":\"Stars and Sprinkles\",\n",
      "    \"website\":\"https:\\/\\/starsandsprinkles.shop\"\n",
      "}\n"
     ]
    }
   ],
   "source": [
    "result = new_df.to_json(orient=\"index\", indent=4)\n",
    "print(result)"
   ]
  },
  {
   "cell_type": "markdown",
   "id": "f2a27b34",
   "metadata": {},
   "source": [
    "And we save everything into a json document"
   ]
  },
  {
   "cell_type": "code",
   "execution_count": 117,
   "id": "c0524918",
   "metadata": {},
   "outputs": [],
   "source": [
    "with open('data.json', 'w', encoding='utf-8') as f:\n",
    "    json.dump(result, f, ensure_ascii=False, indent=4)"
   ]
  },
  {
   "cell_type": "code",
   "execution_count": 133,
   "id": "8602a48d",
   "metadata": {},
   "outputs": [],
   "source": [
    "import uuid"
   ]
  },
  {
   "cell_type": "code",
   "execution_count": 118,
   "id": "641dba0f",
   "metadata": {},
   "outputs": [],
   "source": [
    "APIKEY ='Q6QwJI6Zo7Alfp5UxKoKncwh0xu3nk2O'"
   ]
  },
  {
   "cell_type": "code",
   "execution_count": 130,
   "id": "22b55340",
   "metadata": {},
   "outputs": [],
   "source": [
    "analytics.write_key = APIKEY"
   ]
  },
  {
   "cell_type": "code",
   "execution_count": 122,
   "id": "7563270a",
   "metadata": {},
   "outputs": [],
   "source": [
    "with open(\"data.json\") as jsonFile:\n",
    "    jsonObject = json.load(jsonFile)\n",
    "    jsonFile.close()"
   ]
  },
  {
   "cell_type": "code",
   "execution_count": 127,
   "id": "a7b1c15c",
   "metadata": {},
   "outputs": [],
   "source": [
    "j = json.loads(jsonObject)"
   ]
  },
  {
   "cell_type": "code",
   "execution_count": 148,
   "id": "767adafa",
   "metadata": {},
   "outputs": [
    {
     "ename": "AttributeError",
     "evalue": "'dict' object has no attribute 'key'",
     "output_type": "error",
     "traceback": [
      "\u001b[0;31m---------------------------------------------------------------------------\u001b[0m",
      "\u001b[0;31mAttributeError\u001b[0m                            Traceback (most recent call last)",
      "Input \u001b[0;32mIn [148]\u001b[0m, in \u001b[0;36m<cell line: 1>\u001b[0;34m()\u001b[0m\n\u001b[0;32m----> 1\u001b[0m \u001b[43mj\u001b[49m\u001b[38;5;241;43m.\u001b[39;49m\u001b[43mkey\u001b[49m\n",
      "\u001b[0;31mAttributeError\u001b[0m: 'dict' object has no attribute 'key'"
     ]
    }
   ],
   "source": []
  },
  {
   "cell_type": "code",
   "execution_count": 149,
   "id": "74d24c12",
   "metadata": {},
   "outputs": [],
   "source": [
    "project_name = j['project_name']\n",
    "creator_name = j['creator_name']\n",
    "blurb = j['project_blurb']\n",
    "project_pledged = j['project_pledged']\n",
    "project_goal = j['project_goal']\n",
    "website = j['website']"
   ]
  },
  {
   "cell_type": "code",
   "execution_count": null,
   "id": "b9a494f2",
   "metadata": {},
   "outputs": [],
   "source": [
    "analytics.track('f4ca124298', 'Article Bookmarked', {\n",
    "    'title': 'Snow Fall',\n",
    "    'subtitle': 'The Avalance at Tunnel Creek',\n",
    "    'author': 'John Branch'\n",
    "})"
   ]
  },
  {
   "cell_type": "code",
   "execution_count": 145,
   "id": "6dae5dd2",
   "metadata": {},
   "outputs": [],
   "source": [
    "f = str(uuid.uuid1())"
   ]
  },
  {
   "cell_type": "code",
   "execution_count": 146,
   "id": "f4156333",
   "metadata": {},
   "outputs": [
    {
     "data": {
      "text/plain": [
       "'a2c61250-9bd7-11ec-9f6a-0e286d93875d'"
      ]
     },
     "execution_count": 146,
     "metadata": {},
     "output_type": "execute_result"
    }
   ],
   "source": [
    "call_name = 'Kickstart-Completed'"
   ]
  },
  {
   "cell_type": "code",
   "execution_count": null,
   "id": "49816437",
   "metadata": {},
   "outputs": [],
   "source": [
    "analytics.track(str(uuid.uuid1()), call_name,{\n",
    "    'Project Name': project_name,\n",
    "    'Creator Name' : creator_name,\n",
    "    'blurb' : blurb,\n",
    "    'Project Goal' : project_goal,\n",
    "    'Project Pledged':project_pledged,\n",
    "    'Website':\n",
    "} )"
   ]
  },
  {
   "cell_type": "code",
   "execution_count": null,
   "id": "a2222390",
   "metadata": {},
   "outputs": [],
   "source": []
  },
  {
   "cell_type": "code",
   "execution_count": null,
   "id": "7502345d",
   "metadata": {},
   "outputs": [],
   "source": []
  },
  {
   "cell_type": "code",
   "execution_count": 142,
   "id": "026ee717",
   "metadata": {},
   "outputs": [
    {
     "data": {
      "text/plain": [
       "UUID('6c52be9e-9bd7-11ec-9f6a-0e286d93875d')"
      ]
     },
     "execution_count": 142,
     "metadata": {},
     "output_type": "execute_result"
    }
   ],
   "source": [
    "n"
   ]
  },
  {
   "cell_type": "code",
   "execution_count": null,
   "id": "13167448",
   "metadata": {},
   "outputs": [],
   "source": []
  },
  {
   "cell_type": "code",
   "execution_count": null,
   "id": "eb8ce9d0",
   "metadata": {},
   "outputs": [],
   "source": []
  },
  {
   "cell_type": "code",
   "execution_count": 139,
   "id": "07c22ea2",
   "metadata": {},
   "outputs": [
    {
     "data": {
      "text/plain": [
       "UUID('6c52be9e-9bd7-11ec-9f6a-0e286d93875d')"
      ]
     },
     "execution_count": 139,
     "metadata": {},
     "output_type": "execute_result"
    }
   ],
   "source": []
  },
  {
   "cell_type": "code",
   "execution_count": null,
   "id": "0f4d65f3",
   "metadata": {},
   "outputs": [],
   "source": []
  },
  {
   "cell_type": "code",
   "execution_count": null,
   "id": "5b3b9c85",
   "metadata": {},
   "outputs": [],
   "source": []
  },
  {
   "cell_type": "code",
   "execution_count": null,
   "id": "88da9922",
   "metadata": {},
   "outputs": [],
   "source": []
  },
  {
   "cell_type": "code",
   "execution_count": null,
   "id": "6f95b67c",
   "metadata": {},
   "outputs": [],
   "source": []
  },
  {
   "cell_type": "code",
   "execution_count": null,
   "id": "906ead27",
   "metadata": {},
   "outputs": [],
   "source": []
  }
 ],
 "metadata": {
  "kernelspec": {
   "display_name": "gorgias",
   "language": "python",
   "name": "gorgias"
  },
  "language_info": {
   "codemirror_mode": {
    "name": "ipython",
    "version": 3
   },
   "file_extension": ".py",
   "mimetype": "text/x-python",
   "name": "python",
   "nbconvert_exporter": "python",
   "pygments_lexer": "ipython3",
   "version": "3.8.12"
  }
 },
 "nbformat": 4,
 "nbformat_minor": 5
}
