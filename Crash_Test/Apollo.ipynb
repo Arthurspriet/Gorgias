{
 "cells": [
  {
   "cell_type": "code",
   "execution_count": 84,
   "id": "130e611b",
   "metadata": {},
   "outputs": [],
   "source": [
    "from apollo import ApolloInstance\n",
    "import json"
   ]
  },
  {
   "cell_type": "code",
   "execution_count": 85,
   "id": "4002048a",
   "metadata": {},
   "outputs": [],
   "source": [
    "import pandas as pd"
   ]
  },
  {
   "cell_type": "code",
   "execution_count": 86,
   "id": "01bed0bf",
   "metadata": {},
   "outputs": [],
   "source": [
    "import requests"
   ]
  },
  {
   "cell_type": "code",
   "execution_count": 87,
   "id": "8a398cf2",
   "metadata": {},
   "outputs": [],
   "source": [
    "import re"
   ]
  },
  {
   "cell_type": "code",
   "execution_count": 88,
   "id": "98cd40d4",
   "metadata": {},
   "outputs": [],
   "source": [
    "url = \"https://api.apollo.io/v1/auth/health\""
   ]
  },
  {
   "cell_type": "code",
   "execution_count": 89,
   "id": "74eec34b",
   "metadata": {},
   "outputs": [],
   "source": [
    "APIKEY = 'Zsw8pwFdBZcUhYwSRGBQRQ'"
   ]
  },
  {
   "cell_type": "code",
   "execution_count": 90,
   "id": "2521a144",
   "metadata": {},
   "outputs": [],
   "source": [
    "querystring = {\"api_key\": APIKEY}"
   ]
  },
  {
   "cell_type": "code",
   "execution_count": 91,
   "id": "0f5822c4",
   "metadata": {},
   "outputs": [],
   "source": [
    "headers = {\n",
    "    'Cache-Control': 'no-cache',\n",
    "    'Content-Type': 'application/json'\n",
    "}"
   ]
  },
  {
   "cell_type": "code",
   "execution_count": 93,
   "id": "a0497e8b",
   "metadata": {},
   "outputs": [],
   "source": [
    "response = requests.request(\"GET\", url, headers=headers, params=querystring)\n"
   ]
  },
  {
   "cell_type": "code",
   "execution_count": 94,
   "id": "30adb1a3",
   "metadata": {},
   "outputs": [
    {
     "name": "stdout",
     "output_type": "stream",
     "text": [
      "{\"healthy\":true,\"is_logged_in\":true}\n"
     ]
    }
   ],
   "source": [
    "print(response.text)"
   ]
  },
  {
   "cell_type": "code",
   "execution_count": 95,
   "id": "80b0d0f7",
   "metadata": {},
   "outputs": [],
   "source": [
    "url = \"https://api.apollo.io/v1/people/match\"\n",
    "\n",
    "data = {\n",
    "    \"api_key\": APIKEY,\n",
    "    \"id\": \"583f2f7ed9ced98ab5bfXXXX\",\n",
    "    \"first_name\": \"Tim\",\n",
    "    \"last_name\": \"Zheng\",\n",
    "    \"organization_name\": \"Apollo\",\n",
    "    \"email\": \"name@domain.io\",\n",
    "    \"domain\": \"apollo.io\"\n",
    "}\n",
    "\n",
    "headers = {\n",
    "    'Cache-Control': 'no-cache',\n",
    "    'Content-Type': 'application/json'\n",
    "}\n",
    "\n",
    "response = requests.request(\"POST\", url, headers=headers, json=data)"
   ]
  },
  {
   "cell_type": "code",
   "execution_count": 96,
   "id": "8c57d33b",
   "metadata": {},
   "outputs": [],
   "source": [
    "with open(\"data.json\") as jsonFile:\n",
    "    jsonObject = json.load(jsonFile)\n",
    "    jsonFile.close()\n",
    "j = json.loads(jsonObject)"
   ]
  },
  {
   "cell_type": "code",
   "execution_count": 97,
   "id": "eea86b1d",
   "metadata": {},
   "outputs": [
    {
     "data": {
      "text/plain": [
       "str"
      ]
     },
     "execution_count": 97,
     "metadata": {},
     "output_type": "execute_result"
    }
   ],
   "source": [
    "type(jsonObject)"
   ]
  },
  {
   "cell_type": "code",
   "execution_count": 98,
   "id": "11bae53b",
   "metadata": {},
   "outputs": [
    {
     "data": {
      "text/plain": [
       "dict"
      ]
     },
     "execution_count": 98,
     "metadata": {},
     "output_type": "execute_result"
    }
   ],
   "source": [
    "type(j)"
   ]
  },
  {
   "cell_type": "code",
   "execution_count": 99,
   "id": "1ef78b36",
   "metadata": {},
   "outputs": [
    {
     "name": "stdout",
     "output_type": "stream",
     "text": [
      "{'project_name': 'Fresh Produce Stationary: Pins, Tapes, Stickers ; More!', 'project_blurb': 'Adorable and fresh, these fruits and veggies merch will brighten your day (and maybe your salad too)', 'project_goal': '2000.0', 'project_pledged': '3291.0', 'project_state': 'live', 'project_slug': 'fresh-produce-stationary-pins-tapes-stickers-and-more', 'project_country': 'US', 'project_deadline': '1646418527', 'project_state_changed_at': '1644258528', 'project_created_at': '1642638216', 'project_launched_at': '1644258527', 'creator_name': 'Stars and Sprinkles', 'website': 'https://starsandsprinkles.shop'}\n"
     ]
    }
   ],
   "source": [
    "print(j)"
   ]
  },
  {
   "cell_type": "code",
   "execution_count": 100,
   "id": "3709015e",
   "metadata": {},
   "outputs": [],
   "source": [
    "name = 'Alejandro Polanco'"
   ]
  },
  {
   "cell_type": "code",
   "execution_count": 101,
   "id": "627bf235",
   "metadata": {},
   "outputs": [],
   "source": [
    "n = name.split(' ')"
   ]
  },
  {
   "cell_type": "code",
   "execution_count": 108,
   "id": "4ae8fb0e",
   "metadata": {},
   "outputs": [],
   "source": [
    "def get_name(cell) : \n",
    "    name = cell.split(' ')\n",
    "    first_name = name[0]\n",
    "    last_name = name[1]\n",
    "    return first_name, last_name"
   ]
  },
  {
   "cell_type": "code",
   "execution_count": 102,
   "id": "1e9684da",
   "metadata": {},
   "outputs": [],
   "source": [
    "first_name = n[0]\n",
    "last_name = n[1]"
   ]
  },
  {
   "cell_type": "code",
   "execution_count": 103,
   "id": "6249f023",
   "metadata": {},
   "outputs": [
    {
     "data": {
      "text/plain": [
       "('Alejandro', 'Polanco')"
      ]
     },
     "execution_count": 103,
     "metadata": {},
     "output_type": "execute_result"
    }
   ],
   "source": [
    "first_name, last_name"
   ]
  },
  {
   "cell_type": "markdown",
   "id": "10d69875",
   "metadata": {},
   "source": [
    "Apollo Request"
   ]
  },
  {
   "cell_type": "code",
   "execution_count": 12,
   "id": "4b779f2b",
   "metadata": {},
   "outputs": [],
   "source": [
    "url = \"https://api.apollo.io/v1/people/match\""
   ]
  },
  {
   "cell_type": "code",
   "execution_count": 34,
   "id": "19ddae1c",
   "metadata": {},
   "outputs": [],
   "source": [
    "data = {\n",
    "    \"api_key\": APIKEY,\n",
    "    \"first_name\": first_name,\n",
    "    \"last_name\": last_name,\n",
    "\n",
    "}\n",
    "response = requests.request(\"POST\", url, headers=headers, json=data)"
   ]
  },
  {
   "cell_type": "code",
   "execution_count": 35,
   "id": "36adb649",
   "metadata": {},
   "outputs": [
    {
     "name": "stdout",
     "output_type": "stream",
     "text": [
      "{\"person\":{\"id\":\"6223a381e66ab000f8e96a1e\",\"first_name\":\"Alejandro\",\"last_name\":\"Polanco\",\"name\":\"Alejandro Polanco\",\"linkedin_url\":null,\"title\":null,\"email_status\":null,\"photo_url\":null,\"twitter_url\":null,\"github_url\":null,\"facebook_url\":null,\"extrapolated_email_confidence\":0.0,\"headline\":null,\"email\":null,\"organization_id\":null,\"revealed_for_current_team\":true}}\n"
     ]
    }
   ],
   "source": [
    "print(response.text)"
   ]
  },
  {
   "cell_type": "code",
   "execution_count": 36,
   "id": "671fb267",
   "metadata": {},
   "outputs": [
    {
     "data": {
      "text/plain": [
       "b'{\"person\":{\"id\":\"6223a381e66ab000f8e96a1e\",\"first_name\":\"Alejandro\",\"last_name\":\"Polanco\",\"name\":\"Alejandro Polanco\",\"linkedin_url\":null,\"title\":null,\"email_status\":null,\"photo_url\":null,\"twitter_url\":null,\"github_url\":null,\"facebook_url\":null,\"extrapolated_email_confidence\":0.0,\"headline\":null,\"email\":null,\"organization_id\":null,\"revealed_for_current_team\":true}}'"
      ]
     },
     "execution_count": 36,
     "metadata": {},
     "output_type": "execute_result"
    }
   ],
   "source": [
    "response.content"
   ]
  },
  {
   "cell_type": "code",
   "execution_count": 39,
   "id": "71356e02",
   "metadata": {},
   "outputs": [],
   "source": [
    "v = response.text"
   ]
  },
  {
   "cell_type": "code",
   "execution_count": 40,
   "id": "a8591344",
   "metadata": {},
   "outputs": [],
   "source": [
    "t = json.loads(v)"
   ]
  },
  {
   "cell_type": "code",
   "execution_count": 47,
   "id": "a14278d2",
   "metadata": {},
   "outputs": [
    {
     "data": {
      "text/plain": [
       "dict"
      ]
     },
     "execution_count": 47,
     "metadata": {},
     "output_type": "execute_result"
    }
   ],
   "source": [
    "type(t)"
   ]
  },
  {
   "cell_type": "code",
   "execution_count": null,
   "id": "b399a88f",
   "metadata": {},
   "outputs": [],
   "source": []
  },
  {
   "cell_type": "code",
   "execution_count": 68,
   "id": "3dd940d2",
   "metadata": {},
   "outputs": [
    {
     "name": "stdout",
     "output_type": "stream",
     "text": [
      "1\n"
     ]
    }
   ],
   "source": [
    "print(len(t))"
   ]
  },
  {
   "cell_type": "code",
   "execution_count": 53,
   "id": "0b36bb84",
   "metadata": {},
   "outputs": [],
   "source": [
    "t['person']['email']"
   ]
  },
  {
   "cell_type": "code",
   "execution_count": 67,
   "id": "20b78a18",
   "metadata": {},
   "outputs": [
    {
     "ename": "AttributeError",
     "evalue": "'dict' object has no attribute 'find'",
     "output_type": "error",
     "traceback": [
      "\u001b[0;31m---------------------------------------------------------------------------\u001b[0m",
      "\u001b[0;31mAttributeError\u001b[0m                            Traceback (most recent call last)",
      "Input \u001b[0;32mIn [67]\u001b[0m, in \u001b[0;36m<cell line: 1>\u001b[0;34m()\u001b[0m\n\u001b[0;32m----> 1\u001b[0m \u001b[43mt\u001b[49m\u001b[38;5;241;43m.\u001b[39;49m\u001b[43mfind\u001b[49m(\u001b[38;5;124m'\u001b[39m\u001b[38;5;124memail\u001b[39m\u001b[38;5;124m'\u001b[39m)\n",
      "\u001b[0;31mAttributeError\u001b[0m: 'dict' object has no attribute 'find'"
     ]
    }
   ],
   "source": [
    "t.find('email')"
   ]
  },
  {
   "cell_type": "code",
   "execution_count": 57,
   "id": "8a90fdbc",
   "metadata": {},
   "outputs": [],
   "source": [
    "g = pd.DataFrame(t)"
   ]
  },
  {
   "cell_type": "code",
   "execution_count": 60,
   "id": "697c106f",
   "metadata": {},
   "outputs": [
    {
     "data": {
      "text/plain": [
       "Index(['person'], dtype='object')"
      ]
     },
     "execution_count": 60,
     "metadata": {},
     "output_type": "execute_result"
    }
   ],
   "source": [
    "g.columns"
   ]
  },
  {
   "cell_type": "code",
   "execution_count": 80,
   "id": "3d3803c2",
   "metadata": {},
   "outputs": [],
   "source": [
    "def find_email(string) : \n",
    "    match = re.search(r'[\\w.+-]+@[\\w-]+\\.[\\w.-]+', string)\n",
    "    return match"
   ]
  },
  {
   "cell_type": "code",
   "execution_count": 79,
   "id": "11d7fe0c",
   "metadata": {},
   "outputs": [],
   "source": [
    "string ='this is a string for test and quite long just to see if it can find arthurspriet2601997@gmail.com'"
   ]
  },
  {
   "cell_type": "code",
   "execution_count": 83,
   "id": "b7340870",
   "metadata": {},
   "outputs": [
    {
     "data": {
      "text/plain": [
       "<re.Match object; span=(68, 97), match='arthurspriet2601997@gmail.com'>"
      ]
     },
     "execution_count": 83,
     "metadata": {},
     "output_type": "execute_result"
    }
   ],
   "source": [
    "find_email(string)"
   ]
  },
  {
   "cell_type": "code",
   "execution_count": 104,
   "id": "4d0b2774",
   "metadata": {},
   "outputs": [],
   "source": [
    "dicti = {\"1\":\"Arthur Spriet\",\n",
    "        \"2\":\"Steve Jobs\",\n",
    "        \"3\": \"steve Woz\",\n",
    "        \"4\": \"Xavier Niel\",\n",
    "        \"5\": \"Elon Musk\",\n",
    "        \"6\": \"Bill Gates\"}"
   ]
  },
  {
   "cell_type": "code",
   "execution_count": 112,
   "id": "1ef05e95",
   "metadata": {
    "scrolled": true
   },
   "outputs": [],
   "source": [
    "for name in dicti : \n",
    "    n.append(get_name(dicti[name]))"
   ]
  },
  {
   "cell_type": "code",
   "execution_count": 113,
   "id": "b8794376",
   "metadata": {},
   "outputs": [
    {
     "name": "stdout",
     "output_type": "stream",
     "text": [
      "['Alejandro', 'Polanco', ('Arthur', 'Spriet'), ('Steve', 'Jobs'), ('steve', 'Woz'), ('Xavier', 'Niel'), ('Elon', 'Musk'), ('Bill', 'Gates')]\n"
     ]
    }
   ],
   "source": [
    "print(n)"
   ]
  },
  {
   "cell_type": "code",
   "execution_count": 110,
   "id": "506f116f",
   "metadata": {},
   "outputs": [
    {
     "name": "stdout",
     "output_type": "stream",
     "text": [
      "Arthur Spriet\n",
      "Steve Jobs\n",
      "steve Woz\n",
      "Xavier Niel\n",
      "Elon Musk\n",
      "Bill Gates\n"
     ]
    }
   ],
   "source": [
    "for name in dicti : \n",
    "    print(dicti[name])"
   ]
  },
  {
   "cell_type": "code",
   "execution_count": 114,
   "id": "a900578d",
   "metadata": {},
   "outputs": [],
   "source": [
    "from datetime import date"
   ]
  },
  {
   "cell_type": "code",
   "execution_count": 116,
   "id": "ac783e71",
   "metadata": {},
   "outputs": [],
   "source": [
    "date = '644258527'"
   ]
  },
  {
   "cell_type": "code",
   "execution_count": 117,
   "id": "e32658db",
   "metadata": {},
   "outputs": [
    {
     "ename": "AttributeError",
     "evalue": "'str' object has no attribute 'to_datetime'",
     "output_type": "error",
     "traceback": [
      "\u001b[0;31m---------------------------------------------------------------------------\u001b[0m",
      "\u001b[0;31mAttributeError\u001b[0m                            Traceback (most recent call last)",
      "Input \u001b[0;32mIn [117]\u001b[0m, in \u001b[0;36m<cell line: 1>\u001b[0;34m()\u001b[0m\n\u001b[0;32m----> 1\u001b[0m \u001b[43mdate\u001b[49m\u001b[38;5;241;43m.\u001b[39;49m\u001b[43mto_datetime\u001b[49m()\n",
      "\u001b[0;31mAttributeError\u001b[0m: 'str' object has no attribute 'to_datetime'"
     ]
    }
   ],
   "source": [
    "date.to_datetime()"
   ]
  },
  {
   "cell_type": "code",
   "execution_count": null,
   "id": "b597f570",
   "metadata": {},
   "outputs": [],
   "source": []
  },
  {
   "cell_type": "code",
   "execution_count": null,
   "id": "09dba583",
   "metadata": {},
   "outputs": [],
   "source": []
  },
  {
   "cell_type": "code",
   "execution_count": null,
   "id": "61a55b34",
   "metadata": {},
   "outputs": [],
   "source": []
  }
 ],
 "metadata": {
  "kernelspec": {
   "display_name": "gorgias",
   "language": "python",
   "name": "gorgias"
  },
  "language_info": {
   "codemirror_mode": {
    "name": "ipython",
    "version": 3
   },
   "file_extension": ".py",
   "mimetype": "text/x-python",
   "name": "python",
   "nbconvert_exporter": "python",
   "pygments_lexer": "ipython3",
   "version": "3.8.12"
  }
 },
 "nbformat": 4,
 "nbformat_minor": 5
}
