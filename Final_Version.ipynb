{
 "cells": [
  {
   "cell_type": "code",
   "execution_count": 261,
   "id": "2f1b5798",
   "metadata": {},
   "outputs": [],
   "source": [
    "import pandas as pd\n",
    "from bs4 import BeautifulSoup\n",
    "import urllib\n",
    "from urllib.request import Request, urlopen, urlparse\n",
    "import re\n",
    "import time\n",
    "import requests\n",
    "import json"
   ]
  },
  {
   "cell_type": "code",
   "execution_count": 262,
   "id": "186dba68",
   "metadata": {},
   "outputs": [],
   "source": [
    "url ='https://www.kickstarter.com/discover/advanced?raised=2&sort=end_date&seed=2743718&page=1'\n",
    "headers = {'User-Agent': 'Mozilla/5.0 (Macintosh; Intel Mac OS X 10_11_5) AppleWebKit/537.36 (KHTML, like Gecko) Chrome/50.0.2661.102 Safari/537.36'}"
   ]
  },
  {
   "cell_type": "code",
   "execution_count": 263,
   "id": "ee686892",
   "metadata": {},
   "outputs": [],
   "source": [
    "def engine(pages) : \n",
    "    url = url ='https://www.kickstarter.com/discover/advanced?raised=2&sort=enddate&seed=2743718&page='\n",
    "    headers = {'User-Agent': 'Mozilla/5.0 (Macintosh; Intel Mac OS X 10_11_5) AppleWebKit/537.36 (KHTML, like Gecko) Chrome/50.0.2661.102 Safari/537.36'}\n",
    "    lst = []\n",
    "    for i in range(1,pages) :\n",
    "        r = requests.get(url+str(i),headers=headers)\n",
    "        soup = BeautifulSoup(r.content, 'html.parser')\n",
    "        lst.append(soup)\n",
    "        i =+ 1   \n",
    "    return lst"
   ]
  },
  {
   "cell_type": "code",
   "execution_count": 264,
   "id": "660972de",
   "metadata": {},
   "outputs": [],
   "source": [
    "def scraper_prototype(text_profile, prefix):\n",
    "\n",
    "    if '\"name\"' in text_profile:\n",
    "        text_profile = re.sub('\"', '', text_profile)\n",
    "\n",
    "    text2 = text_profile.split(',')\n",
    "    dummy2 = [re.findall('[A-Za-z0-9_]+:', ww) for ww in text2]\n",
    "    itemname = [dum_part[0] for dum_part in dummy2 if len(dum_part) > 0]\n",
    "    ans_array = [re.search(xxy1+'(.*?)'+xxy2, text_profile).group(1).rstrip(',')\n",
    "                 for xxy1, xxy2 in zip(itemname[:-1], itemname[1:])]\n",
    "    itemnames = [x.rstrip(':') for x in itemname]\n",
    "\n",
    "    info_dict = dict()\n",
    "    for item, ans in zip(itemnames, ans_array):\n",
    "        info_dict[prefix+'_'+item] = ans\n",
    "    return info_dict"
   ]
  },
  {
   "cell_type": "code",
   "execution_count": 265,
   "id": "c8f71bb0",
   "metadata": {},
   "outputs": [],
   "source": [
    "def to_string(container) : \n",
    "    whole_string = str(container).replace('&amp', '').replace('&quot;', '')\n",
    "    return whole_string"
   ]
  },
  {
   "cell_type": "code",
   "execution_count": 266,
   "id": "5de20bd9",
   "metadata": {},
   "outputs": [],
   "source": [
    "def get_name(whole_string) : \n",
    "    if '\"name\"' in whole_string:\n",
    "        project_info = '\"name\"' + re.findall('\"name\"(.+?)\"creator\"', whole_string)[0]\n",
    "    else:\n",
    "        project_info = 'name' + re.findall('name(.+?)creator', whole_string)[0]\n",
    "    project_info_dict = scraper_prototype(project_info, 'project')\n",
    "    df1 = pd.DataFrame.from_dict(project_info_dict, orient='index').transpose()\n",
    "    return df1"
   ]
  },
  {
   "cell_type": "code",
   "execution_count": 267,
   "id": "e6366779",
   "metadata": {},
   "outputs": [],
   "source": [
    "def get_creator(whole_string) : \n",
    "    if '\"creator\"' in whole_string:\n",
    "        creator_string = re.findall(r'\\\"creator\\\"\\:\\{(.+?)\\}', whole_string)[0]\n",
    "    else:\n",
    "        creator_string = re.findall(r'creator\\:\\{(.+?)\\}', whole_string)[0]\n",
    "    creator_info_dict = scraper_prototype(creator_string, 'creator')\n",
    "    creator_info_dict['creator_slug'] = creator_info_dict.get('creator_slug', 'Null')\n",
    "    df2 = pd.DataFrame.from_dict(creator_info_dict, orient='index').transpose()\n",
    "    \n",
    "    return df2"
   ]
  },
  {
   "cell_type": "code",
   "execution_count": 268,
   "id": "838e97a5",
   "metadata": {},
   "outputs": [],
   "source": [
    "def get_location(whole_string) : \n",
    "    if '\"location\"' in whole_string:\n",
    "        location_string = re.findall(r'\\\"location\\\"\\:\\{(.+?)\\}', whole_string)[0]\n",
    "    else:\n",
    "        location_string = re.findall(r'location\\:\\{(.+?)\\}', whole_string)[0]\n",
    "    location_info_dict = scraper_prototype(location_string, 'location')\n",
    "    df3 = pd.DataFrame.from_dict(location_info_dict, orient='index').transpose()\n",
    "    return df3"
   ]
  },
  {
   "cell_type": "code",
   "execution_count": 269,
   "id": "3c87ed71",
   "metadata": {},
   "outputs": [],
   "source": [
    "def make_a_row(df1,df2,df3) : \n",
    "    df = pd.concat((df1, df2, df3), axis=1)\n",
    "    return df"
   ]
  },
  {
   "cell_type": "code",
   "execution_count": 270,
   "id": "f6db129b",
   "metadata": {},
   "outputs": [],
   "source": [
    "def row_flow(container) : \n",
    "    string = to_string(container)\n",
    "    name = get_name(string)\n",
    "    creator = get_creator(string)\n",
    "    location = get_creator(string)\n",
    "    #profile = get_profile(string)\n",
    "    row = make_a_row(name,creator,location)\n",
    "    return row"
   ]
  },
  {
   "cell_type": "code",
   "execution_count": 271,
   "id": "8ab36ab0",
   "metadata": {},
   "outputs": [],
   "source": [
    "def is_valid(url):\n",
    "    parsed = urlparse(url)\n",
    "    return bool(parsed.netloc) and bool(parsed.scheme)"
   ]
  },
  {
   "cell_type": "code",
   "execution_count": 272,
   "id": "9dc38b27",
   "metadata": {},
   "outputs": [
    {
     "name": "stdout",
     "output_type": "stream",
     "text": [
      "Reading the Website\n"
     ]
    }
   ],
   "source": [
    "r = requests.get(url, headers=headers)\n",
    "soup = BeautifulSoup(r.content, 'html.parser')\n",
    "if r.status_code == 200 : \n",
    "    print('Reading the Website')\n",
    "else : \n",
    "    print('Something went wrong')"
   ]
  },
  {
   "cell_type": "code",
   "execution_count": 273,
   "id": "5e684bfd",
   "metadata": {},
   "outputs": [],
   "source": [
    "containers = soup.find_all('div', class_=\"js-react-proj-card\")"
   ]
  },
  {
   "cell_type": "code",
   "execution_count": 274,
   "id": "e606090f",
   "metadata": {},
   "outputs": [],
   "source": [
    "row = row_flow(containers[0])\n",
    "row0 = row_flow(containers[1])\n",
    "row1 = row_flow(containers[2])\n",
    "row2 = row_flow(containers[3])\n",
    "row3 = row_flow(containers[4])\n",
    "row4 = row_flow(containers[5])\n",
    "row5 = row_flow(containers[6])\n",
    "row6 = row_flow(containers[7])\n",
    "row7 = row_flow(containers[8])\n",
    "row8 = row_flow(containers[9])\n",
    "row9 = row_flow(containers[10])\n",
    "row10 = row_flow(containers[11])"
   ]
  },
  {
   "cell_type": "code",
   "execution_count": 286,
   "id": "687689d2",
   "metadata": {},
   "outputs": [],
   "source": [
    "df = pd.concat([row,row0,row1,row2,row3,row4,row6,row7,row8,row9,row10],ignore_index=True)"
   ]
  },
  {
   "cell_type": "code",
   "execution_count": 287,
   "id": "5654cb14",
   "metadata": {},
   "outputs": [],
   "source": [
    "df = df.loc[:,~df.columns.duplicated()]"
   ]
  },
  {
   "cell_type": "code",
   "execution_count": 289,
   "id": "21462041",
   "metadata": {},
   "outputs": [],
   "source": [
    "df.drop(['project_disable_communication','project_country_displayable_name',\n",
    "         'project_currency_symbol','project_current_currency',\n",
    "         'project_currency_trailing_code','project_staff_pick','project_backers_count',\n",
    "         'project_static_usd_rate','project_converted_pledged_amount','project_fx_rate',\n",
    "         'project_usd_exchange_rate','creator_is_registered','creator_is_email_verified',\n",
    "         'creator_chosen_currency','creator_is_superbacker','creator_avatar','project_usd_pledged','project_is_starrable',\n",
    "        'creator_small','creator_slug','project_currency'],axis=1,inplace=True)"
   ]
  },
  {
   "cell_type": "code",
   "execution_count": 317,
   "id": "e95aee50",
   "metadata": {},
   "outputs": [],
   "source": [
    "df.set_index(\"creator_id\", inplace = True)"
   ]
  },
  {
   "cell_type": "code",
   "execution_count": 291,
   "id": "957ca465",
   "metadata": {
    "scrolled": true
   },
   "outputs": [],
   "source": [
    "lst =[]\n",
    "my_dict ={}\n",
    "for i in range(0,len(df)) :\n",
    "    creator_id = str(df.loc[i]['creator_id'])\n",
    "    html = requests.get('https://www.kickstarter.com/profile/'+creator_id+'/about', headers=headers)\n",
    "    soup = BeautifulSoup(html.content, 'html.parser')\n",
    "    for a in soup.find_all('a', href=True):\n",
    "        #print(str(df.loc[i]['creator_id']))\n",
    "        lst.append((a['href'], creator_id ))\n",
    "        my_dict[creator_id]=(a['href'])"
   ]
  },
  {
   "cell_type": "code",
   "execution_count": 293,
   "id": "1d7b4b88",
   "metadata": {},
   "outputs": [],
   "source": [
    "for el in lst : \n",
    "    if is_valid(el[0]) != True :\n",
    "        lst.remove(el)\n",
    "    if el[0].find('http') != -1 :\n",
    "        lst2.append(el)\n",
    "        "
   ]
  },
  {
   "cell_type": "code",
   "execution_count": 295,
   "id": "13de6bde",
   "metadata": {
    "scrolled": true
   },
   "outputs": [],
   "source": [
    "s = []\n",
    "for el in  lst2: \n",
    "    try :\n",
    "        r = requests.get(el[0])\n",
    "        t = str(r.text)\n",
    "        shopify = t.find('shopify')\n",
    "        s.append((shopify,el))\n",
    "    except requests.exceptions.SSLError:\n",
    "        pass"
   ]
  },
  {
   "cell_type": "code",
   "execution_count": 313,
   "id": "5a8266d9",
   "metadata": {},
   "outputs": [],
   "source": [
    "last_lst = []\n",
    "for el in s : \n",
    "    if el[0] < 0 :\n",
    "        s.remove(el)\n",
    "    else : \n",
    "        last_lst.append(el)"
   ]
  },
  {
   "cell_type": "code",
   "execution_count": 314,
   "id": "c1e6022a",
   "metadata": {},
   "outputs": [
    {
     "name": "stdout",
     "output_type": "stream",
     "text": [
      "1  Shopify user detected\n"
     ]
    }
   ],
   "source": [
    "if len(s) == 0 : \n",
    "    print('No shopify user for now')\n",
    "else : \n",
    "    print(len(s),' Shopify user detected')"
   ]
  },
  {
   "cell_type": "code",
   "execution_count": 315,
   "id": "0a4991ad",
   "metadata": {},
   "outputs": [
    {
     "data": {
      "text/plain": [
       "[(1020, ('http://midnight-cards.myshopify.com/', '42914364'))]"
      ]
     },
     "execution_count": 315,
     "metadata": {},
     "output_type": "execute_result"
    }
   ],
   "source": [
    "last_lst"
   ]
  },
  {
   "cell_type": "code",
   "execution_count": 318,
   "id": "ddccc997",
   "metadata": {
    "scrolled": true
   },
   "outputs": [
    {
     "name": "stdout",
     "output_type": "stream",
     "text": [
      "project_name                                         RED RISING Playing Cards\n",
      "project_blurb               Officially-Licensed Red Rising Playing Cards! ...\n",
      "project_goal                                                          10000.0\n",
      "project_pledged                                                      125729.0\n",
      "project_state                                                            live\n",
      "project_slug                                         red-rising-playing-cards\n",
      "project_country                                                            US\n",
      "project_currency                                                          USD\n",
      "project_deadline                                                   1646326722\n",
      "project_state_changed_at                                           1643734723\n",
      "project_created_at                                                 1638743533\n",
      "project_launched_at                                                1643734722\n",
      "creator_name                               Randy Butterfield (Midnight Cards)\n",
      "creator_slug                                                 randybutterfield\n",
      "creator_small               https://ksr-ugc.imgix.net/assets/006/156/215/0...\n",
      "Name: 42914364, dtype: object\n"
     ]
    }
   ],
   "source": [
    "for el in last_lst : \n",
    "    infos = el[1]\n",
    "    print(df.loc[infos[1]])"
   ]
  },
  {
   "cell_type": "code",
   "execution_count": 319,
   "id": "d3c1def6",
   "metadata": {},
   "outputs": [],
   "source": [
    "new_df = df.loc[infos[1]]"
   ]
  },
  {
   "cell_type": "code",
   "execution_count": 320,
   "id": "7035af6c",
   "metadata": {},
   "outputs": [],
   "source": [
    "new_df['website'] = infos[0]"
   ]
  },
  {
   "cell_type": "code",
   "execution_count": 321,
   "id": "4ae18932",
   "metadata": {},
   "outputs": [
    {
     "data": {
      "text/plain": [
       "project_name                                         RED RISING Playing Cards\n",
       "project_blurb               Officially-Licensed Red Rising Playing Cards! ...\n",
       "project_goal                                                          10000.0\n",
       "project_pledged                                                      125729.0\n",
       "project_state                                                            live\n",
       "project_slug                                         red-rising-playing-cards\n",
       "project_country                                                            US\n",
       "project_currency                                                          USD\n",
       "project_deadline                                                   1646326722\n",
       "project_state_changed_at                                           1643734723\n",
       "project_created_at                                                 1638743533\n",
       "project_launched_at                                                1643734722\n",
       "creator_name                               Randy Butterfield (Midnight Cards)\n",
       "creator_slug                                                 randybutterfield\n",
       "creator_small               https://ksr-ugc.imgix.net/assets/006/156/215/0...\n",
       "website                                  http://midnight-cards.myshopify.com/\n",
       "Name: 42914364, dtype: object"
      ]
     },
     "execution_count": 321,
     "metadata": {},
     "output_type": "execute_result"
    }
   ],
   "source": [
    "new_df"
   ]
  },
  {
   "cell_type": "code",
   "execution_count": 322,
   "id": "793952ee",
   "metadata": {},
   "outputs": [],
   "source": [
    "result = new_df.to_json(orient=\"split\")"
   ]
  },
  {
   "cell_type": "code",
   "execution_count": 323,
   "id": "66255b83",
   "metadata": {},
   "outputs": [],
   "source": [
    "with open('data.json', 'w', encoding='utf-8') as f:\n",
    "    json.dump(result, f, ensure_ascii=False)"
   ]
  }
 ],
 "metadata": {
  "kernelspec": {
   "display_name": "gorgias",
   "language": "python",
   "name": "gorgias"
  },
  "language_info": {
   "codemirror_mode": {
    "name": "ipython",
    "version": 3
   },
   "file_extension": ".py",
   "mimetype": "text/x-python",
   "name": "python",
   "nbconvert_exporter": "python",
   "pygments_lexer": "ipython3",
   "version": "3.8.12"
  }
 },
 "nbformat": 4,
 "nbformat_minor": 5
}
