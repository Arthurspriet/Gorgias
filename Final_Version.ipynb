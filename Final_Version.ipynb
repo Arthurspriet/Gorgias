{
 "cells": [
  {
   "cell_type": "code",
   "execution_count": 1,
   "id": "7c9d01ab",
   "metadata": {},
   "outputs": [],
   "source": [
    "import pandas as pd\n",
    "from bs4 import BeautifulSoup\n",
    "import urllib\n",
    "from urllib.request import Request, urlopen, urlparse\n",
    "import re\n",
    "import time\n",
    "import requests"
   ]
  },
  {
   "cell_type": "code",
   "execution_count": 2,
   "id": "fe0a61d4",
   "metadata": {},
   "outputs": [],
   "source": [
    "url ='https://www.kickstarter.com/discover/advanced?raised=2&sort=end_date&seed=2743718&page=1'\n",
    "headers = {'User-Agent': 'Mozilla/5.0 (Macintosh; Intel Mac OS X 10_11_5) AppleWebKit/537.36 (KHTML, like Gecko) Chrome/50.0.2661.102 Safari/537.36'}"
   ]
  },
  {
   "cell_type": "code",
   "execution_count": 3,
   "id": "06a628b8",
   "metadata": {},
   "outputs": [],
   "source": [
    "def engine(pages) : \n",
    "    url = url ='https://www.kickstarter.com/discover/advanced?raised=2&sort=enddate&seed=2743718&page='\n",
    "    headers = {'User-Agent': 'Mozilla/5.0 (Macintosh; Intel Mac OS X 10_11_5) AppleWebKit/537.36 (KHTML, like Gecko) Chrome/50.0.2661.102 Safari/537.36'}\n",
    "    lst = []\n",
    "    for i in range(1,pages) :\n",
    "        r = requests.get(url+str(i),headers=headers)\n",
    "        soup = BeautifulSoup(r.content, 'html.parser')\n",
    "        lst.append(soup)\n",
    "        i =+ 1   \n",
    "    return lst"
   ]
  },
  {
   "cell_type": "code",
   "execution_count": 4,
   "id": "87bb82f9",
   "metadata": {},
   "outputs": [],
   "source": [
    "def scraper_prototype(text_profile, prefix):\n",
    "\n",
    "    if '\"name\"' in text_profile:\n",
    "        text_profile = re.sub('\"', '', text_profile)\n",
    "\n",
    "    text2 = text_profile.split(',')\n",
    "    dummy2 = [re.findall('[A-Za-z0-9_]+:', ww) for ww in text2]\n",
    "    itemname = [dum_part[0] for dum_part in dummy2 if len(dum_part) > 0]\n",
    "    ans_array = [re.search(xxy1+'(.*?)'+xxy2, text_profile).group(1).rstrip(',')\n",
    "                 for xxy1, xxy2 in zip(itemname[:-1], itemname[1:])]\n",
    "    itemnames = [x.rstrip(':') for x in itemname]\n",
    "\n",
    "    info_dict = dict()\n",
    "    for item, ans in zip(itemnames, ans_array):\n",
    "        info_dict[prefix+'_'+item] = ans\n",
    "    return info_dict"
   ]
  },
  {
   "cell_type": "code",
   "execution_count": 5,
   "id": "6f3f74ad",
   "metadata": {},
   "outputs": [],
   "source": [
    "def to_string(container) : \n",
    "    whole_string = str(container).replace('&amp', '').replace('&quot;', '')\n",
    "    return whole_string"
   ]
  },
  {
   "cell_type": "code",
   "execution_count": 6,
   "id": "de873719",
   "metadata": {},
   "outputs": [],
   "source": [
    "def get_name(whole_string) : \n",
    "    if '\"name\"' in whole_string:\n",
    "        project_info = '\"name\"' + re.findall('\"name\"(.+?)\"creator\"', whole_string)[0]\n",
    "    else:\n",
    "        project_info = 'name' + re.findall('name(.+?)creator', whole_string)[0]\n",
    "    project_info_dict = scraper_prototype(project_info, 'project')\n",
    "    df1 = pd.DataFrame.from_dict(project_info_dict, orient='index').transpose()\n",
    "    return df1"
   ]
  },
  {
   "cell_type": "code",
   "execution_count": 7,
   "id": "408a4c35",
   "metadata": {},
   "outputs": [],
   "source": [
    "def get_creator(whole_string) : \n",
    "    if '\"creator\"' in whole_string:\n",
    "        creator_string = re.findall(r'\\\"creator\\\"\\:\\{(.+?)\\}', whole_string)[0]\n",
    "    else:\n",
    "        creator_string = re.findall(r'creator\\:\\{(.+?)\\}', whole_string)[0]\n",
    "    creator_info_dict = scraper_prototype(creator_string, 'creator')\n",
    "    creator_info_dict['creator_slug'] = creator_info_dict.get('creator_slug', 'Null')\n",
    "    df2 = pd.DataFrame.from_dict(creator_info_dict, orient='index').transpose()\n",
    "    \n",
    "    return df2"
   ]
  },
  {
   "cell_type": "code",
   "execution_count": 8,
   "id": "9bba5155",
   "metadata": {},
   "outputs": [],
   "source": [
    "def get_location(whole_string) : \n",
    "    if '\"location\"' in whole_string:\n",
    "        location_string = re.findall(r'\\\"location\\\"\\:\\{(.+?)\\}', whole_string)[0]\n",
    "    else:\n",
    "        location_string = re.findall(r'location\\:\\{(.+?)\\}', whole_string)[0]\n",
    "    location_info_dict = scraper_prototype(location_string, 'location')\n",
    "    df3 = pd.DataFrame.from_dict(location_info_dict, orient='index').transpose()\n",
    "    return df3"
   ]
  },
  {
   "cell_type": "code",
   "execution_count": 9,
   "id": "7eeb63a4",
   "metadata": {},
   "outputs": [],
   "source": [
    "def make_a_row(df1,df2,df3) : \n",
    "    df = pd.concat((df1, df2, df3), axis=1)\n",
    "    return df"
   ]
  },
  {
   "cell_type": "code",
   "execution_count": 10,
   "id": "eebf4582",
   "metadata": {},
   "outputs": [],
   "source": [
    "def row_flow(container) : \n",
    "    string = to_string(container)\n",
    "    name = get_name(string)\n",
    "    creator = get_creator(string)\n",
    "    location = get_creator(string)\n",
    "    #profile = get_profile(string)\n",
    "    row = make_a_row(name,creator,location)\n",
    "    return row"
   ]
  },
  {
   "cell_type": "code",
   "execution_count": 11,
   "id": "3ec195ba",
   "metadata": {},
   "outputs": [],
   "source": [
    "def is_valid(url):\n",
    "    parsed = urlparse(url)\n",
    "    return bool(parsed.netloc) and bool(parsed.scheme)"
   ]
  },
  {
   "cell_type": "code",
   "execution_count": 12,
   "id": "302d3cb0",
   "metadata": {},
   "outputs": [
    {
     "name": "stdout",
     "output_type": "stream",
     "text": [
      "Reading the Website\n"
     ]
    }
   ],
   "source": [
    "r = requests.get(url, headers=headers)\n",
    "soup = BeautifulSoup(r.content, 'html.parser')\n",
    "if r.status_code == 200 : \n",
    "    print('Reading the Website')\n",
    "else : \n",
    "    print('Something went wrong')"
   ]
  },
  {
   "cell_type": "code",
   "execution_count": 14,
   "id": "d18e2301",
   "metadata": {},
   "outputs": [],
   "source": [
    "containers = soup.find_all('div', class_=\"js-react-proj-card\")"
   ]
  },
  {
   "cell_type": "code",
   "execution_count": 15,
   "id": "3fda7cf3",
   "metadata": {},
   "outputs": [],
   "source": [
    "row = row_flow(containers[0])\n",
    "row0 = row_flow(containers[1])\n",
    "row1 = row_flow(containers[2])\n",
    "row2 = row_flow(containers[3])\n",
    "row3 = row_flow(containers[4])\n",
    "row4 = row_flow(containers[5])\n",
    "row5 = row_flow(containers[6])\n",
    "row6 = row_flow(containers[7])\n",
    "row7 = row_flow(containers[8])\n",
    "row8 = row_flow(containers[9])\n",
    "row9 = row_flow(containers[10])\n",
    "row10 = row_flow(containers[11])"
   ]
  },
  {
   "cell_type": "code",
   "execution_count": 35,
   "id": "051916f6",
   "metadata": {},
   "outputs": [],
   "source": [
    "df = pd.concat([row,row0,row2,row3,row4,row6,row7,row9,row10],ignore_index=True)"
   ]
  },
  {
   "cell_type": "code",
   "execution_count": 36,
   "id": "d86c0e6b",
   "metadata": {},
   "outputs": [],
   "source": [
    "df = df.loc[:,~df.columns.duplicated()]"
   ]
  },
  {
   "cell_type": "code",
   "execution_count": 38,
   "id": "452eecf5",
   "metadata": {},
   "outputs": [],
   "source": [
    "df.drop(['project_disable_communication','project_country_displayable_name',\n",
    "         'project_currency_symbol','project_current_currency',\n",
    "         'project_currency_trailing_code','project_staff_pick','project_backers_count',\n",
    "         'project_static_usd_rate','project_converted_pledged_amount','project_fx_rate',\n",
    "         'project_usd_exchange_rate','creator_is_registered','creator_is_email_verified',\n",
    "         'creator_chosen_currency','creator_is_superbacker'],axis=1,inplace=True)"
   ]
  },
  {
   "cell_type": "code",
   "execution_count": 42,
   "id": "2820cf2b",
   "metadata": {},
   "outputs": [
    {
     "data": {
      "text/html": [
       "<div>\n",
       "<style scoped>\n",
       "    .dataframe tbody tr th:only-of-type {\n",
       "        vertical-align: middle;\n",
       "    }\n",
       "\n",
       "    .dataframe tbody tr th {\n",
       "        vertical-align: top;\n",
       "    }\n",
       "\n",
       "    .dataframe thead th {\n",
       "        text-align: right;\n",
       "    }\n",
       "</style>\n",
       "<table border=\"1\" class=\"dataframe\">\n",
       "  <thead>\n",
       "    <tr style=\"text-align: right;\">\n",
       "      <th></th>\n",
       "      <th>project_name</th>\n",
       "      <th>project_blurb</th>\n",
       "      <th>project_goal</th>\n",
       "      <th>project_pledged</th>\n",
       "      <th>project_state</th>\n",
       "      <th>project_slug</th>\n",
       "      <th>project_country</th>\n",
       "      <th>project_currency</th>\n",
       "      <th>project_deadline</th>\n",
       "      <th>project_state_changed_at</th>\n",
       "      <th>project_created_at</th>\n",
       "      <th>project_launched_at</th>\n",
       "      <th>project_is_starrable</th>\n",
       "      <th>project_usd_pledged</th>\n",
       "      <th>creator_id</th>\n",
       "      <th>creator_name</th>\n",
       "      <th>creator_slug</th>\n",
       "      <th>creator_avatar</th>\n",
       "      <th>creator_small</th>\n",
       "    </tr>\n",
       "  </thead>\n",
       "  <tbody>\n",
       "    <tr>\n",
       "      <th>0</th>\n",
       "      <td>Sea Witch Collection</td>\n",
       "      <td>A beautiful set of pins full of nautical magic</td>\n",
       "      <td>450.0</td>\n",
       "      <td>16350.0</td>\n",
       "      <td>live</td>\n",
       "      <td>sea-witch-collection</td>\n",
       "      <td>US</td>\n",
       "      <td>USD</td>\n",
       "      <td>1646316017</td>\n",
       "      <td>1643724019</td>\n",
       "      <td>1638976932</td>\n",
       "      <td>1643724017</td>\n",
       "      <td>false</td>\n",
       "      <td>16350.0</td>\n",
       "      <td>2100073</td>\n",
       "      <td>Lily Brook Lane</td>\n",
       "      <td>lilybrooklane</td>\n",
       "      <td>{thumb:https://ksr-ugc.imgix.net/assets/033/17...</td>\n",
       "      <td>https://ksr-ugc.imgix.net/assets/033/174/595/2...</td>\n",
       "    </tr>\n",
       "    <tr>\n",
       "      <th>1</th>\n",
       "      <td>GHOSTS AND GHOULS AND OTHER CREEPY THINGS</td>\n",
       "      <td>Spine-tingling tales from NeoParadoxa featurin...</td>\n",
       "      <td>1500.0</td>\n",
       "      <td>5282.0</td>\n",
       "      <td>live</td>\n",
       "      <td>ghosts-and-ghouls-and-other-creepy-things</td>\n",
       "      <td>US</td>\n",
       "      <td>USD</td>\n",
       "      <td>1646317067</td>\n",
       "      <td>1643725071</td>\n",
       "      <td>1636655045</td>\n",
       "      <td>1643725067</td>\n",
       "      <td>false</td>\n",
       "      <td>5282.0</td>\n",
       "      <td>2096699057</td>\n",
       "      <td>eSpec Books</td>\n",
       "      <td>e-specbooks</td>\n",
       "      <td>{thumb:https://ksr-ugc.imgix.net/assets/009/34...</td>\n",
       "      <td>https://ksr-ugc.imgix.net/assets/009/342/575/c...</td>\n",
       "    </tr>\n",
       "    <tr>\n",
       "      <th>2</th>\n",
       "      <td>ZOOT! : The Card Game for Word Nerds</td>\n",
       "      <td>ZOOT! is played with a deck of 118 colourful l...</td>\n",
       "      <td>5000.0</td>\n",
       "      <td>5541.29</td>\n",
       "      <td>live</td>\n",
       "      <td>zoot-the-card-game-for-word-nerds</td>\n",
       "      <td>CA</td>\n",
       "      <td>CAD</td>\n",
       "      <td>1646318100</td>\n",
       "      <td>1643726101</td>\n",
       "      <td>1604093595</td>\n",
       "      <td>1643726100</td>\n",
       "      <td>false</td>\n",
       "      <td>4350.4090387582</td>\n",
       "      <td>1659177433</td>\n",
       "      <td>Joan Krygsman</td>\n",
       "      <td>zootzoot</td>\n",
       "      <td>{thumb:https://ksr-ugc.imgix.net/assets/036/14...</td>\n",
       "      <td>https://ksr-ugc.imgix.net/assets/036/149/328/c...</td>\n",
       "    </tr>\n",
       "    <tr>\n",
       "      <th>3</th>\n",
       "      <td>Customizable Fantasy World and Region Maps for...</td>\n",
       "      <td>More than 40 world ; regional fantasy maps of ...</td>\n",
       "      <td>750.0</td>\n",
       "      <td>1844.29</td>\n",
       "      <td>live</td>\n",
       "      <td>customizable-fantasy-world-and-region-maps-for...</td>\n",
       "      <td>CA</td>\n",
       "      <td>CAD</td>\n",
       "      <td>1646318805</td>\n",
       "      <td>1645109206</td>\n",
       "      <td>1642576264</td>\n",
       "      <td>1645109205</td>\n",
       "      <td>false</td>\n",
       "      <td>1450.0149726937</td>\n",
       "      <td>1173384431</td>\n",
       "      <td>Jean Francois Senay</td>\n",
       "      <td>jfsenay</td>\n",
       "      <td>{thumb:https://ksr-ugc.imgix.net/assets/009/81...</td>\n",
       "      <td>https://ksr-ugc.imgix.net/assets/009/813/811/4...</td>\n",
       "    </tr>\n",
       "    <tr>\n",
       "      <th>4</th>\n",
       "      <td>Super Best Friend #1-2: A Superhero Adventure ...</td>\n",
       "      <td>The live-streamer sidekick of the world’s grea...</td>\n",
       "      <td>7500.0</td>\n",
       "      <td>15132.0</td>\n",
       "      <td>live</td>\n",
       "      <td>super-best-friend-1-2-a-superhero-adventure-comic</td>\n",
       "      <td>US</td>\n",
       "      <td>USD</td>\n",
       "      <td>1646319375</td>\n",
       "      <td>1643727377</td>\n",
       "      <td>1629226778</td>\n",
       "      <td>1643727375</td>\n",
       "      <td>false</td>\n",
       "      <td>15132.0</td>\n",
       "      <td>827962922</td>\n",
       "      <td>Jason Inman</td>\n",
       "      <td>jawiin</td>\n",
       "      <td>{thumb:https://ksr-ugc.imgix.net/assets/006/64...</td>\n",
       "      <td>https://ksr-ugc.imgix.net/assets/006/648/968/7...</td>\n",
       "    </tr>\n",
       "    <tr>\n",
       "      <th>5</th>\n",
       "      <td>City of Spiritdale - A Fantasy City</td>\n",
       "      <td>3D Printable STL Files, Terrain for Tabletop, ...</td>\n",
       "      <td>6300.0</td>\n",
       "      <td>142419.29</td>\n",
       "      <td>live</td>\n",
       "      <td>city-of-spiritdale-a-fantasy-city</td>\n",
       "      <td>CA</td>\n",
       "      <td>CAD</td>\n",
       "      <td>1646319622</td>\n",
       "      <td>1643727624</td>\n",
       "      <td>1641391755</td>\n",
       "      <td>1643727622</td>\n",
       "      <td>false</td>\n",
       "      <td>111811.9005699982</td>\n",
       "      <td>2145431169</td>\n",
       "      <td>TabletopTerrain</td>\n",
       "      <td>ian-margherit</td>\n",
       "      <td>{thumb:https://ksr-ugc.imgix.net/assets/035/23...</td>\n",
       "      <td>https://ksr-ugc.imgix.net/assets/035/236/461/6...</td>\n",
       "    </tr>\n",
       "    <tr>\n",
       "      <th>6</th>\n",
       "      <td>5e RPG - Tomb of the Colossus Gods - 30+ Battl...</td>\n",
       "      <td>Tomb of the Colossus Gods is a Dark Epic Fanta...</td>\n",
       "      <td>12000.0</td>\n",
       "      <td>53928.6</td>\n",
       "      <td>live</td>\n",
       "      <td>tomb-of-the-colossus-gods-campaign-and-setting...</td>\n",
       "      <td>ES</td>\n",
       "      <td>EUR</td>\n",
       "      <td>1646319636</td>\n",
       "      <td>1643727638</td>\n",
       "      <td>1622879616</td>\n",
       "      <td>1643727636</td>\n",
       "      <td>false</td>\n",
       "      <td>60193.745397852</td>\n",
       "      <td>809411887</td>\n",
       "      <td>Lion Banner Games</td>\n",
       "      <td>lionbanner</td>\n",
       "      <td>{thumb:https://ksr-ugc.imgix.net/assets/030/99...</td>\n",
       "      <td>https://ksr-ugc.imgix.net/assets/030/999/433/e...</td>\n",
       "    </tr>\n",
       "    <tr>\n",
       "      <th>7</th>\n",
       "      <td>The Magic Forest Tarot Deck</td>\n",
       "      <td>A magical tarot deck filled with gnomes and ot...</td>\n",
       "      <td>1000.0</td>\n",
       "      <td>1611.0</td>\n",
       "      <td>live</td>\n",
       "      <td>the-magic-forest-tarot-deck</td>\n",
       "      <td>US</td>\n",
       "      <td>USD</td>\n",
       "      <td>1646319675</td>\n",
       "      <td>1643727676</td>\n",
       "      <td>1634782240</td>\n",
       "      <td>1643727675</td>\n",
       "      <td>false</td>\n",
       "      <td>1611.0</td>\n",
       "      <td>199594465</td>\n",
       "      <td>Cassandra Helton</td>\n",
       "      <td>magicforesttarot</td>\n",
       "      <td>{thumb:https://ksr-ugc.imgix.net/assets/035/35...</td>\n",
       "      <td>https://ksr-ugc.imgix.net/assets/035/355/443/5...</td>\n",
       "    </tr>\n",
       "    <tr>\n",
       "      <th>8</th>\n",
       "      <td>Mossvale</td>\n",
       "      <td>Welcome to the wonderful world of Mossvale wit...</td>\n",
       "      <td>4400.0</td>\n",
       "      <td>4816.0</td>\n",
       "      <td>live</td>\n",
       "      <td>mossvale</td>\n",
       "      <td>US</td>\n",
       "      <td>USD</td>\n",
       "      <td>1646319967</td>\n",
       "      <td>1643727968</td>\n",
       "      <td>1642607272</td>\n",
       "      <td>1643727967</td>\n",
       "      <td>false</td>\n",
       "      <td>4816.0</td>\n",
       "      <td>258235766</td>\n",
       "      <td>Ageless Comics Publishing</td>\n",
       "      <td>dinothrashers2</td>\n",
       "      <td>{thumb:https://ksr-ugc.imgix.net/assets/030/03...</td>\n",
       "      <td>https://ksr-ugc.imgix.net/assets/030/034/197/9...</td>\n",
       "    </tr>\n",
       "  </tbody>\n",
       "</table>\n",
       "</div>"
      ],
      "text/plain": [
       "                                        project_name  \\\n",
       "0                               Sea Witch Collection   \n",
       "1          GHOSTS AND GHOULS AND OTHER CREEPY THINGS   \n",
       "2               ZOOT! : The Card Game for Word Nerds   \n",
       "3  Customizable Fantasy World and Region Maps for...   \n",
       "4  Super Best Friend #1-2: A Superhero Adventure ...   \n",
       "5                City of Spiritdale - A Fantasy City   \n",
       "6  5e RPG - Tomb of the Colossus Gods - 30+ Battl...   \n",
       "7                        The Magic Forest Tarot Deck   \n",
       "8                                           Mossvale   \n",
       "\n",
       "                                       project_blurb project_goal  \\\n",
       "0     A beautiful set of pins full of nautical magic        450.0   \n",
       "1  Spine-tingling tales from NeoParadoxa featurin...       1500.0   \n",
       "2  ZOOT! is played with a deck of 118 colourful l...       5000.0   \n",
       "3  More than 40 world ; regional fantasy maps of ...        750.0   \n",
       "4  The live-streamer sidekick of the world’s grea...       7500.0   \n",
       "5  3D Printable STL Files, Terrain for Tabletop, ...       6300.0   \n",
       "6  Tomb of the Colossus Gods is a Dark Epic Fanta...      12000.0   \n",
       "7  A magical tarot deck filled with gnomes and ot...       1000.0   \n",
       "8  Welcome to the wonderful world of Mossvale wit...       4400.0   \n",
       "\n",
       "  project_pledged project_state  \\\n",
       "0         16350.0          live   \n",
       "1          5282.0          live   \n",
       "2         5541.29          live   \n",
       "3         1844.29          live   \n",
       "4         15132.0          live   \n",
       "5       142419.29          live   \n",
       "6         53928.6          live   \n",
       "7          1611.0          live   \n",
       "8          4816.0          live   \n",
       "\n",
       "                                        project_slug project_country  \\\n",
       "0                               sea-witch-collection              US   \n",
       "1          ghosts-and-ghouls-and-other-creepy-things              US   \n",
       "2                  zoot-the-card-game-for-word-nerds              CA   \n",
       "3  customizable-fantasy-world-and-region-maps-for...              CA   \n",
       "4  super-best-friend-1-2-a-superhero-adventure-comic              US   \n",
       "5                  city-of-spiritdale-a-fantasy-city              CA   \n",
       "6  tomb-of-the-colossus-gods-campaign-and-setting...              ES   \n",
       "7                        the-magic-forest-tarot-deck              US   \n",
       "8                                           mossvale              US   \n",
       "\n",
       "  project_currency project_deadline project_state_changed_at  \\\n",
       "0              USD       1646316017               1643724019   \n",
       "1              USD       1646317067               1643725071   \n",
       "2              CAD       1646318100               1643726101   \n",
       "3              CAD       1646318805               1645109206   \n",
       "4              USD       1646319375               1643727377   \n",
       "5              CAD       1646319622               1643727624   \n",
       "6              EUR       1646319636               1643727638   \n",
       "7              USD       1646319675               1643727676   \n",
       "8              USD       1646319967               1643727968   \n",
       "\n",
       "  project_created_at project_launched_at project_is_starrable  \\\n",
       "0         1638976932          1643724017                false   \n",
       "1         1636655045          1643725067                false   \n",
       "2         1604093595          1643726100                false   \n",
       "3         1642576264          1645109205                false   \n",
       "4         1629226778          1643727375                false   \n",
       "5         1641391755          1643727622                false   \n",
       "6         1622879616          1643727636                false   \n",
       "7         1634782240          1643727675                false   \n",
       "8         1642607272          1643727967                false   \n",
       "\n",
       "  project_usd_pledged  creator_id               creator_name  \\\n",
       "0             16350.0     2100073            Lily Brook Lane   \n",
       "1              5282.0  2096699057                eSpec Books   \n",
       "2     4350.4090387582  1659177433              Joan Krygsman   \n",
       "3     1450.0149726937  1173384431        Jean Francois Senay   \n",
       "4             15132.0   827962922                Jason Inman   \n",
       "5   111811.9005699982  2145431169            TabletopTerrain   \n",
       "6     60193.745397852   809411887          Lion Banner Games   \n",
       "7              1611.0   199594465           Cassandra Helton   \n",
       "8              4816.0   258235766  Ageless Comics Publishing   \n",
       "\n",
       "       creator_slug                                     creator_avatar  \\\n",
       "0     lilybrooklane  {thumb:https://ksr-ugc.imgix.net/assets/033/17...   \n",
       "1       e-specbooks  {thumb:https://ksr-ugc.imgix.net/assets/009/34...   \n",
       "2          zootzoot  {thumb:https://ksr-ugc.imgix.net/assets/036/14...   \n",
       "3           jfsenay  {thumb:https://ksr-ugc.imgix.net/assets/009/81...   \n",
       "4            jawiin  {thumb:https://ksr-ugc.imgix.net/assets/006/64...   \n",
       "5     ian-margherit  {thumb:https://ksr-ugc.imgix.net/assets/035/23...   \n",
       "6        lionbanner  {thumb:https://ksr-ugc.imgix.net/assets/030/99...   \n",
       "7  magicforesttarot  {thumb:https://ksr-ugc.imgix.net/assets/035/35...   \n",
       "8    dinothrashers2  {thumb:https://ksr-ugc.imgix.net/assets/030/03...   \n",
       "\n",
       "                                       creator_small  \n",
       "0  https://ksr-ugc.imgix.net/assets/033/174/595/2...  \n",
       "1  https://ksr-ugc.imgix.net/assets/009/342/575/c...  \n",
       "2  https://ksr-ugc.imgix.net/assets/036/149/328/c...  \n",
       "3  https://ksr-ugc.imgix.net/assets/009/813/811/4...  \n",
       "4  https://ksr-ugc.imgix.net/assets/006/648/968/7...  \n",
       "5  https://ksr-ugc.imgix.net/assets/035/236/461/6...  \n",
       "6  https://ksr-ugc.imgix.net/assets/030/999/433/e...  \n",
       "7  https://ksr-ugc.imgix.net/assets/035/355/443/5...  \n",
       "8  https://ksr-ugc.imgix.net/assets/030/034/197/9...  "
      ]
     },
     "execution_count": 42,
     "metadata": {},
     "output_type": "execute_result"
    }
   ],
   "source": [
    "df"
   ]
  },
  {
   "cell_type": "code",
   "execution_count": 84,
   "id": "01f077b1",
   "metadata": {
    "scrolled": true
   },
   "outputs": [],
   "source": [
    "lst =[]\n",
    "my_dict ={}\n",
    "for i in range(0,len(df)) :\n",
    "    creator_id = str(df.loc[i]['creator_id'])\n",
    "    html = requests.get('https://www.kickstarter.com/profile/'+creator_id+'/about', headers=headers)\n",
    "    soup = BeautifulSoup(html.content, 'html.parser')\n",
    "    for a in soup.find_all('a', href=True):\n",
    "        #print(str(df.loc[i]['creator_id']))\n",
    "        lst.append((a['href'], creator_id ))\n",
    "        my_dict[creator_id]=(a['href'])"
   ]
  },
  {
   "cell_type": "code",
   "execution_count": 91,
   "id": "6013dddc",
   "metadata": {
    "scrolled": true
   },
   "outputs": [],
   "source": [
    "lst2 = []"
   ]
  },
  {
   "cell_type": "code",
   "execution_count": 92,
   "id": "dfe9d0e4",
   "metadata": {},
   "outputs": [],
   "source": [
    "for el in lst : \n",
    "    if is_valid(el[0]) != True :\n",
    "        lst.remove(el)\n",
    "    if el[0].find('http') != -1 :\n",
    "        lst2.append(el)\n",
    "        "
   ]
  },
  {
   "cell_type": "code",
   "execution_count": 93,
   "id": "aeee22d5",
   "metadata": {
    "scrolled": true
   },
   "outputs": [
    {
     "data": {
      "text/plain": [
       "[('https://www.instagram.com/lilybrooklane', '2100073'),\n",
       " ('https://www.facebook.com/E-Spec-Books-768052066586116/', '2096699057'),\n",
       " ('https://twitter.com/eSpecBooks', '2096699057'),\n",
       " ('https://especbooks.wordpress.com/', '2096699057'),\n",
       " ('https://www.patreon.com/especbooks', '2096699057'),\n",
       " ('http://especbooks.square.site/', '2096699057'),\n",
       " ('https://zootzoot.ca', '1659177433'),\n",
       " ('http://www.dungeoncreatorsets.com', '1173384431'),\n",
       " ('http://www.smalldungeonmaps.com', '1173384431'),\n",
       " ('http://www.twitter.com/Jawiin', '827962922'),\n",
       " ('http://www.geekhistorylesson.com', '827962922'),\n",
       " ('http://www.youtube.com/Jawiin', '827962922'),\n",
       " ('http://www.jasoninman.com', '827962922'),\n",
       " ('https://www.instagram.com/jawiin/', '827962922'),\n",
       " ('https://www.lionbanner.com', '809411887'),\n",
       " ('https://www.instagram.com/cassie_h_art/', '199594465'),\n",
       " ('https://www.facebook.com/cassieheltonart', '199594465')]"
      ]
     },
     "execution_count": 93,
     "metadata": {},
     "output_type": "execute_result"
    }
   ],
   "source": [
    "lst2"
   ]
  },
  {
   "cell_type": "code",
   "execution_count": 94,
   "id": "5cd98e21",
   "metadata": {
    "scrolled": true
   },
   "outputs": [],
   "source": [
    "s = []\n",
    "for el in  lst2: \n",
    "    try :\n",
    "        r = requests.get(el[0])\n",
    "        t = str(r.text)\n",
    "        shopify = t.find('shopify')\n",
    "        s.append((shopify,el))\n",
    "    except ConnectionError :\n",
    "        pass"
   ]
  },
  {
   "cell_type": "code",
   "execution_count": 95,
   "id": "b107c624",
   "metadata": {
    "scrolled": false
   },
   "outputs": [
    {
     "data": {
      "text/plain": [
       "[(-1, ('https://www.instagram.com/lilybrooklane', '2100073')),\n",
       " (-1,\n",
       "  ('https://www.facebook.com/E-Spec-Books-768052066586116/', '2096699057')),\n",
       " (-1, ('https://twitter.com/eSpecBooks', '2096699057')),\n",
       " (-1, ('https://especbooks.wordpress.com/', '2096699057')),\n",
       " (-1, ('https://www.patreon.com/especbooks', '2096699057')),\n",
       " (-1, ('http://especbooks.square.site/', '2096699057')),\n",
       " (-1, ('https://zootzoot.ca', '1659177433')),\n",
       " (-1, ('http://www.dungeoncreatorsets.com', '1173384431')),\n",
       " (-1, ('http://www.smalldungeonmaps.com', '1173384431')),\n",
       " (-1, ('http://www.twitter.com/Jawiin', '827962922')),\n",
       " (-1, ('http://www.geekhistorylesson.com', '827962922')),\n",
       " (-1, ('http://www.youtube.com/Jawiin', '827962922')),\n",
       " (-1, ('http://www.jasoninman.com', '827962922')),\n",
       " (-1, ('https://www.instagram.com/jawiin/', '827962922')),\n",
       " (-1, ('https://www.lionbanner.com', '809411887')),\n",
       " (-1, ('https://www.instagram.com/cassie_h_art/', '199594465')),\n",
       " (-1, ('https://www.facebook.com/cassieheltonart', '199594465'))]"
      ]
     },
     "execution_count": 95,
     "metadata": {},
     "output_type": "execute_result"
    }
   ],
   "source": [
    "s"
   ]
  },
  {
   "cell_type": "code",
   "execution_count": 97,
   "id": "818f9ae4",
   "metadata": {},
   "outputs": [
    {
     "data": {
      "text/plain": [
       "tuple"
      ]
     },
     "execution_count": 97,
     "metadata": {},
     "output_type": "execute_result"
    }
   ],
   "source": [
    "type(s[0])"
   ]
  },
  {
   "cell_type": "code",
   "execution_count": null,
   "id": "1a232188",
   "metadata": {},
   "outputs": [],
   "source": [
    "las_lst = []\n",
    "for el in s : \n",
    "    if el[0]  == -1 :\n",
    "        s.remove(el)\n",
    "    else : \n",
    "        last_lst.append(el[1])"
   ]
  },
  {
   "cell_type": "code",
   "execution_count": null,
   "id": "6de68209",
   "metadata": {},
   "outputs": [],
   "source": [
    "if len(last_lst) == 0 : \n",
    "    print('No shopify user for now')\n",
    "else : \n",
    "    print(len(last_lst),' Shopify user detected')"
   ]
  },
  {
   "cell_type": "code",
   "execution_count": null,
   "id": "443172b4",
   "metadata": {},
   "outputs": [],
   "source": []
  }
 ],
 "metadata": {
  "kernelspec": {
   "display_name": "gorgias",
   "language": "python",
   "name": "gorgias"
  },
  "language_info": {
   "codemirror_mode": {
    "name": "ipython",
    "version": 3
   },
   "file_extension": ".py",
   "mimetype": "text/x-python",
   "name": "python",
   "nbconvert_exporter": "python",
   "pygments_lexer": "ipython3",
   "version": "3.8.12"
  }
 },
 "nbformat": 4,
 "nbformat_minor": 5
}
