{
 "cells": [
  {
   "cell_type": "code",
   "execution_count": 41,
   "id": "835c8695",
   "metadata": {},
   "outputs": [],
   "source": [
    "import analytics\n",
    "import json\n",
    "from  datetime import date, datetime"
   ]
  },
  {
   "cell_type": "code",
   "execution_count": 2,
   "id": "6e4af83f",
   "metadata": {},
   "outputs": [],
   "source": [
    "APIKEY ='Q6QwJI6Zo7Alfp5UxKoKncwh0xu3nk2O'"
   ]
  },
  {
   "cell_type": "code",
   "execution_count": 9,
   "id": "81aa429a",
   "metadata": {},
   "outputs": [],
   "source": [
    "data = '/Users/arthurspriet/Desktop/Gorgias/data.json'"
   ]
  },
  {
   "cell_type": "code",
   "execution_count": 27,
   "id": "5886d074",
   "metadata": {},
   "outputs": [],
   "source": [
    "with open(\"data.json\") as jsonFile:\n",
    "    jsonObject = json.load(jsonFile)\n",
    "    jsonFile.close()"
   ]
  },
  {
   "cell_type": "code",
   "execution_count": 28,
   "id": "d7a4d2b2",
   "metadata": {},
   "outputs": [
    {
     "name": "stdout",
     "output_type": "stream",
     "text": [
      "<class 'str'>\n"
     ]
    }
   ],
   "source": [
    "print(type(jsonObject))"
   ]
  },
  {
   "cell_type": "code",
   "execution_count": 29,
   "id": "48a9efbb",
   "metadata": {},
   "outputs": [],
   "source": [
    "j = json.loads(jsonObject)"
   ]
  },
  {
   "cell_type": "code",
   "execution_count": 32,
   "id": "565cc49f",
   "metadata": {},
   "outputs": [
    {
     "name": "stdout",
     "output_type": "stream",
     "text": [
      "{'project_name': 'RED RISING Playing Cards', 'project_blurb': 'Officially-Licensed Red Rising Playing Cards! Based on the first trilogy by Pierce Brown. Characters Illustrated by Briana Crotinger.', 'project_goal': '10000.0', 'project_pledged': '125729.0', 'project_state': 'live', 'project_slug': 'red-rising-playing-cards', 'project_country': 'US', 'project_currency': 'USD', 'project_deadline': '1646326722', 'project_state_changed_at': '1643734723', 'project_created_at': '1638743533', 'project_launched_at': '1643734722', 'creator_name': 'Randy Butterfield (Midnight Cards)', 'creator_slug': 'randybutterfield', 'creator_small': 'https://ksr-ugc.imgix.net/assets/006/156/215/0442000fe3b5fe94f062458223f633f9_original.jpg?ixlib=rb-4.0.2;w=80;h=80;fit=crop;v=1461370171;auto=format;frame=1;q=92;s=490d64b037560b625ee18ecf03709be2', 'website': 'http://midnight-cards.myshopify.com/'}\n"
     ]
    }
   ],
   "source": [
    "print(j)"
   ]
  },
  {
   "cell_type": "code",
   "execution_count": 33,
   "id": "a4366846",
   "metadata": {},
   "outputs": [],
   "source": [
    "analytics.write_key = APIKEY"
   ]
  },
  {
   "cell_type": "code",
   "execution_count": 15,
   "id": "0a5fcbcc",
   "metadata": {},
   "outputs": [],
   "source": [
    "analytics.track('f4ca124298', )"
   ]
  },
  {
   "cell_type": "code",
   "execution_count": 36,
   "id": "ad8202a3",
   "metadata": {},
   "outputs": [
    {
     "name": "stdout",
     "output_type": "stream",
     "text": [
      "Randy Butterfield (Midnight Cards) RED RISING Playing Cards Officially-Licensed Red Rising Playing Cards! Based on the first trilogy by Pierce Brown. Characters Illustrated by Briana Crotinger. 10000.0\n"
     ]
    }
   ],
   "source": [
    "name = j['creator_name']\n",
    "project_name = j['project_name']\n",
    "blurb = j['project_blurb']\n",
    "goal = j['project_goal']\n",
    "print(name,project_name,blurb,goal)"
   ]
  },
  {
   "cell_type": "code",
   "execution_count": 45,
   "id": "e370fec9",
   "metadata": {},
   "outputs": [],
   "source": [
    "date = j['project_launched_at']"
   ]
  },
  {
   "cell_type": "code",
   "execution_count": 46,
   "id": "0fc6bd5a",
   "metadata": {},
   "outputs": [
    {
     "data": {
      "text/plain": [
       "'1643734722'"
      ]
     },
     "execution_count": 46,
     "metadata": {},
     "output_type": "execute_result"
    }
   ],
   "source": [
    "date"
   ]
  },
  {
   "cell_type": "code",
   "execution_count": 47,
   "id": "21db7f71",
   "metadata": {},
   "outputs": [
    {
     "ename": "ValueError",
     "evalue": "year 4500393 is out of range",
     "output_type": "error",
     "traceback": [
      "\u001b[0;31m---------------------------------------------------------------------------\u001b[0m",
      "\u001b[0;31mValueError\u001b[0m                                Traceback (most recent call last)",
      "Input \u001b[0;32mIn [47]\u001b[0m, in \u001b[0;36m<cell line: 1>\u001b[0;34m()\u001b[0m\n\u001b[0;32m----> 1\u001b[0m datecorr \u001b[38;5;241m=\u001b[39m \u001b[43mdatetime\u001b[49m\u001b[38;5;241;43m.\u001b[39;49m\u001b[43mfromordinal\u001b[49m\u001b[43m(\u001b[49m\u001b[38;5;28;43mint\u001b[39;49m\u001b[43m(\u001b[49m\u001b[43mdate\u001b[49m\u001b[43m)\u001b[49m\u001b[43m)\u001b[49m\n",
      "\u001b[0;31mValueError\u001b[0m: year 4500393 is out of range"
     ]
    }
   ],
   "source": [
    "datecorr = datetime.fromordinal(int(date))"
   ]
  },
  {
   "cell_type": "code",
   "execution_count": 44,
   "id": "3fcd9856",
   "metadata": {},
   "outputs": [
    {
     "data": {
      "text/plain": [
       "datetime.date"
      ]
     },
     "execution_count": 44,
     "metadata": {},
     "output_type": "execute_result"
    }
   ],
   "source": []
  }
 ],
 "metadata": {
  "kernelspec": {
   "display_name": "gorgias",
   "language": "python",
   "name": "gorgias"
  },
  "language_info": {
   "codemirror_mode": {
    "name": "ipython",
    "version": 3
   },
   "file_extension": ".py",
   "mimetype": "text/x-python",
   "name": "python",
   "nbconvert_exporter": "python",
   "pygments_lexer": "ipython3",
   "version": "3.8.12"
  }
 },
 "nbformat": 4,
 "nbformat_minor": 5
}
