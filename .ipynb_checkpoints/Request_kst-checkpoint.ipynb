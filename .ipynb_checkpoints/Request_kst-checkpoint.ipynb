{
 "cells": [
  {
   "cell_type": "code",
   "execution_count": 28,
   "id": "35f1e74b",
   "metadata": {},
   "outputs": [],
   "source": [
    "import re \n",
    "from bs4 import BeautifulSoup as bs\n",
    "import pandas\n",
    "import requests"
   ]
  },
  {
   "cell_type": "code",
   "execution_count": 29,
   "id": "2324fcf0",
   "metadata": {},
   "outputs": [],
   "source": [
    "url = 'https://www.kickstarter.com/discover/advanced?raised=2&sort=newest&seed=2743585&page=1'\n",
    "headers = {'User-Agent': 'Mozilla/5.0 (Macintosh; Intel Mac OS X 10_11_5) AppleWebKit/537.36 (KHTML, like Gecko) Chrome/50.0.2661.102 Safari/537.36'}"
   ]
  },
  {
   "cell_type": "code",
   "execution_count": 22,
   "id": "57455120",
   "metadata": {},
   "outputs": [],
   "source": [
    "r = requests.get(url,headers=headers)"
   ]
  },
  {
   "cell_type": "code",
   "execution_count": 23,
   "id": "a6454bff",
   "metadata": {},
   "outputs": [],
   "source": [
    "page = r.text"
   ]
  },
  {
   "cell_type": "code",
   "execution_count": 26,
   "id": "ad7068d6",
   "metadata": {},
   "outputs": [
    {
     "ename": "AttributeError",
     "evalue": "'bytes' object has no attribute 'findAll'",
     "output_type": "error",
     "traceback": [
      "\u001b[0;31m---------------------------------------------------------------------------\u001b[0m",
      "\u001b[0;31mAttributeError\u001b[0m                            Traceback (most recent call last)",
      "Input \u001b[0;32mIn [26]\u001b[0m, in \u001b[0;36m<cell line: 1>\u001b[0;34m()\u001b[0m\n\u001b[0;32m----> 1\u001b[0m \u001b[43mr\u001b[49m\u001b[38;5;241;43m.\u001b[39;49m\u001b[43mcontent\u001b[49m\u001b[38;5;241;43m.\u001b[39;49m\u001b[43mfindAll\u001b[49m(\u001b[38;5;124m'\u001b[39m\u001b[38;5;124mdiv\u001b[39m\u001b[38;5;124m'\u001b[39m,{\u001b[38;5;124m\"\u001b[39m\u001b[38;5;124mclass\u001b[39m\u001b[38;5;124m\"\u001b[39m:\u001b[38;5;124m\"\u001b[39m\u001b[38;5;124mtype-18 light hover-item-text-underline mb1\u001b[39m\u001b[38;5;124m\"\u001b[39m})\n",
      "\u001b[0;31mAttributeError\u001b[0m: 'bytes' object has no attribute 'findAll'"
     ]
    }
   ],
   "source": [
    "r.content.findAll('div',{\"class\":\"type-18 light hover-item-text-underline mb1\"})"
   ]
  },
  {
   "cell_type": "code",
   "execution_count": null,
   "id": "3f05b1d7",
   "metadata": {},
   "outputs": [],
   "source": [
    "soup = bs()"
   ]
  },
  {
   "cell_type": "code",
   "execution_count": 18,
   "id": "f6bf8685",
   "metadata": {},
   "outputs": [
    {
     "data": {
      "text/plain": [
       "str"
      ]
     },
     "execution_count": 18,
     "metadata": {},
     "output_type": "execute_result"
    }
   ],
   "source": [
    "type(page)"
   ]
  },
  {
   "cell_type": "code",
   "execution_count": 31,
   "id": "7060cca5",
   "metadata": {},
   "outputs": [],
   "source": [
    "soup = bs(requests.get(url,headers=headers).content)"
   ]
  },
  {
   "cell_type": "code",
   "execution_count": null,
   "id": "38d8e42a",
   "metadata": {},
   "outputs": [],
   "source": []
  }
 ],
 "metadata": {
  "kernelspec": {
   "display_name": "gorgias",
   "language": "python",
   "name": "gorgias"
  },
  "language_info": {
   "codemirror_mode": {
    "name": "ipython",
    "version": 3
   },
   "file_extension": ".py",
   "mimetype": "text/x-python",
   "name": "python",
   "nbconvert_exporter": "python",
   "pygments_lexer": "ipython3",
   "version": "3.8.12"
  }
 },
 "nbformat": 4,
 "nbformat_minor": 5
}
