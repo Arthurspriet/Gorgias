{
 "cells": [
  {
   "cell_type": "code",
   "execution_count": 87,
   "id": "e786fd21",
   "metadata": {},
   "outputs": [],
   "source": [
    "import pandas as pd\n",
    "from bs4 import BeautifulSoup\n",
    "import urllib\n",
    "from urllib.request import Request, urlopen, urlparse\n",
    "import re\n",
    "import time\n",
    "import requests\n",
    "import validators"
   ]
  },
  {
   "cell_type": "code",
   "execution_count": 88,
   "id": "d6034dcb",
   "metadata": {},
   "outputs": [],
   "source": [
    "url ='https://www.kickstarter.com/discover/advanced?raised=2&sort=end_date&seed=2743718&page=1'\n",
    "headers = {'User-Agent': 'Mozilla/5.0 (Macintosh; Intel Mac OS X 10_11_5) AppleWebKit/537.36 (KHTML, like Gecko) Chrome/50.0.2661.102 Safari/537.36'}"
   ]
  },
  {
   "cell_type": "code",
   "execution_count": 89,
   "id": "7f0899b5",
   "metadata": {},
   "outputs": [],
   "source": [
    "r = requests.get(url, headers=headers)\n",
    "soup = BeautifulSoup(r.content, 'html.parser')"
   ]
  },
  {
   "cell_type": "code",
   "execution_count": 90,
   "id": "7dba09ec",
   "metadata": {},
   "outputs": [],
   "source": [
    "def engine(pages) : \n",
    "    url = url ='https://www.kickstarter.com/discover/advanced?raised=2&sort=enddate&seed=2743718&page='\n",
    "    headers = {'User-Agent': 'Mozilla/5.0 (Macintosh; Intel Mac OS X 10_11_5) AppleWebKit/537.36 (KHTML, like Gecko) Chrome/50.0.2661.102 Safari/537.36'}\n",
    "    lst = []\n",
    "    for i in range(1,pages) :\n",
    "        r = requests.get(url+str(i),headers=headers)\n",
    "        soup = BeautifulSoup(r.content, 'html.parser')\n",
    "        lst.append(soup)\n",
    "        i =+ 1   \n",
    "    return lst"
   ]
  },
  {
   "cell_type": "code",
   "execution_count": 91,
   "id": "aa56bdbf",
   "metadata": {},
   "outputs": [],
   "source": [
    "containers = soup.find_all('div', class_=\"js-react-proj-card\")"
   ]
  },
  {
   "cell_type": "code",
   "execution_count": 92,
   "id": "78483a5c",
   "metadata": {},
   "outputs": [],
   "source": [
    "def scraper_prototype(text_profile, prefix):\n",
    "\n",
    "    if '\"name\"' in text_profile:\n",
    "        text_profile = re.sub('\"', '', text_profile)\n",
    "\n",
    "    text2 = text_profile.split(',')\n",
    "    dummy2 = [re.findall('[A-Za-z0-9_]+:', ww) for ww in text2]\n",
    "    itemname = [dum_part[0] for dum_part in dummy2 if len(dum_part) > 0]\n",
    "    ans_array = [re.search(xxy1+'(.*?)'+xxy2, text_profile).group(1).rstrip(',')\n",
    "                 for xxy1, xxy2 in zip(itemname[:-1], itemname[1:])]\n",
    "    itemnames = [x.rstrip(':') for x in itemname]\n",
    "\n",
    "    info_dict = dict()\n",
    "    for item, ans in zip(itemnames, ans_array):\n",
    "        info_dict[prefix+'_'+item] = ans\n",
    "    return info_dict"
   ]
  },
  {
   "cell_type": "code",
   "execution_count": 93,
   "id": "9664dd12",
   "metadata": {},
   "outputs": [],
   "source": [
    "def to_string(container) : \n",
    "    whole_string = str(container).replace('&amp', '').replace('&quot;', '')\n",
    "    return whole_string"
   ]
  },
  {
   "cell_type": "code",
   "execution_count": 94,
   "id": "4546e2bc",
   "metadata": {},
   "outputs": [],
   "source": [
    "def get_name(whole_string) : \n",
    "    if '\"name\"' in whole_string:\n",
    "        project_info = '\"name\"' + re.findall('\"name\"(.+?)\"creator\"', whole_string)[0]\n",
    "    else:\n",
    "        project_info = 'name' + re.findall('name(.+?)creator', whole_string)[0]\n",
    "    project_info_dict = scraper_prototype(project_info, 'project')\n",
    "    df1 = pd.DataFrame.from_dict(project_info_dict, orient='index').transpose()\n",
    "    return df1"
   ]
  },
  {
   "cell_type": "code",
   "execution_count": 95,
   "id": "fa65b8dd",
   "metadata": {},
   "outputs": [],
   "source": [
    "def get_creator(whole_string) : \n",
    "    if '\"creator\"' in whole_string:\n",
    "        creator_string = re.findall(r'\\\"creator\\\"\\:\\{(.+?)\\}', whole_string)[0]\n",
    "    else:\n",
    "        creator_string = re.findall(r'creator\\:\\{(.+?)\\}', whole_string)[0]\n",
    "    creator_info_dict = scraper_prototype(creator_string, 'creator')\n",
    "    creator_info_dict['creator_slug'] = creator_info_dict.get('creator_slug', 'Null')\n",
    "    df2 = pd.DataFrame.from_dict(creator_info_dict, orient='index').transpose()\n",
    "    \n",
    "    return df2"
   ]
  },
  {
   "cell_type": "code",
   "execution_count": 96,
   "id": "f1ca104e",
   "metadata": {},
   "outputs": [],
   "source": [
    "def get_location(whole_string) : \n",
    "    if '\"location\"' in whole_string:\n",
    "        location_string = re.findall(r'\\\"location\\\"\\:\\{(.+?)\\}', whole_string)[0]\n",
    "    else:\n",
    "        location_string = re.findall(r'location\\:\\{(.+?)\\}', whole_string)[0]\n",
    "    location_info_dict = scraper_prototype(location_string, 'location')\n",
    "    df3 = pd.DataFrame.from_dict(location_info_dict, orient='index').transpose()\n",
    "    return df3"
   ]
  },
  {
   "cell_type": "code",
   "execution_count": 97,
   "id": "60781356",
   "metadata": {},
   "outputs": [],
   "source": [
    "def get_profile(whole_string) : \n",
    "    if '\"profile\"' in whole_string:\n",
    "        profile_string = re.findall(r'\\\"profile\\\"\\:\\{(.+?)\\}', whole_string)[0]\n",
    "    else:\n",
    "        profile_string = re.findall(r'profile\\:\\{(.+?)\\}', whole_string)[0]\n",
    "    profile_info_dict = scraper_prototype(profile_string, 'profile')\n",
    "    df4 = pd.DataFrame.from_dict(profile_info_dict, orient='index').transpose()\n",
    "    return df4"
   ]
  },
  {
   "cell_type": "code",
   "execution_count": 98,
   "id": "71e2d08a",
   "metadata": {},
   "outputs": [],
   "source": [
    "def make_a_row(df1,df2,df3) : \n",
    "    df = pd.concat((df1, df2, df3), axis=1)\n",
    "    return df"
   ]
  },
  {
   "cell_type": "code",
   "execution_count": 99,
   "id": "038dbd9c",
   "metadata": {},
   "outputs": [],
   "source": [
    "def row_flow(container) : \n",
    "    string = to_string(container)\n",
    "    name = get_name(string)\n",
    "    creator = get_creator(string)\n",
    "    location = get_creator(string)\n",
    "    #profile = get_profile(string)\n",
    "    row = make_a_row(name,creator,location)\n",
    "    return row"
   ]
  },
  {
   "cell_type": "code",
   "execution_count": 100,
   "id": "021e5584",
   "metadata": {},
   "outputs": [],
   "source": [
    "row = row_flow(containers[0])\n",
    "row0 = row_flow(containers[1])\n",
    "row1 = row_flow(containers[2])\n",
    "row2 = row_flow(containers[3])\n",
    "row3 = row_flow(containers[4])\n",
    "row4 = row_flow(containers[5])\n",
    "row5 = row_flow(containers[6])\n",
    "row6 = row_flow(containers[7])\n",
    "row7 = row_flow(containers[8])\n",
    "row8 = row_flow(containers[9])\n",
    "row9 = row_flow(containers[10])\n",
    "row10 = row_flow(containers[11])"
   ]
  },
  {
   "cell_type": "code",
   "execution_count": 101,
   "id": "3efa8a34",
   "metadata": {},
   "outputs": [],
   "source": [
    "df = pd.concat([row,row0,row1,row2,row3,row4,row5,row6,row7,row8,row9,row10],ignore_index=True)"
   ]
  },
  {
   "cell_type": "code",
   "execution_count": 102,
   "id": "32b8075e",
   "metadata": {},
   "outputs": [],
   "source": [
    "df = df.loc[:,~df.columns.duplicated()]"
   ]
  },
  {
   "cell_type": "code",
   "execution_count": 103,
   "id": "1537461e",
   "metadata": {},
   "outputs": [
    {
     "data": {
      "text/plain": [
       "12"
      ]
     },
     "execution_count": 103,
     "metadata": {},
     "output_type": "execute_result"
    }
   ],
   "source": [
    "len(df)"
   ]
  },
  {
   "cell_type": "code",
   "execution_count": 104,
   "id": "a22b1db0",
   "metadata": {},
   "outputs": [
    {
     "name": "stdout",
     "output_type": "stream",
     "text": [
      "210781665\n",
      "503461725\n",
      "524924361\n",
      "1854969911\n",
      "857310971\n",
      "384894682\n",
      "686715934\n",
      "397372697\n",
      "1653002173\n",
      "2097521505\n",
      "2094128097\n",
      "1349936597\n"
     ]
    }
   ],
   "source": [
    "for i in range(0, len(df)):\n",
    "    \n",
    "    print(df.iloc[i]['creator_id'])"
   ]
  },
  {
   "cell_type": "code",
   "execution_count": 105,
   "id": "1017c34d",
   "metadata": {},
   "outputs": [],
   "source": [
    "site = []\n",
    "lst = []\n",
    "url = 'https://www.kickstarter.com/profile/'"
   ]
  },
  {
   "cell_type": "code",
   "execution_count": 106,
   "id": "8ce38430",
   "metadata": {},
   "outputs": [],
   "source": [
    "for i in range(0, len(df)) : \n",
    "    html = requests.get('https://www.kickstarter.com/profile/'+str(df.iloc[i]['creator_id'])+'/about', headers=headers)\n",
    "    soup = BeautifulSoup(html.content, 'html.parser')\n",
    "    for a in soup.find_all('a', href=True):\n",
    "        lst.append(a['href'])\n",
    "        site.append(df.iloc[i]['creator_id'])"
   ]
  },
  {
   "cell_type": "code",
   "execution_count": 107,
   "id": "d6ad27da",
   "metadata": {
    "scrolled": true
   },
   "outputs": [
    {
     "data": {
      "text/plain": [
       "(103,\n",
       " ['/?ref=nav',\n",
       "  '/profile/tardigradepress',\n",
       "  '/profile/tardigradepress',\n",
       "  '/profile/tardigradepress/about',\n",
       "  '/profile/tardigradepress',\n",
       "  '/profile/tardigradepress/created',\n",
       "  '/profile/tardigradepress/comments',\n",
       "  'https://tardigradepress.net',\n",
       "  '/?ref=nav',\n",
       "  '/profile/plugoarts',\n",
       "  '/profile/plugoarts',\n",
       "  '/discover/advanced?backed=-1&ref=profile_location&state=live&woe_id=2352559',\n",
       "  '/profile/plugoarts/about',\n",
       "  '/profile/plugoarts',\n",
       "  '/profile/plugoarts/created',\n",
       "  '/profile/plugoarts/comments',\n",
       "  'https://PLUGOarts.com',\n",
       "  'https://aTigersTale.com',\n",
       "  '/?ref=nav',\n",
       "  '/profile/inkwyrmling',\n",
       "  '/profile/inkwyrmling',\n",
       "  '/discover/advanced?backed=-1&ref=profile_location&state=live&woe_id=2487610',\n",
       "  '/profile/inkwyrmling/about',\n",
       "  '/profile/inkwyrmling',\n",
       "  '/profile/inkwyrmling/created',\n",
       "  '/profile/inkwyrmling/comments',\n",
       "  'https://www.instagram.com/inkwyrmling/',\n",
       "  '/?ref=nav',\n",
       "  '/profile/canaryzindell',\n",
       "  '/profile/canaryzindell',\n",
       "  '/discover/advanced?backed=-1&ref=profile_location&state=live&woe_id=2367231',\n",
       "  '/profile/canaryzindell/about',\n",
       "  '/profile/canaryzindell/created',\n",
       "  '/?ref=nav',\n",
       "  '/profile/theavadavis',\n",
       "  '/profile/theavadavis',\n",
       "  '/profile/theavadavis/about',\n",
       "  '/profile/theavadavis',\n",
       "  '/profile/theavadavis/created',\n",
       "  '/profile/theavadavis/comments',\n",
       "  'https://www.theavadavis.com',\n",
       "  'https://www,thewaltzfilm.com',\n",
       "  'https://www.studiovosges.com',\n",
       "  'https://www.duchessofgrantpark.com',\n",
       "  '/?ref=nav',\n",
       "  '/profile/myfriendtoothy',\n",
       "  '/profile/myfriendtoothy',\n",
       "  '/profile/myfriendtoothy/about',\n",
       "  '/profile/myfriendtoothy',\n",
       "  '/profile/myfriendtoothy/created',\n",
       "  '/profile/myfriendtoothy/comments',\n",
       "  'https://myfriendtoothy.wixsite.com/website',\n",
       "  '/?ref=nav',\n",
       "  '/profile/ameliakainshortfilm',\n",
       "  '/profile/ameliakainshortfilm',\n",
       "  '/discover/advanced?backed=-1&ref=profile_location&state=live&woe_id=1105779',\n",
       "  '/profile/ameliakainshortfilm/about',\n",
       "  '/profile/ameliakainshortfilm/created',\n",
       "  '/?ref=nav',\n",
       "  '/profile/cfqvol3ose',\n",
       "  '/profile/cfqvol3ose',\n",
       "  '/discover/advanced?backed=-1&ref=profile_location&state=live&woe_id=1252431',\n",
       "  '/profile/cfqvol3ose/about',\n",
       "  '/profile/cfqvol3ose',\n",
       "  '/profile/cfqvol3ose/created',\n",
       "  '/profile/cfqvol3ose/comments',\n",
       "  'https://www.drivethrurpg.com/browse/pub/5679/Jeremy-Hart',\n",
       "  'https://jeremyhartillos.blogspot.com/',\n",
       "  'https://www.instagram.com/jeremyhartillos/',\n",
       "  'https://www.patreon.com/jhillos',\n",
       "  '/?ref=nav',\n",
       "  '/profile/asiam',\n",
       "  '/profile/asiam',\n",
       "  '/discover/advanced?backed=-1&ref=profile_location&state=live&woe_id=2487129',\n",
       "  '/profile/asiam/about',\n",
       "  '/profile/asiam',\n",
       "  '/profile/asiam/created',\n",
       "  'https://shininglamppress.com',\n",
       "  '/?ref=nav',\n",
       "  '/profile/stitcherygeekery',\n",
       "  '/profile/stitcherygeekery',\n",
       "  '/discover/advanced?backed=-1&ref=profile_location&state=live&woe_id=2357536',\n",
       "  '/profile/stitcherygeekery/about',\n",
       "  '/profile/stitcherygeekery/created',\n",
       "  'https://stitcherygeekery.wordpress.com/',\n",
       "  'https://www.etsy.com/shop/stitcherygeekery',\n",
       "  '/?ref=nav',\n",
       "  '/profile/bearapy',\n",
       "  '/profile/bearapy',\n",
       "  '/profile/bearapy/about',\n",
       "  '/profile/bearapy/created',\n",
       "  'https://www.bearapy.org',\n",
       "  '/?ref=nav',\n",
       "  '/profile/gabechengcomics',\n",
       "  '/profile/gabechengcomics',\n",
       "  '/profile/gabechengcomics/about',\n",
       "  '/profile/gabechengcomics',\n",
       "  '/profile/gabechengcomics/created',\n",
       "  '/profile/gabechengcomics/comments',\n",
       "  'https://www.instagram.com/gabechengcomics/',\n",
       "  'https://twitter.com/gabechengcomics',\n",
       "  'http://www.almpod.com/',\n",
       "  'https://gabechengcomics.com'])"
      ]
     },
     "execution_count": 107,
     "metadata": {},
     "output_type": "execute_result"
    }
   ],
   "source": [
    "len(lst), lst"
   ]
  },
  {
   "cell_type": "code",
   "execution_count": 108,
   "id": "9a98d480",
   "metadata": {},
   "outputs": [],
   "source": [
    "dodo = []"
   ]
  },
  {
   "cell_type": "code",
   "execution_count": 109,
   "id": "73a02cee",
   "metadata": {},
   "outputs": [],
   "source": [
    "def is_valid(url):\n",
    "    parsed = urlparse(url)\n",
    "    return bool(parsed.netloc) and bool(parsed.scheme)"
   ]
  },
  {
   "cell_type": "code",
   "execution_count": 110,
   "id": "7bd70bd5",
   "metadata": {
    "scrolled": true
   },
   "outputs": [],
   "source": [
    "for el in lst : \n",
    "    if is_valid(el) == True : \n",
    "        dodo.append(el)\n",
    "    else : \n",
    "        pass"
   ]
  },
  {
   "cell_type": "code",
   "execution_count": 116,
   "id": "effd1df9",
   "metadata": {},
   "outputs": [
    {
     "data": {
      "text/plain": [
       "['https://tardigradepress.net',\n",
       " 'https://PLUGOarts.com',\n",
       " 'https://aTigersTale.com',\n",
       " 'https://www.instagram.com/inkwyrmling/',\n",
       " 'https://www.theavadavis.com',\n",
       " 'https://www,thewaltzfilm.com',\n",
       " 'https://www.studiovosges.com',\n",
       " 'https://www.duchessofgrantpark.com',\n",
       " 'https://myfriendtoothy.wixsite.com/website',\n",
       " 'https://www.drivethrurpg.com/browse/pub/5679/Jeremy-Hart',\n",
       " 'https://jeremyhartillos.blogspot.com/',\n",
       " 'https://www.instagram.com/jeremyhartillos/',\n",
       " 'https://www.patreon.com/jhillos',\n",
       " 'https://shininglamppress.com',\n",
       " 'https://stitcherygeekery.wordpress.com/',\n",
       " 'https://www.etsy.com/shop/stitcherygeekery',\n",
       " 'https://www.bearapy.org',\n",
       " 'https://www.instagram.com/gabechengcomics/',\n",
       " 'https://twitter.com/gabechengcomics',\n",
       " 'http://www.almpod.com/',\n",
       " 'https://gabechengcomics.com']"
      ]
     },
     "execution_count": 116,
     "metadata": {},
     "output_type": "execute_result"
    }
   ],
   "source": [
    "dodo"
   ]
  },
  {
   "cell_type": "code",
   "execution_count": 84,
   "id": "3c29f551",
   "metadata": {},
   "outputs": [],
   "source": [
    "s = []"
   ]
  },
  {
   "cell_type": "code",
   "execution_count": 112,
   "id": "16893946",
   "metadata": {},
   "outputs": [
    {
     "ename": "ConnectionError",
     "evalue": "HTTPSConnectionPool(host='www,thewaltzfilm.com', port=443): Max retries exceeded with url: / (Caused by NewConnectionError('<urllib3.connection.HTTPSConnection object at 0x124d455b0>: Failed to establish a new connection: [Errno 8] nodename nor servname provided, or not known'))",
     "output_type": "error",
     "traceback": [
      "\u001b[0;31m---------------------------------------------------------------------------\u001b[0m",
      "\u001b[0;31mgaierror\u001b[0m                                  Traceback (most recent call last)",
      "File \u001b[0;32m/opt/homebrew/Caskroom/miniforge/base/envs/gorgias/lib/python3.8/site-packages/urllib3/connection.py:174\u001b[0m, in \u001b[0;36mHTTPConnection._new_conn\u001b[0;34m(self)\u001b[0m\n\u001b[1;32m    173\u001b[0m \u001b[38;5;28;01mtry\u001b[39;00m:\n\u001b[0;32m--> 174\u001b[0m     conn \u001b[38;5;241m=\u001b[39m \u001b[43mconnection\u001b[49m\u001b[38;5;241;43m.\u001b[39;49m\u001b[43mcreate_connection\u001b[49m\u001b[43m(\u001b[49m\n\u001b[1;32m    175\u001b[0m \u001b[43m        \u001b[49m\u001b[43m(\u001b[49m\u001b[38;5;28;43mself\u001b[39;49m\u001b[38;5;241;43m.\u001b[39;49m\u001b[43m_dns_host\u001b[49m\u001b[43m,\u001b[49m\u001b[43m \u001b[49m\u001b[38;5;28;43mself\u001b[39;49m\u001b[38;5;241;43m.\u001b[39;49m\u001b[43mport\u001b[49m\u001b[43m)\u001b[49m\u001b[43m,\u001b[49m\u001b[43m \u001b[49m\u001b[38;5;28;43mself\u001b[39;49m\u001b[38;5;241;43m.\u001b[39;49m\u001b[43mtimeout\u001b[49m\u001b[43m,\u001b[49m\u001b[43m \u001b[49m\u001b[38;5;241;43m*\u001b[39;49m\u001b[38;5;241;43m*\u001b[39;49m\u001b[43mextra_kw\u001b[49m\n\u001b[1;32m    176\u001b[0m \u001b[43m    \u001b[49m\u001b[43m)\u001b[49m\n\u001b[1;32m    178\u001b[0m \u001b[38;5;28;01mexcept\u001b[39;00m SocketTimeout:\n",
      "File \u001b[0;32m/opt/homebrew/Caskroom/miniforge/base/envs/gorgias/lib/python3.8/site-packages/urllib3/util/connection.py:72\u001b[0m, in \u001b[0;36mcreate_connection\u001b[0;34m(address, timeout, source_address, socket_options)\u001b[0m\n\u001b[1;32m     68\u001b[0m     \u001b[38;5;28;01mreturn\u001b[39;00m six\u001b[38;5;241m.\u001b[39mraise_from(\n\u001b[1;32m     69\u001b[0m         LocationParseError(\u001b[38;5;124mu\u001b[39m\u001b[38;5;124m\"\u001b[39m\u001b[38;5;124m'\u001b[39m\u001b[38;5;132;01m%s\u001b[39;00m\u001b[38;5;124m'\u001b[39m\u001b[38;5;124m, label empty or too long\u001b[39m\u001b[38;5;124m\"\u001b[39m \u001b[38;5;241m%\u001b[39m host), \u001b[38;5;28;01mNone\u001b[39;00m\n\u001b[1;32m     70\u001b[0m     )\n\u001b[0;32m---> 72\u001b[0m \u001b[38;5;28;01mfor\u001b[39;00m res \u001b[38;5;129;01min\u001b[39;00m \u001b[43msocket\u001b[49m\u001b[38;5;241;43m.\u001b[39;49m\u001b[43mgetaddrinfo\u001b[49m\u001b[43m(\u001b[49m\u001b[43mhost\u001b[49m\u001b[43m,\u001b[49m\u001b[43m \u001b[49m\u001b[43mport\u001b[49m\u001b[43m,\u001b[49m\u001b[43m \u001b[49m\u001b[43mfamily\u001b[49m\u001b[43m,\u001b[49m\u001b[43m \u001b[49m\u001b[43msocket\u001b[49m\u001b[38;5;241;43m.\u001b[39;49m\u001b[43mSOCK_STREAM\u001b[49m\u001b[43m)\u001b[49m:\n\u001b[1;32m     73\u001b[0m     af, socktype, proto, canonname, sa \u001b[38;5;241m=\u001b[39m res\n",
      "File \u001b[0;32m/opt/homebrew/Caskroom/miniforge/base/envs/gorgias/lib/python3.8/socket.py:918\u001b[0m, in \u001b[0;36mgetaddrinfo\u001b[0;34m(host, port, family, type, proto, flags)\u001b[0m\n\u001b[1;32m    917\u001b[0m addrlist \u001b[38;5;241m=\u001b[39m []\n\u001b[0;32m--> 918\u001b[0m \u001b[38;5;28;01mfor\u001b[39;00m res \u001b[38;5;129;01min\u001b[39;00m \u001b[43m_socket\u001b[49m\u001b[38;5;241;43m.\u001b[39;49m\u001b[43mgetaddrinfo\u001b[49m\u001b[43m(\u001b[49m\u001b[43mhost\u001b[49m\u001b[43m,\u001b[49m\u001b[43m \u001b[49m\u001b[43mport\u001b[49m\u001b[43m,\u001b[49m\u001b[43m \u001b[49m\u001b[43mfamily\u001b[49m\u001b[43m,\u001b[49m\u001b[43m \u001b[49m\u001b[38;5;28;43mtype\u001b[39;49m\u001b[43m,\u001b[49m\u001b[43m \u001b[49m\u001b[43mproto\u001b[49m\u001b[43m,\u001b[49m\u001b[43m \u001b[49m\u001b[43mflags\u001b[49m\u001b[43m)\u001b[49m:\n\u001b[1;32m    919\u001b[0m     af, socktype, proto, canonname, sa \u001b[38;5;241m=\u001b[39m res\n",
      "\u001b[0;31mgaierror\u001b[0m: [Errno 8] nodename nor servname provided, or not known",
      "\nDuring handling of the above exception, another exception occurred:\n",
      "\u001b[0;31mNewConnectionError\u001b[0m                        Traceback (most recent call last)",
      "File \u001b[0;32m/opt/homebrew/Caskroom/miniforge/base/envs/gorgias/lib/python3.8/site-packages/urllib3/connectionpool.py:703\u001b[0m, in \u001b[0;36mHTTPConnectionPool.urlopen\u001b[0;34m(self, method, url, body, headers, retries, redirect, assert_same_host, timeout, pool_timeout, release_conn, chunked, body_pos, **response_kw)\u001b[0m\n\u001b[1;32m    702\u001b[0m \u001b[38;5;66;03m# Make the request on the httplib connection object.\u001b[39;00m\n\u001b[0;32m--> 703\u001b[0m httplib_response \u001b[38;5;241m=\u001b[39m \u001b[38;5;28;43mself\u001b[39;49m\u001b[38;5;241;43m.\u001b[39;49m\u001b[43m_make_request\u001b[49m\u001b[43m(\u001b[49m\n\u001b[1;32m    704\u001b[0m \u001b[43m    \u001b[49m\u001b[43mconn\u001b[49m\u001b[43m,\u001b[49m\n\u001b[1;32m    705\u001b[0m \u001b[43m    \u001b[49m\u001b[43mmethod\u001b[49m\u001b[43m,\u001b[49m\n\u001b[1;32m    706\u001b[0m \u001b[43m    \u001b[49m\u001b[43murl\u001b[49m\u001b[43m,\u001b[49m\n\u001b[1;32m    707\u001b[0m \u001b[43m    \u001b[49m\u001b[43mtimeout\u001b[49m\u001b[38;5;241;43m=\u001b[39;49m\u001b[43mtimeout_obj\u001b[49m\u001b[43m,\u001b[49m\n\u001b[1;32m    708\u001b[0m \u001b[43m    \u001b[49m\u001b[43mbody\u001b[49m\u001b[38;5;241;43m=\u001b[39;49m\u001b[43mbody\u001b[49m\u001b[43m,\u001b[49m\n\u001b[1;32m    709\u001b[0m \u001b[43m    \u001b[49m\u001b[43mheaders\u001b[49m\u001b[38;5;241;43m=\u001b[39;49m\u001b[43mheaders\u001b[49m\u001b[43m,\u001b[49m\n\u001b[1;32m    710\u001b[0m \u001b[43m    \u001b[49m\u001b[43mchunked\u001b[49m\u001b[38;5;241;43m=\u001b[39;49m\u001b[43mchunked\u001b[49m\u001b[43m,\u001b[49m\n\u001b[1;32m    711\u001b[0m \u001b[43m\u001b[49m\u001b[43m)\u001b[49m\n\u001b[1;32m    713\u001b[0m \u001b[38;5;66;03m# If we're going to release the connection in ``finally:``, then\u001b[39;00m\n\u001b[1;32m    714\u001b[0m \u001b[38;5;66;03m# the response doesn't need to know about the connection. Otherwise\u001b[39;00m\n\u001b[1;32m    715\u001b[0m \u001b[38;5;66;03m# it will also try to release it and we'll have a double-release\u001b[39;00m\n\u001b[1;32m    716\u001b[0m \u001b[38;5;66;03m# mess.\u001b[39;00m\n",
      "File \u001b[0;32m/opt/homebrew/Caskroom/miniforge/base/envs/gorgias/lib/python3.8/site-packages/urllib3/connectionpool.py:386\u001b[0m, in \u001b[0;36mHTTPConnectionPool._make_request\u001b[0;34m(self, conn, method, url, timeout, chunked, **httplib_request_kw)\u001b[0m\n\u001b[1;32m    385\u001b[0m \u001b[38;5;28;01mtry\u001b[39;00m:\n\u001b[0;32m--> 386\u001b[0m     \u001b[38;5;28;43mself\u001b[39;49m\u001b[38;5;241;43m.\u001b[39;49m\u001b[43m_validate_conn\u001b[49m\u001b[43m(\u001b[49m\u001b[43mconn\u001b[49m\u001b[43m)\u001b[49m\n\u001b[1;32m    387\u001b[0m \u001b[38;5;28;01mexcept\u001b[39;00m (SocketTimeout, BaseSSLError) \u001b[38;5;28;01mas\u001b[39;00m e:\n\u001b[1;32m    388\u001b[0m     \u001b[38;5;66;03m# Py2 raises this as a BaseSSLError, Py3 raises it as socket timeout.\u001b[39;00m\n",
      "File \u001b[0;32m/opt/homebrew/Caskroom/miniforge/base/envs/gorgias/lib/python3.8/site-packages/urllib3/connectionpool.py:1040\u001b[0m, in \u001b[0;36mHTTPSConnectionPool._validate_conn\u001b[0;34m(self, conn)\u001b[0m\n\u001b[1;32m   1039\u001b[0m \u001b[38;5;28;01mif\u001b[39;00m \u001b[38;5;129;01mnot\u001b[39;00m \u001b[38;5;28mgetattr\u001b[39m(conn, \u001b[38;5;124m\"\u001b[39m\u001b[38;5;124msock\u001b[39m\u001b[38;5;124m\"\u001b[39m, \u001b[38;5;28;01mNone\u001b[39;00m):  \u001b[38;5;66;03m# AppEngine might not have  `.sock`\u001b[39;00m\n\u001b[0;32m-> 1040\u001b[0m     \u001b[43mconn\u001b[49m\u001b[38;5;241;43m.\u001b[39;49m\u001b[43mconnect\u001b[49m\u001b[43m(\u001b[49m\u001b[43m)\u001b[49m\n\u001b[1;32m   1042\u001b[0m \u001b[38;5;28;01mif\u001b[39;00m \u001b[38;5;129;01mnot\u001b[39;00m conn\u001b[38;5;241m.\u001b[39mis_verified:\n",
      "File \u001b[0;32m/opt/homebrew/Caskroom/miniforge/base/envs/gorgias/lib/python3.8/site-packages/urllib3/connection.py:358\u001b[0m, in \u001b[0;36mHTTPSConnection.connect\u001b[0;34m(self)\u001b[0m\n\u001b[1;32m    356\u001b[0m \u001b[38;5;28;01mdef\u001b[39;00m \u001b[38;5;21mconnect\u001b[39m(\u001b[38;5;28mself\u001b[39m):\n\u001b[1;32m    357\u001b[0m     \u001b[38;5;66;03m# Add certificate verification\u001b[39;00m\n\u001b[0;32m--> 358\u001b[0m     conn \u001b[38;5;241m=\u001b[39m \u001b[38;5;28;43mself\u001b[39;49m\u001b[38;5;241;43m.\u001b[39;49m\u001b[43m_new_conn\u001b[49m\u001b[43m(\u001b[49m\u001b[43m)\u001b[49m\n\u001b[1;32m    359\u001b[0m     hostname \u001b[38;5;241m=\u001b[39m \u001b[38;5;28mself\u001b[39m\u001b[38;5;241m.\u001b[39mhost\n",
      "File \u001b[0;32m/opt/homebrew/Caskroom/miniforge/base/envs/gorgias/lib/python3.8/site-packages/urllib3/connection.py:186\u001b[0m, in \u001b[0;36mHTTPConnection._new_conn\u001b[0;34m(self)\u001b[0m\n\u001b[1;32m    185\u001b[0m \u001b[38;5;28;01mexcept\u001b[39;00m SocketError \u001b[38;5;28;01mas\u001b[39;00m e:\n\u001b[0;32m--> 186\u001b[0m     \u001b[38;5;28;01mraise\u001b[39;00m NewConnectionError(\n\u001b[1;32m    187\u001b[0m         \u001b[38;5;28mself\u001b[39m, \u001b[38;5;124m\"\u001b[39m\u001b[38;5;124mFailed to establish a new connection: \u001b[39m\u001b[38;5;132;01m%s\u001b[39;00m\u001b[38;5;124m\"\u001b[39m \u001b[38;5;241m%\u001b[39m e\n\u001b[1;32m    188\u001b[0m     )\n\u001b[1;32m    190\u001b[0m \u001b[38;5;28;01mreturn\u001b[39;00m conn\n",
      "\u001b[0;31mNewConnectionError\u001b[0m: <urllib3.connection.HTTPSConnection object at 0x124d455b0>: Failed to establish a new connection: [Errno 8] nodename nor servname provided, or not known",
      "\nDuring handling of the above exception, another exception occurred:\n",
      "\u001b[0;31mMaxRetryError\u001b[0m                             Traceback (most recent call last)",
      "File \u001b[0;32m/opt/homebrew/Caskroom/miniforge/base/envs/gorgias/lib/python3.8/site-packages/requests/adapters.py:440\u001b[0m, in \u001b[0;36mHTTPAdapter.send\u001b[0;34m(self, request, stream, timeout, verify, cert, proxies)\u001b[0m\n\u001b[1;32m    439\u001b[0m \u001b[38;5;28;01mif\u001b[39;00m \u001b[38;5;129;01mnot\u001b[39;00m chunked:\n\u001b[0;32m--> 440\u001b[0m     resp \u001b[38;5;241m=\u001b[39m \u001b[43mconn\u001b[49m\u001b[38;5;241;43m.\u001b[39;49m\u001b[43murlopen\u001b[49m\u001b[43m(\u001b[49m\n\u001b[1;32m    441\u001b[0m \u001b[43m        \u001b[49m\u001b[43mmethod\u001b[49m\u001b[38;5;241;43m=\u001b[39;49m\u001b[43mrequest\u001b[49m\u001b[38;5;241;43m.\u001b[39;49m\u001b[43mmethod\u001b[49m\u001b[43m,\u001b[49m\n\u001b[1;32m    442\u001b[0m \u001b[43m        \u001b[49m\u001b[43murl\u001b[49m\u001b[38;5;241;43m=\u001b[39;49m\u001b[43murl\u001b[49m\u001b[43m,\u001b[49m\n\u001b[1;32m    443\u001b[0m \u001b[43m        \u001b[49m\u001b[43mbody\u001b[49m\u001b[38;5;241;43m=\u001b[39;49m\u001b[43mrequest\u001b[49m\u001b[38;5;241;43m.\u001b[39;49m\u001b[43mbody\u001b[49m\u001b[43m,\u001b[49m\n\u001b[1;32m    444\u001b[0m \u001b[43m        \u001b[49m\u001b[43mheaders\u001b[49m\u001b[38;5;241;43m=\u001b[39;49m\u001b[43mrequest\u001b[49m\u001b[38;5;241;43m.\u001b[39;49m\u001b[43mheaders\u001b[49m\u001b[43m,\u001b[49m\n\u001b[1;32m    445\u001b[0m \u001b[43m        \u001b[49m\u001b[43mredirect\u001b[49m\u001b[38;5;241;43m=\u001b[39;49m\u001b[38;5;28;43;01mFalse\u001b[39;49;00m\u001b[43m,\u001b[49m\n\u001b[1;32m    446\u001b[0m \u001b[43m        \u001b[49m\u001b[43massert_same_host\u001b[49m\u001b[38;5;241;43m=\u001b[39;49m\u001b[38;5;28;43;01mFalse\u001b[39;49;00m\u001b[43m,\u001b[49m\n\u001b[1;32m    447\u001b[0m \u001b[43m        \u001b[49m\u001b[43mpreload_content\u001b[49m\u001b[38;5;241;43m=\u001b[39;49m\u001b[38;5;28;43;01mFalse\u001b[39;49;00m\u001b[43m,\u001b[49m\n\u001b[1;32m    448\u001b[0m \u001b[43m        \u001b[49m\u001b[43mdecode_content\u001b[49m\u001b[38;5;241;43m=\u001b[39;49m\u001b[38;5;28;43;01mFalse\u001b[39;49;00m\u001b[43m,\u001b[49m\n\u001b[1;32m    449\u001b[0m \u001b[43m        \u001b[49m\u001b[43mretries\u001b[49m\u001b[38;5;241;43m=\u001b[39;49m\u001b[38;5;28;43mself\u001b[39;49m\u001b[38;5;241;43m.\u001b[39;49m\u001b[43mmax_retries\u001b[49m\u001b[43m,\u001b[49m\n\u001b[1;32m    450\u001b[0m \u001b[43m        \u001b[49m\u001b[43mtimeout\u001b[49m\u001b[38;5;241;43m=\u001b[39;49m\u001b[43mtimeout\u001b[49m\n\u001b[1;32m    451\u001b[0m \u001b[43m    \u001b[49m\u001b[43m)\u001b[49m\n\u001b[1;32m    453\u001b[0m \u001b[38;5;66;03m# Send the request.\u001b[39;00m\n\u001b[1;32m    454\u001b[0m \u001b[38;5;28;01melse\u001b[39;00m:\n",
      "File \u001b[0;32m/opt/homebrew/Caskroom/miniforge/base/envs/gorgias/lib/python3.8/site-packages/urllib3/connectionpool.py:785\u001b[0m, in \u001b[0;36mHTTPConnectionPool.urlopen\u001b[0;34m(self, method, url, body, headers, retries, redirect, assert_same_host, timeout, pool_timeout, release_conn, chunked, body_pos, **response_kw)\u001b[0m\n\u001b[1;32m    783\u001b[0m     e \u001b[38;5;241m=\u001b[39m ProtocolError(\u001b[38;5;124m\"\u001b[39m\u001b[38;5;124mConnection aborted.\u001b[39m\u001b[38;5;124m\"\u001b[39m, e)\n\u001b[0;32m--> 785\u001b[0m retries \u001b[38;5;241m=\u001b[39m \u001b[43mretries\u001b[49m\u001b[38;5;241;43m.\u001b[39;49m\u001b[43mincrement\u001b[49m\u001b[43m(\u001b[49m\n\u001b[1;32m    786\u001b[0m \u001b[43m    \u001b[49m\u001b[43mmethod\u001b[49m\u001b[43m,\u001b[49m\u001b[43m \u001b[49m\u001b[43murl\u001b[49m\u001b[43m,\u001b[49m\u001b[43m \u001b[49m\u001b[43merror\u001b[49m\u001b[38;5;241;43m=\u001b[39;49m\u001b[43me\u001b[49m\u001b[43m,\u001b[49m\u001b[43m \u001b[49m\u001b[43m_pool\u001b[49m\u001b[38;5;241;43m=\u001b[39;49m\u001b[38;5;28;43mself\u001b[39;49m\u001b[43m,\u001b[49m\u001b[43m \u001b[49m\u001b[43m_stacktrace\u001b[49m\u001b[38;5;241;43m=\u001b[39;49m\u001b[43msys\u001b[49m\u001b[38;5;241;43m.\u001b[39;49m\u001b[43mexc_info\u001b[49m\u001b[43m(\u001b[49m\u001b[43m)\u001b[49m\u001b[43m[\u001b[49m\u001b[38;5;241;43m2\u001b[39;49m\u001b[43m]\u001b[49m\n\u001b[1;32m    787\u001b[0m \u001b[43m\u001b[49m\u001b[43m)\u001b[49m\n\u001b[1;32m    788\u001b[0m retries\u001b[38;5;241m.\u001b[39msleep()\n",
      "File \u001b[0;32m/opt/homebrew/Caskroom/miniforge/base/envs/gorgias/lib/python3.8/site-packages/urllib3/util/retry.py:592\u001b[0m, in \u001b[0;36mRetry.increment\u001b[0;34m(self, method, url, response, error, _pool, _stacktrace)\u001b[0m\n\u001b[1;32m    591\u001b[0m \u001b[38;5;28;01mif\u001b[39;00m new_retry\u001b[38;5;241m.\u001b[39mis_exhausted():\n\u001b[0;32m--> 592\u001b[0m     \u001b[38;5;28;01mraise\u001b[39;00m MaxRetryError(_pool, url, error \u001b[38;5;129;01mor\u001b[39;00m ResponseError(cause))\n\u001b[1;32m    594\u001b[0m log\u001b[38;5;241m.\u001b[39mdebug(\u001b[38;5;124m\"\u001b[39m\u001b[38;5;124mIncremented Retry for (url=\u001b[39m\u001b[38;5;124m'\u001b[39m\u001b[38;5;132;01m%s\u001b[39;00m\u001b[38;5;124m'\u001b[39m\u001b[38;5;124m): \u001b[39m\u001b[38;5;132;01m%r\u001b[39;00m\u001b[38;5;124m\"\u001b[39m, url, new_retry)\n",
      "\u001b[0;31mMaxRetryError\u001b[0m: HTTPSConnectionPool(host='www,thewaltzfilm.com', port=443): Max retries exceeded with url: / (Caused by NewConnectionError('<urllib3.connection.HTTPSConnection object at 0x124d455b0>: Failed to establish a new connection: [Errno 8] nodename nor servname provided, or not known'))",
      "\nDuring handling of the above exception, another exception occurred:\n",
      "\u001b[0;31mConnectionError\u001b[0m                           Traceback (most recent call last)",
      "Input \u001b[0;32mIn [112]\u001b[0m, in \u001b[0;36m<cell line: 1>\u001b[0;34m()\u001b[0m\n\u001b[1;32m      1\u001b[0m \u001b[38;5;28;01mfor\u001b[39;00m el \u001b[38;5;129;01min\u001b[39;00m dodo : \n\u001b[1;32m      2\u001b[0m     \u001b[38;5;28;01mtry\u001b[39;00m :\n\u001b[0;32m----> 3\u001b[0m         r \u001b[38;5;241m=\u001b[39m \u001b[43mrequests\u001b[49m\u001b[38;5;241;43m.\u001b[39;49m\u001b[43mget\u001b[49m\u001b[43m(\u001b[49m\u001b[43mel\u001b[49m\u001b[43m)\u001b[49m\n\u001b[1;32m      4\u001b[0m         t \u001b[38;5;241m=\u001b[39m \u001b[38;5;28mstr\u001b[39m(r\u001b[38;5;241m.\u001b[39mtext)\n\u001b[1;32m      5\u001b[0m         shopify \u001b[38;5;241m=\u001b[39m t\u001b[38;5;241m.\u001b[39mfind(\u001b[38;5;124m'\u001b[39m\u001b[38;5;124mshopify\u001b[39m\u001b[38;5;124m'\u001b[39m)\n",
      "File \u001b[0;32m/opt/homebrew/Caskroom/miniforge/base/envs/gorgias/lib/python3.8/site-packages/requests/api.py:75\u001b[0m, in \u001b[0;36mget\u001b[0;34m(url, params, **kwargs)\u001b[0m\n\u001b[1;32m     64\u001b[0m \u001b[38;5;28;01mdef\u001b[39;00m \u001b[38;5;21mget\u001b[39m(url, params\u001b[38;5;241m=\u001b[39m\u001b[38;5;28;01mNone\u001b[39;00m, \u001b[38;5;241m*\u001b[39m\u001b[38;5;241m*\u001b[39mkwargs):\n\u001b[1;32m     65\u001b[0m     \u001b[38;5;124mr\u001b[39m\u001b[38;5;124;03m\"\"\"Sends a GET request.\u001b[39;00m\n\u001b[1;32m     66\u001b[0m \n\u001b[1;32m     67\u001b[0m \u001b[38;5;124;03m    :param url: URL for the new :class:`Request` object.\u001b[39;00m\n\u001b[0;32m   (...)\u001b[0m\n\u001b[1;32m     72\u001b[0m \u001b[38;5;124;03m    :rtype: requests.Response\u001b[39;00m\n\u001b[1;32m     73\u001b[0m \u001b[38;5;124;03m    \"\"\"\u001b[39;00m\n\u001b[0;32m---> 75\u001b[0m     \u001b[38;5;28;01mreturn\u001b[39;00m \u001b[43mrequest\u001b[49m\u001b[43m(\u001b[49m\u001b[38;5;124;43m'\u001b[39;49m\u001b[38;5;124;43mget\u001b[39;49m\u001b[38;5;124;43m'\u001b[39;49m\u001b[43m,\u001b[49m\u001b[43m \u001b[49m\u001b[43murl\u001b[49m\u001b[43m,\u001b[49m\u001b[43m \u001b[49m\u001b[43mparams\u001b[49m\u001b[38;5;241;43m=\u001b[39;49m\u001b[43mparams\u001b[49m\u001b[43m,\u001b[49m\u001b[43m \u001b[49m\u001b[38;5;241;43m*\u001b[39;49m\u001b[38;5;241;43m*\u001b[39;49m\u001b[43mkwargs\u001b[49m\u001b[43m)\u001b[49m\n",
      "File \u001b[0;32m/opt/homebrew/Caskroom/miniforge/base/envs/gorgias/lib/python3.8/site-packages/requests/api.py:61\u001b[0m, in \u001b[0;36mrequest\u001b[0;34m(method, url, **kwargs)\u001b[0m\n\u001b[1;32m     57\u001b[0m \u001b[38;5;66;03m# By using the 'with' statement we are sure the session is closed, thus we\u001b[39;00m\n\u001b[1;32m     58\u001b[0m \u001b[38;5;66;03m# avoid leaving sockets open which can trigger a ResourceWarning in some\u001b[39;00m\n\u001b[1;32m     59\u001b[0m \u001b[38;5;66;03m# cases, and look like a memory leak in others.\u001b[39;00m\n\u001b[1;32m     60\u001b[0m \u001b[38;5;28;01mwith\u001b[39;00m sessions\u001b[38;5;241m.\u001b[39mSession() \u001b[38;5;28;01mas\u001b[39;00m session:\n\u001b[0;32m---> 61\u001b[0m     \u001b[38;5;28;01mreturn\u001b[39;00m \u001b[43msession\u001b[49m\u001b[38;5;241;43m.\u001b[39;49m\u001b[43mrequest\u001b[49m\u001b[43m(\u001b[49m\u001b[43mmethod\u001b[49m\u001b[38;5;241;43m=\u001b[39;49m\u001b[43mmethod\u001b[49m\u001b[43m,\u001b[49m\u001b[43m \u001b[49m\u001b[43murl\u001b[49m\u001b[38;5;241;43m=\u001b[39;49m\u001b[43murl\u001b[49m\u001b[43m,\u001b[49m\u001b[43m \u001b[49m\u001b[38;5;241;43m*\u001b[39;49m\u001b[38;5;241;43m*\u001b[39;49m\u001b[43mkwargs\u001b[49m\u001b[43m)\u001b[49m\n",
      "File \u001b[0;32m/opt/homebrew/Caskroom/miniforge/base/envs/gorgias/lib/python3.8/site-packages/requests/sessions.py:529\u001b[0m, in \u001b[0;36mSession.request\u001b[0;34m(self, method, url, params, data, headers, cookies, files, auth, timeout, allow_redirects, proxies, hooks, stream, verify, cert, json)\u001b[0m\n\u001b[1;32m    524\u001b[0m send_kwargs \u001b[38;5;241m=\u001b[39m {\n\u001b[1;32m    525\u001b[0m     \u001b[38;5;124m'\u001b[39m\u001b[38;5;124mtimeout\u001b[39m\u001b[38;5;124m'\u001b[39m: timeout,\n\u001b[1;32m    526\u001b[0m     \u001b[38;5;124m'\u001b[39m\u001b[38;5;124mallow_redirects\u001b[39m\u001b[38;5;124m'\u001b[39m: allow_redirects,\n\u001b[1;32m    527\u001b[0m }\n\u001b[1;32m    528\u001b[0m send_kwargs\u001b[38;5;241m.\u001b[39mupdate(settings)\n\u001b[0;32m--> 529\u001b[0m resp \u001b[38;5;241m=\u001b[39m \u001b[38;5;28;43mself\u001b[39;49m\u001b[38;5;241;43m.\u001b[39;49m\u001b[43msend\u001b[49m\u001b[43m(\u001b[49m\u001b[43mprep\u001b[49m\u001b[43m,\u001b[49m\u001b[43m \u001b[49m\u001b[38;5;241;43m*\u001b[39;49m\u001b[38;5;241;43m*\u001b[39;49m\u001b[43msend_kwargs\u001b[49m\u001b[43m)\u001b[49m\n\u001b[1;32m    531\u001b[0m \u001b[38;5;28;01mreturn\u001b[39;00m resp\n",
      "File \u001b[0;32m/opt/homebrew/Caskroom/miniforge/base/envs/gorgias/lib/python3.8/site-packages/requests/sessions.py:645\u001b[0m, in \u001b[0;36mSession.send\u001b[0;34m(self, request, **kwargs)\u001b[0m\n\u001b[1;32m    642\u001b[0m start \u001b[38;5;241m=\u001b[39m preferred_clock()\n\u001b[1;32m    644\u001b[0m \u001b[38;5;66;03m# Send the request\u001b[39;00m\n\u001b[0;32m--> 645\u001b[0m r \u001b[38;5;241m=\u001b[39m \u001b[43madapter\u001b[49m\u001b[38;5;241;43m.\u001b[39;49m\u001b[43msend\u001b[49m\u001b[43m(\u001b[49m\u001b[43mrequest\u001b[49m\u001b[43m,\u001b[49m\u001b[43m \u001b[49m\u001b[38;5;241;43m*\u001b[39;49m\u001b[38;5;241;43m*\u001b[39;49m\u001b[43mkwargs\u001b[49m\u001b[43m)\u001b[49m\n\u001b[1;32m    647\u001b[0m \u001b[38;5;66;03m# Total elapsed time of the request (approximately)\u001b[39;00m\n\u001b[1;32m    648\u001b[0m elapsed \u001b[38;5;241m=\u001b[39m preferred_clock() \u001b[38;5;241m-\u001b[39m start\n",
      "File \u001b[0;32m/opt/homebrew/Caskroom/miniforge/base/envs/gorgias/lib/python3.8/site-packages/requests/adapters.py:519\u001b[0m, in \u001b[0;36mHTTPAdapter.send\u001b[0;34m(self, request, stream, timeout, verify, cert, proxies)\u001b[0m\n\u001b[1;32m    515\u001b[0m     \u001b[38;5;28;01mif\u001b[39;00m \u001b[38;5;28misinstance\u001b[39m(e\u001b[38;5;241m.\u001b[39mreason, _SSLError):\n\u001b[1;32m    516\u001b[0m         \u001b[38;5;66;03m# This branch is for urllib3 v1.22 and later.\u001b[39;00m\n\u001b[1;32m    517\u001b[0m         \u001b[38;5;28;01mraise\u001b[39;00m SSLError(e, request\u001b[38;5;241m=\u001b[39mrequest)\n\u001b[0;32m--> 519\u001b[0m     \u001b[38;5;28;01mraise\u001b[39;00m \u001b[38;5;167;01mConnectionError\u001b[39;00m(e, request\u001b[38;5;241m=\u001b[39mrequest)\n\u001b[1;32m    521\u001b[0m \u001b[38;5;28;01mexcept\u001b[39;00m ClosedPoolError \u001b[38;5;28;01mas\u001b[39;00m e:\n\u001b[1;32m    522\u001b[0m     \u001b[38;5;28;01mraise\u001b[39;00m \u001b[38;5;167;01mConnectionError\u001b[39;00m(e, request\u001b[38;5;241m=\u001b[39mrequest)\n",
      "\u001b[0;31mConnectionError\u001b[0m: HTTPSConnectionPool(host='www,thewaltzfilm.com', port=443): Max retries exceeded with url: / (Caused by NewConnectionError('<urllib3.connection.HTTPSConnection object at 0x124d455b0>: Failed to establish a new connection: [Errno 8] nodename nor servname provided, or not known'))"
     ]
    }
   ],
   "source": [
    "for el in dodo : \n",
    "    try :\n",
    "        r = requests.get(el)\n",
    "        t = str(r.text)\n",
    "        shopify = t.find('shopify')\n",
    "        s.append(shopify)\n",
    "    except ConnectionError :\n",
    "        pass"
   ]
  },
  {
   "cell_type": "code",
   "execution_count": 117,
   "id": "6389b84b",
   "metadata": {},
   "outputs": [
    {
     "data": {
      "text/plain": [
       "[-1, -1, 362, -1, -1, -1, -1, -1, -1, 362, -1, -1, -1, -1, 362, -1, -1, -1, -1]"
      ]
     },
     "execution_count": 117,
     "metadata": {},
     "output_type": "execute_result"
    }
   ],
   "source": [
    "s"
   ]
  },
  {
   "cell_type": "code",
   "execution_count": null,
   "id": "4aae36a0",
   "metadata": {},
   "outputs": [],
   "source": []
  },
  {
   "cell_type": "code",
   "execution_count": null,
   "id": "51ac5a0c",
   "metadata": {},
   "outputs": [],
   "source": []
  },
  {
   "cell_type": "code",
   "execution_count": null,
   "id": "901011e8",
   "metadata": {},
   "outputs": [],
   "source": []
  },
  {
   "cell_type": "code",
   "execution_count": null,
   "id": "77fe1b23",
   "metadata": {},
   "outputs": [],
   "source": []
  },
  {
   "cell_type": "code",
   "execution_count": null,
   "id": "c2392ceb",
   "metadata": {},
   "outputs": [],
   "source": []
  },
  {
   "cell_type": "code",
   "execution_count": null,
   "id": "5d28b3b9",
   "metadata": {},
   "outputs": [],
   "source": []
  },
  {
   "cell_type": "code",
   "execution_count": null,
   "id": "8e5b02e7",
   "metadata": {},
   "outputs": [],
   "source": []
  },
  {
   "cell_type": "code",
   "execution_count": null,
   "id": "19946abe",
   "metadata": {},
   "outputs": [],
   "source": []
  },
  {
   "cell_type": "code",
   "execution_count": null,
   "id": "76646fc3",
   "metadata": {},
   "outputs": [],
   "source": []
  },
  {
   "cell_type": "code",
   "execution_count": null,
   "id": "fdabcf7f",
   "metadata": {},
   "outputs": [],
   "source": []
  },
  {
   "cell_type": "code",
   "execution_count": null,
   "id": "fc82f54e",
   "metadata": {},
   "outputs": [],
   "source": []
  },
  {
   "cell_type": "code",
   "execution_count": null,
   "id": "ec21681a",
   "metadata": {},
   "outputs": [],
   "source": []
  },
  {
   "cell_type": "code",
   "execution_count": null,
   "id": "d5827b98",
   "metadata": {},
   "outputs": [],
   "source": []
  },
  {
   "cell_type": "code",
   "execution_count": 187,
   "id": "1d551691",
   "metadata": {},
   "outputs": [],
   "source": [
    "for i in range(0,len(containers)) : \n",
    "    string =  to_string(containers[i])\n",
    "    name = get_name(string)\n",
    "    creator = get_creator(string)\n",
    "    location = get_location(string)\n",
    "    profile = get_profile(string)\n",
    "    my_dict[i] = name,creator,location,profile\n",
    "    df = pd.DataFrame(my_dict)\n",
    "    final_df = pd.concat([final_df, df],ignore_index=True)\n",
    "    i =+ 1"
   ]
  },
  {
   "cell_type": "code",
   "execution_count": 240,
   "id": "eeed63d5",
   "metadata": {},
   "outputs": [],
   "source": [
    "for i in range(1, len(containers)) : \n",
    "    final_df = row_flow(containers[0])\n",
    "    #next_row = row_flow(containers[i])\n",
    "    final_df = pd.concat([final_df, row_flow(containers[i])],ignore_index=True)\n",
    "    i =+1"
   ]
  }
 ],
 "metadata": {
  "kernelspec": {
   "display_name": "gorgias",
   "language": "python",
   "name": "gorgias"
  },
  "language_info": {
   "codemirror_mode": {
    "name": "ipython",
    "version": 3
   },
   "file_extension": ".py",
   "mimetype": "text/x-python",
   "name": "python",
   "nbconvert_exporter": "python",
   "pygments_lexer": "ipython3",
   "version": "3.8.12"
  }
 },
 "nbformat": 4,
 "nbformat_minor": 5
}
