{
 "cells": [
  {
   "cell_type": "code",
   "execution_count": 9,
   "id": "f2286402",
   "metadata": {},
   "outputs": [],
   "source": [
    "from apollo import ApolloInstance\n",
    "import json"
   ]
  },
  {
   "cell_type": "code",
   "execution_count": 71,
   "id": "862252bc",
   "metadata": {},
   "outputs": [],
   "source": [
    "import pandas as pd"
   ]
  },
  {
   "cell_type": "code",
   "execution_count": 72,
   "id": "bb2211ca",
   "metadata": {},
   "outputs": [],
   "source": [
    "import requests"
   ]
  },
  {
   "cell_type": "code",
   "execution_count": 82,
   "id": "51182045",
   "metadata": {},
   "outputs": [],
   "source": [
    "import re"
   ]
  },
  {
   "cell_type": "code",
   "execution_count": 73,
   "id": "4622ff49",
   "metadata": {},
   "outputs": [],
   "source": [
    "url = \"https://api.apollo.io/v1/auth/health\""
   ]
  },
  {
   "cell_type": "code",
   "execution_count": 74,
   "id": "14fe59e8",
   "metadata": {},
   "outputs": [],
   "source": [
    "APIKEY = 'Zsw8pwFdBZcUhYwSRGBQRQ'"
   ]
  },
  {
   "cell_type": "code",
   "execution_count": 75,
   "id": "70e08508",
   "metadata": {},
   "outputs": [],
   "source": [
    "querystring = {\"api_key\": APIKEY}"
   ]
  },
  {
   "cell_type": "code",
   "execution_count": 76,
   "id": "26ed7159",
   "metadata": {},
   "outputs": [],
   "source": [
    "headers = {\n",
    "    'Cache-Control': 'no-cache',\n",
    "    'Content-Type': 'application/json'\n",
    "}"
   ]
  },
  {
   "cell_type": "code",
   "execution_count": 77,
   "id": "46143dc9",
   "metadata": {},
   "outputs": [],
   "source": [
    "response = requests.request(\"GET\", url, headers=headers, params=querystring)\n"
   ]
  },
  {
   "cell_type": "code",
   "execution_count": 78,
   "id": "ab11f72e",
   "metadata": {},
   "outputs": [
    {
     "name": "stdout",
     "output_type": "stream",
     "text": [
      "{\"healthy\":true,\"is_logged_in\":true}\n"
     ]
    }
   ],
   "source": [
    "print(response.text)"
   ]
  },
  {
   "cell_type": "code",
   "execution_count": null,
   "id": "459e0732",
   "metadata": {},
   "outputs": [],
   "source": [
    "url = \"https://api.apollo.io/v1/people/match\"\n",
    "\n",
    "data = {\n",
    "    \"api_key\": APIKEY,\n",
    "    \"id\": \"583f2f7ed9ced98ab5bfXXXX\",\n",
    "    \"first_name\": \"Tim\",\n",
    "    \"last_name\": \"Zheng\",\n",
    "    \"organization_name\": \"Apollo\",\n",
    "    \"email\": \"name@domain.io\",\n",
    "    \"domain\": \"apollo.io\"\n",
    "}\n",
    "\n",
    "headers = {\n",
    "    'Cache-Control': 'no-cache',\n",
    "    'Content-Type': 'application/json'\n",
    "}\n",
    "\n",
    "response = requests.request(\"POST\", url, headers=headers, json=data)"
   ]
  },
  {
   "cell_type": "code",
   "execution_count": 10,
   "id": "b7fb5e3e",
   "metadata": {},
   "outputs": [],
   "source": [
    "with open(\"data.json\") as jsonFile:\n",
    "    jsonObject = json.load(jsonFile)\n",
    "    jsonFile.close()\n",
    "j = json.loads(jsonObject)"
   ]
  },
  {
   "cell_type": "code",
   "execution_count": 24,
   "id": "55f4451c",
   "metadata": {},
   "outputs": [
    {
     "data": {
      "text/plain": [
       "str"
      ]
     },
     "execution_count": 24,
     "metadata": {},
     "output_type": "execute_result"
    }
   ],
   "source": [
    "type(jsonObject)"
   ]
  },
  {
   "cell_type": "code",
   "execution_count": 46,
   "id": "11b22f58",
   "metadata": {},
   "outputs": [
    {
     "data": {
      "text/plain": [
       "dict"
      ]
     },
     "execution_count": 46,
     "metadata": {},
     "output_type": "execute_result"
    }
   ],
   "source": [
    "type(j)"
   ]
  },
  {
   "cell_type": "code",
   "execution_count": 11,
   "id": "dceb9d97",
   "metadata": {},
   "outputs": [
    {
     "name": "stdout",
     "output_type": "stream",
     "text": [
      "{'project_name': 'Fresh Produce Stationary: Pins, Tapes, Stickers ; More!', 'project_blurb': 'Adorable and fresh, these fruits and veggies merch will brighten your day (and maybe your salad too)', 'project_goal': '2000.0', 'project_pledged': '3291.0', 'project_state': 'live', 'project_slug': 'fresh-produce-stationary-pins-tapes-stickers-and-more', 'project_country': 'US', 'project_deadline': '1646418527', 'project_state_changed_at': '1644258528', 'project_created_at': '1642638216', 'project_launched_at': '1644258527', 'creator_name': 'Stars and Sprinkles', 'website': 'https://starsandsprinkles.shop'}\n"
     ]
    }
   ],
   "source": [
    "print(j)"
   ]
  },
  {
   "cell_type": "code",
   "execution_count": 14,
   "id": "e25a5119",
   "metadata": {},
   "outputs": [],
   "source": [
    "name = 'Alejandro Polanco'"
   ]
  },
  {
   "cell_type": "code",
   "execution_count": 15,
   "id": "b59ead80",
   "metadata": {},
   "outputs": [],
   "source": [
    "n = name.split(' ')"
   ]
  },
  {
   "cell_type": "code",
   "execution_count": 32,
   "id": "223e80ff",
   "metadata": {},
   "outputs": [],
   "source": [
    "first_name = n[0]\n",
    "last_name = n[1]"
   ]
  },
  {
   "cell_type": "code",
   "execution_count": 33,
   "id": "33fc005c",
   "metadata": {},
   "outputs": [
    {
     "data": {
      "text/plain": [
       "('Alejandro', 'Polanco')"
      ]
     },
     "execution_count": 33,
     "metadata": {},
     "output_type": "execute_result"
    }
   ],
   "source": [
    "first_name, last_name"
   ]
  },
  {
   "cell_type": "markdown",
   "id": "8b92c73a",
   "metadata": {},
   "source": [
    "Apollo Request"
   ]
  },
  {
   "cell_type": "code",
   "execution_count": 12,
   "id": "db5ebc85",
   "metadata": {},
   "outputs": [],
   "source": [
    "url = \"https://api.apollo.io/v1/people/match\""
   ]
  },
  {
   "cell_type": "code",
   "execution_count": 34,
   "id": "6dc8b6cc",
   "metadata": {},
   "outputs": [],
   "source": [
    "data = {\n",
    "    \"api_key\": APIKEY,\n",
    "    \"first_name\": first_name,\n",
    "    \"last_name\": last_name,\n",
    "\n",
    "}\n",
    "response = requests.request(\"POST\", url, headers=headers, json=data)"
   ]
  },
  {
   "cell_type": "code",
   "execution_count": 35,
   "id": "5c20bac1",
   "metadata": {},
   "outputs": [
    {
     "name": "stdout",
     "output_type": "stream",
     "text": [
      "{\"person\":{\"id\":\"6223a381e66ab000f8e96a1e\",\"first_name\":\"Alejandro\",\"last_name\":\"Polanco\",\"name\":\"Alejandro Polanco\",\"linkedin_url\":null,\"title\":null,\"email_status\":null,\"photo_url\":null,\"twitter_url\":null,\"github_url\":null,\"facebook_url\":null,\"extrapolated_email_confidence\":0.0,\"headline\":null,\"email\":null,\"organization_id\":null,\"revealed_for_current_team\":true}}\n"
     ]
    }
   ],
   "source": [
    "print(response.text)"
   ]
  },
  {
   "cell_type": "code",
   "execution_count": 36,
   "id": "64e76a90",
   "metadata": {},
   "outputs": [
    {
     "data": {
      "text/plain": [
       "b'{\"person\":{\"id\":\"6223a381e66ab000f8e96a1e\",\"first_name\":\"Alejandro\",\"last_name\":\"Polanco\",\"name\":\"Alejandro Polanco\",\"linkedin_url\":null,\"title\":null,\"email_status\":null,\"photo_url\":null,\"twitter_url\":null,\"github_url\":null,\"facebook_url\":null,\"extrapolated_email_confidence\":0.0,\"headline\":null,\"email\":null,\"organization_id\":null,\"revealed_for_current_team\":true}}'"
      ]
     },
     "execution_count": 36,
     "metadata": {},
     "output_type": "execute_result"
    }
   ],
   "source": [
    "response.content"
   ]
  },
  {
   "cell_type": "code",
   "execution_count": 39,
   "id": "b98258f1",
   "metadata": {},
   "outputs": [],
   "source": [
    "v = response.text"
   ]
  },
  {
   "cell_type": "code",
   "execution_count": 40,
   "id": "77e89974",
   "metadata": {},
   "outputs": [],
   "source": [
    "t = json.loads(v)"
   ]
  },
  {
   "cell_type": "code",
   "execution_count": 47,
   "id": "d382c8d8",
   "metadata": {},
   "outputs": [
    {
     "data": {
      "text/plain": [
       "dict"
      ]
     },
     "execution_count": 47,
     "metadata": {},
     "output_type": "execute_result"
    }
   ],
   "source": [
    "type(t)"
   ]
  },
  {
   "cell_type": "code",
   "execution_count": null,
   "id": "fe3761a9",
   "metadata": {},
   "outputs": [],
   "source": []
  },
  {
   "cell_type": "code",
   "execution_count": 68,
   "id": "dd8c617b",
   "metadata": {},
   "outputs": [
    {
     "name": "stdout",
     "output_type": "stream",
     "text": [
      "1\n"
     ]
    }
   ],
   "source": [
    "print(len(t))"
   ]
  },
  {
   "cell_type": "code",
   "execution_count": 53,
   "id": "9bf84fd5",
   "metadata": {},
   "outputs": [],
   "source": [
    "t['person']['email']"
   ]
  },
  {
   "cell_type": "code",
   "execution_count": 67,
   "id": "00ff6ca9",
   "metadata": {},
   "outputs": [
    {
     "ename": "AttributeError",
     "evalue": "'dict' object has no attribute 'find'",
     "output_type": "error",
     "traceback": [
      "\u001b[0;31m---------------------------------------------------------------------------\u001b[0m",
      "\u001b[0;31mAttributeError\u001b[0m                            Traceback (most recent call last)",
      "Input \u001b[0;32mIn [67]\u001b[0m, in \u001b[0;36m<cell line: 1>\u001b[0;34m()\u001b[0m\n\u001b[0;32m----> 1\u001b[0m \u001b[43mt\u001b[49m\u001b[38;5;241;43m.\u001b[39;49m\u001b[43mfind\u001b[49m(\u001b[38;5;124m'\u001b[39m\u001b[38;5;124memail\u001b[39m\u001b[38;5;124m'\u001b[39m)\n",
      "\u001b[0;31mAttributeError\u001b[0m: 'dict' object has no attribute 'find'"
     ]
    }
   ],
   "source": [
    "t.find('email')"
   ]
  },
  {
   "cell_type": "code",
   "execution_count": 57,
   "id": "ad36f447",
   "metadata": {},
   "outputs": [],
   "source": [
    "g = pd.DataFrame(t)"
   ]
  },
  {
   "cell_type": "code",
   "execution_count": 60,
   "id": "bb2950f5",
   "metadata": {},
   "outputs": [
    {
     "data": {
      "text/plain": [
       "Index(['person'], dtype='object')"
      ]
     },
     "execution_count": 60,
     "metadata": {},
     "output_type": "execute_result"
    }
   ],
   "source": [
    "g.columns"
   ]
  },
  {
   "cell_type": "code",
   "execution_count": 80,
   "id": "11590e72",
   "metadata": {},
   "outputs": [],
   "source": [
    "def find_email(string) : \n",
    "    match = re.search(r'[\\w.+-]+@[\\w-]+\\.[\\w.-]+', string)\n",
    "    return match"
   ]
  },
  {
   "cell_type": "code",
   "execution_count": 79,
   "id": "81770214",
   "metadata": {},
   "outputs": [],
   "source": [
    "string ='this is a string for test and quite long just to see if it can find arthurspriet2601997@gmail.com'"
   ]
  },
  {
   "cell_type": "code",
   "execution_count": 83,
   "id": "f041cb4f",
   "metadata": {},
   "outputs": [
    {
     "data": {
      "text/plain": [
       "<re.Match object; span=(68, 97), match='arthurspriet2601997@gmail.com'>"
      ]
     },
     "execution_count": 83,
     "metadata": {},
     "output_type": "execute_result"
    }
   ],
   "source": [
    "find_email(string)"
   ]
  },
  {
   "cell_type": "code",
   "execution_count": null,
   "id": "dd34c3eb",
   "metadata": {},
   "outputs": [],
   "source": []
  }
 ],
 "metadata": {
  "kernelspec": {
   "display_name": "gorgias",
   "language": "python",
   "name": "gorgias"
  },
  "language_info": {
   "codemirror_mode": {
    "name": "ipython",
    "version": 3
   },
   "file_extension": ".py",
   "mimetype": "text/x-python",
   "name": "python",
   "nbconvert_exporter": "python",
   "pygments_lexer": "ipython3",
   "version": "3.8.12"
  }
 },
 "nbformat": 4,
 "nbformat_minor": 5
}
