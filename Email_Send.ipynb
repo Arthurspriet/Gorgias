{
 "cells": [
  {
   "cell_type": "code",
   "execution_count": 14,
   "id": "2d9ea936",
   "metadata": {},
   "outputs": [],
   "source": [
    "import smtplib\n",
    "import json"
   ]
  },
  {
   "cell_type": "code",
   "execution_count": 5,
   "id": "c899e4a6",
   "metadata": {},
   "outputs": [],
   "source": [
    "gmail_user = 'testmail.python.ironhack@gmail.com'\n",
    "gmail_password = 'Ironhack2021'"
   ]
  },
  {
   "cell_type": "code",
   "execution_count": 16,
   "id": "6cb69f0d",
   "metadata": {},
   "outputs": [],
   "source": [
    "with open(\"data.json\") as jsonFile:\n",
    "    jsonObject = json.load(jsonFile)\n",
    "    jsonFile.close()\n",
    "j = json.loads(jsonObject)"
   ]
  },
  {
   "cell_type": "code",
   "execution_count": 20,
   "id": "6bf9b80d",
   "metadata": {},
   "outputs": [
    {
     "data": {
      "text/plain": [
       "{'project_name': 'Fresh Produce Stationary: Pins, Tapes, Stickers ; More!',\n",
       " 'project_blurb': 'Adorable and fresh, these fruits and veggies merch will brighten your day (and maybe your salad too)',\n",
       " 'project_goal': '2000.0',\n",
       " 'project_pledged': '3291.0',\n",
       " 'project_state': 'live',\n",
       " 'project_slug': 'fresh-produce-stationary-pins-tapes-stickers-and-more',\n",
       " 'project_country': 'US',\n",
       " 'project_deadline': '1646418527',\n",
       " 'project_state_changed_at': '1644258528',\n",
       " 'project_created_at': '1642638216',\n",
       " 'project_launched_at': '1644258527',\n",
       " 'creator_name': 'Stars and Sprinkles',\n",
       " 'website': 'https://starsandsprinkles.shop'}"
      ]
     },
     "execution_count": 20,
     "metadata": {},
     "output_type": "execute_result"
    }
   ],
   "source": [
    "j"
   ]
  },
  {
   "cell_type": "code",
   "execution_count": 34,
   "id": "1085729d",
   "metadata": {},
   "outputs": [
    {
     "data": {
      "text/plain": [
       "('Adorable and fresh, these fruits and veggies merch will brighten your day (and maybe your salad too)',\n",
       " 'Semms incredible  I wondered if you were in the mood for discovering new_tools')"
      ]
     },
     "execution_count": 34,
     "metadata": {},
     "output_type": "execute_result"
    }
   ],
   "source": [
    "email_content = \"Hey\",j['creator_name'],\"congatulations for completing your Kickstarter, your project\"\n",
    "j['project_blurb'],\"Semms incredible  I wondered if you were in the mood for discovering new_tools\""
   ]
  },
  {
   "cell_type": "code",
   "execution_count": 29,
   "id": "8ff55e36",
   "metadata": {},
   "outputs": [
    {
     "data": {
      "text/plain": [
       "('Hey ', 'Fresh Produce Stationary: Pins, Tapes, Stickers ; More!')"
      ]
     },
     "execution_count": 29,
     "metadata": {},
     "output_type": "execute_result"
    }
   ],
   "source": [
    "email_content"
   ]
  },
  {
   "cell_type": "code",
   "execution_count": 13,
   "id": "6c0f946a",
   "metadata": {},
   "outputs": [],
   "source": [
    "def send_email(email_content, ):\n",
    "    gmail_user = 'testmail.python.ironhack@gmail.com'\n",
    "    gmail_password = 'Ironhack2021'\n",
    "\n",
    "    sent_from = gmail_user\n",
    "    to = ['arthurspriet2601997@gmail.com']\n",
    "    subject = 'OMG Super Important Message'\n",
    "    body = \"Hey, what's up?\\n\\n- You\"\n",
    "\n",
    "    email_text = \"\"\"\\\n",
    "    From: %s\n",
    "    To: %s\n",
    "    Subject: %s\n",
    "    \n",
    "    \n",
    "    \n",
    "\n",
    "    %s\n",
    "    \"\"\" % (sent_from, \", \".join(to), subject, body,)\n",
    "\n",
    "    try:\n",
    "        server = smtplib.SMTP_SSL('smtp.gmail.com', 465)\n",
    "        server.ehlo()\n",
    "        server.login(gmail_user, gmail_password)\n",
    "        server.sendmail(sent_from, to, email_text)\n",
    "        server.close()\n",
    "\n",
    "        print('Email sent!')\n",
    "    except:\n",
    "        print('Something went wrong...')"
   ]
  },
  {
   "cell_type": "code",
   "execution_count": 35,
   "id": "f4c9ef59",
   "metadata": {},
   "outputs": [],
   "source": [
    "def send_email(email_content, user_email):\n",
    "    gmail_user = 'testmail.python.ironhack@gmail.com'\n",
    "    gmail_password = 'Ironhack2021'\n",
    "\n",
    "    sent_from = gmail_user\n",
    "    to = user_email\n",
    "    subject = 'Congrats from all the gorgias team'\n",
    "    body = email_content\n",
    "\n",
    "    email_text = \"\"\"\\\n",
    "    From: %s\n",
    "    To: %s\n",
    "    Subject: %s\n",
    "    \n",
    "    \n",
    "    \n",
    "\n",
    "    %s\n",
    "    \"\"\" % (sent_from, \", \".join(to), subject, body,)\n",
    "\n",
    "    try:\n",
    "        server = smtplib.SMTP_SSL('smtp.gmail.com', 465)\n",
    "        server.ehlo()\n",
    "        server.login(gmail_user, gmail_password)\n",
    "        server.sendmail(sent_from, to, email_text)\n",
    "        server.close()\n",
    "\n",
    "        print('Email sent!')\n",
    "    except:\n",
    "        print('Something went wrong...')"
   ]
  },
  {
   "cell_type": "code",
   "execution_count": 36,
   "id": "00625b06",
   "metadata": {},
   "outputs": [],
   "source": [
    "def email_content(j) : \n",
    "    email_content = \"Hey\",j['creator_name'],\"congatulations for completing your Kickstarter, your project\"\n",
    "    j['project_blurb'],\"Semms incredible  I wondered if you were in the mood for discovering new_tools\"\n",
    "    return email_content"
   ]
  },
  {
   "cell_type": "code",
   "execution_count": null,
   "id": "9febd559",
   "metadata": {},
   "outputs": [],
   "source": []
  }
 ],
 "metadata": {
  "kernelspec": {
   "display_name": "gorgias",
   "language": "python",
   "name": "gorgias"
  },
  "language_info": {
   "codemirror_mode": {
    "name": "ipython",
    "version": 3
   },
   "file_extension": ".py",
   "mimetype": "text/x-python",
   "name": "python",
   "nbconvert_exporter": "python",
   "pygments_lexer": "ipython3",
   "version": "3.8.12"
  }
 },
 "nbformat": 4,
 "nbformat_minor": 5
}
