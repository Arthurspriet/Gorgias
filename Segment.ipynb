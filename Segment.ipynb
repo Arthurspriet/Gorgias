{
 "cells": [
  {
   "cell_type": "code",
   "execution_count": 7,
   "id": "7856f2fa",
   "metadata": {},
   "outputs": [],
   "source": [
    "import analytics\n",
    "import json"
   ]
  },
  {
   "cell_type": "code",
   "execution_count": 2,
   "id": "f8a44ba1",
   "metadata": {},
   "outputs": [],
   "source": [
    "APIKEY ='Q6QwJI6Zo7Alfp5UxKoKncwh0xu3nk2O'"
   ]
  },
  {
   "cell_type": "code",
   "execution_count": 9,
   "id": "5c0d7a0e",
   "metadata": {},
   "outputs": [],
   "source": [
    "data = '/Users/arthurspriet/Desktop/Gorgias/data.json'"
   ]
  },
  {
   "cell_type": "code",
   "execution_count": 12,
   "id": "292c2ea0",
   "metadata": {},
   "outputs": [],
   "source": [
    "with open(\"data.json\") as jsonFile:\n",
    "    jsonObject = json.load(jsonFile)\n",
    "    jsonFile.close()"
   ]
  },
  {
   "cell_type": "code",
   "execution_count": 14,
   "id": "541c315b",
   "metadata": {},
   "outputs": [
    {
     "name": "stdout",
     "output_type": "stream",
     "text": [
      "{\"name\":\"42914364\",\"index\":[\"project_name\",\"project_blurb\",\"project_goal\",\"project_pledged\",\"project_state\",\"project_slug\",\"project_country\",\"project_currency\",\"project_deadline\",\"project_state_changed_at\",\"project_created_at\",\"project_launched_at\",\"creator_name\",\"creator_slug\",\"creator_small\",\"website\"],\"data\":[\"RED RISING Playing Cards\",\"Officially-Licensed Red Rising Playing Cards! Based on the first trilogy by Pierce Brown. Characters Illustrated by Briana Crotinger.\",\"10000.0\",\"125729.0\",\"live\",\"red-rising-playing-cards\",\"US\",\"USD\",\"1646326722\",\"1643734723\",\"1638743533\",\"1643734722\",\"Randy Butterfield (Midnight Cards)\",\"randybutterfield\",\"https:\\/\\/ksr-ugc.imgix.net\\/assets\\/006\\/156\\/215\\/0442000fe3b5fe94f062458223f633f9_original.jpg?ixlib=rb-4.0.2;w=80;h=80;fit=crop;v=1461370171;auto=format;frame=1;q=92;s=490d64b037560b625ee18ecf03709be2\",\"http:\\/\\/midnight-cards.myshopify.com\\/\"]}\n"
     ]
    }
   ],
   "source": [
    "print(jsonObject)"
   ]
  },
  {
   "cell_type": "code",
   "execution_count": 4,
   "id": "54a013de",
   "metadata": {},
   "outputs": [],
   "source": [
    "analytics.write_key = APIKEY"
   ]
  },
  {
   "cell_type": "code",
   "execution_count": 15,
   "id": "ed2175da",
   "metadata": {},
   "outputs": [],
   "source": [
    "analytics.track('f4ca124298', jsonObject)"
   ]
  },
  {
   "cell_type": "code",
   "execution_count": null,
   "id": "cb2531b2",
   "metadata": {},
   "outputs": [],
   "source": []
  }
 ],
 "metadata": {
  "kernelspec": {
   "display_name": "gorgias",
   "language": "python",
   "name": "gorgias"
  },
  "language_info": {
   "codemirror_mode": {
    "name": "ipython",
    "version": 3
   },
   "file_extension": ".py",
   "mimetype": "text/x-python",
   "name": "python",
   "nbconvert_exporter": "python",
   "pygments_lexer": "ipython3",
   "version": "3.8.12"
  }
 },
 "nbformat": 4,
 "nbformat_minor": 5
}
