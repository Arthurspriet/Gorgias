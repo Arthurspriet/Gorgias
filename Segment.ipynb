{
 "cells": [
  {
   "cell_type": "code",
   "execution_count": 7,
   "id": "18b3a651",
   "metadata": {},
   "outputs": [],
   "source": [
    "import analytics\n",
    "import json"
   ]
  },
  {
   "cell_type": "code",
   "execution_count": 2,
   "id": "fcffa1a8",
   "metadata": {},
   "outputs": [],
   "source": [
    "APIKEY ='Q6QwJI6Zo7Alfp5UxKoKncwh0xu3nk2O'"
   ]
  },
  {
   "cell_type": "code",
   "execution_count": 9,
   "id": "e4e4f626",
   "metadata": {},
   "outputs": [],
   "source": [
    "data = '/Users/arthurspriet/Desktop/Gorgias/data.json'"
   ]
  },
  {
   "cell_type": "code",
   "execution_count": 27,
   "id": "f5ccb287",
   "metadata": {},
   "outputs": [],
   "source": [
    "with open(\"data.json\") as jsonFile:\n",
    "    jsonObject = json.load(jsonFile)\n",
    "    jsonFile.close()"
   ]
  },
  {
   "cell_type": "code",
   "execution_count": 28,
   "id": "0ad90264",
   "metadata": {},
   "outputs": [
    {
     "name": "stdout",
     "output_type": "stream",
     "text": [
      "<class 'str'>\n"
     ]
    }
   ],
   "source": [
    "print(type(jsonObject))"
   ]
  },
  {
   "cell_type": "code",
   "execution_count": 29,
   "id": "60539929",
   "metadata": {},
   "outputs": [],
   "source": [
    "j = json.loads(jsonObject)"
   ]
  },
  {
   "cell_type": "code",
   "execution_count": 30,
   "id": "a155dc93",
   "metadata": {},
   "outputs": [
    {
     "name": "stdout",
     "output_type": "stream",
     "text": [
      "{'project_name': 'RED RISING Playing Cards', 'project_blurb': 'Officially-Licensed Red Rising Playing Cards! Based on the first trilogy by Pierce Brown. Characters Illustrated by Briana Crotinger.', 'project_goal': '10000.0', 'project_pledged': '125729.0', 'project_state': 'live', 'project_slug': 'red-rising-playing-cards', 'project_country': 'US', 'project_currency': 'USD', 'project_deadline': '1646326722', 'project_state_changed_at': '1643734723', 'project_created_at': '1638743533', 'project_launched_at': '1643734722', 'creator_name': 'Randy Butterfield (Midnight Cards)', 'creator_slug': 'randybutterfield', 'creator_small': 'https://ksr-ugc.imgix.net/assets/006/156/215/0442000fe3b5fe94f062458223f633f9_original.jpg?ixlib=rb-4.0.2;w=80;h=80;fit=crop;v=1461370171;auto=format;frame=1;q=92;s=490d64b037560b625ee18ecf03709be2', 'website': 'http://midnight-cards.myshopify.com/'}\n"
     ]
    }
   ],
   "source": [
    "print(j)"
   ]
  },
  {
   "cell_type": "code",
   "execution_count": 4,
   "id": "eb6727fe",
   "metadata": {},
   "outputs": [],
   "source": [
    "analytics.write_key = APIKEY"
   ]
  },
  {
   "cell_type": "code",
   "execution_count": 15,
   "id": "208a0b81",
   "metadata": {},
   "outputs": [],
   "source": [
    "analytics.track('f4ca124298', jsonObject)"
   ]
  },
  {
   "cell_type": "code",
   "execution_count": 31,
   "id": "a3fae289",
   "metadata": {},
   "outputs": [
    {
     "ename": "KeyError",
     "evalue": "'name'",
     "output_type": "error",
     "traceback": [
      "\u001b[0;31m---------------------------------------------------------------------------\u001b[0m",
      "\u001b[0;31mKeyError\u001b[0m                                  Traceback (most recent call last)",
      "Input \u001b[0;32mIn [31]\u001b[0m, in \u001b[0;36m<cell line: 1>\u001b[0;34m()\u001b[0m\n\u001b[0;32m----> 1\u001b[0m name \u001b[38;5;241m=\u001b[39m \u001b[43mj\u001b[49m\u001b[43m[\u001b[49m\u001b[38;5;124;43m'\u001b[39;49m\u001b[38;5;124;43mname\u001b[39;49m\u001b[38;5;124;43m'\u001b[39;49m\u001b[43m]\u001b[49m\n\u001b[1;32m      2\u001b[0m creator_name \u001b[38;5;241m=\u001b[39m j[\u001b[38;5;124m'\u001b[39m\u001b[38;5;124mcreator_name\u001b[39m\u001b[38;5;124m'\u001b[39m]\n\u001b[1;32m      3\u001b[0m project_name \u001b[38;5;241m=\u001b[39m j[\u001b[38;5;124m'\u001b[39m\u001b[38;5;124mproject_name\u001b[39m\u001b[38;5;124m'\u001b[39m]\n",
      "\u001b[0;31mKeyError\u001b[0m: 'name'"
     ]
    }
   ],
   "source": [
    "name = j['name']\n",
    "creator_name = j['creator_name']\n",
    "project_name = j['project_name']\n",
    "print(creator_name, project_name)"
   ]
  },
  {
   "cell_type": "code",
   "execution_count": null,
   "id": "f1d80049",
   "metadata": {},
   "outputs": [],
   "source": []
  }
 ],
 "metadata": {
  "kernelspec": {
   "display_name": "gorgias",
   "language": "python",
   "name": "gorgias"
  },
  "language_info": {
   "codemirror_mode": {
    "name": "ipython",
    "version": 3
   },
   "file_extension": ".py",
   "mimetype": "text/x-python",
   "name": "python",
   "nbconvert_exporter": "python",
   "pygments_lexer": "ipython3",
   "version": "3.8.12"
  }
 },
 "nbformat": 4,
 "nbformat_minor": 5
}
