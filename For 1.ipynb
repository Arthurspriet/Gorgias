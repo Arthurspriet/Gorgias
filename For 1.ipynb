{
 "cells": [
  {
   "cell_type": "code",
   "execution_count": 1,
   "id": "0ddbb382",
   "metadata": {},
   "outputs": [],
   "source": [
    "import pandas as pd\n",
    "from bs4 import BeautifulSoup\n",
    "import urllib\n",
    "from urllib.request import Request, urlopen\n",
    "import re\n",
    "import time\n",
    "import requests"
   ]
  },
  {
   "cell_type": "code",
   "execution_count": 2,
   "id": "e1b88e2b",
   "metadata": {},
   "outputs": [],
   "source": [
    "url ='https://www.kickstarter.com/discover/advanced?raised=2&sort=end_date&seed=2743718&page='\n",
    "headers = {'User-Agent': 'Mozilla/5.0 (Macintosh; Intel Mac OS X 10_11_5) AppleWebKit/537.36 (KHTML, like Gecko) Chrome/50.0.2661.102 Safari/537.36'}"
   ]
  },
  {
   "cell_type": "code",
   "execution_count": 3,
   "id": "02746694",
   "metadata": {},
   "outputs": [],
   "source": [
    "def scraper_prototype(text_profile, prefix):\n",
    "\n",
    "    if '\"name\"' in text_profile:\n",
    "        text_profile = re.sub('\"', '', text_profile)\n",
    "\n",
    "    text2 = text_profile.split(',')\n",
    "    dummy2 = [re.findall('[A-Za-z0-9_]+:', ww) for ww in text2]\n",
    "    itemname = [dum_part[0] for dum_part in dummy2 if len(dum_part) > 0]\n",
    "    ans_array = [re.search(xxy1+'(.*?)'+xxy2, text_profile).group(1).rstrip(',')\n",
    "                 for xxy1, xxy2 in zip(itemname[:-1], itemname[1:])]\n",
    "    itemnames = [x.rstrip(':') for x in itemname]\n",
    "\n",
    "    info_dict = dict()\n",
    "    for item, ans in zip(itemnames, ans_array):\n",
    "        info_dict[prefix+'_'+item] = ans\n",
    "    return info_dict"
   ]
  },
  {
   "cell_type": "code",
   "execution_count": 4,
   "id": "87b0b074",
   "metadata": {},
   "outputs": [],
   "source": [
    "total_num_of_items = 0\n",
    "time_stamp = time.strftime(\"%d/%m/%Y %H:%M:%S\")"
   ]
  },
  {
   "cell_type": "code",
   "execution_count": 5,
   "id": "8bd05244",
   "metadata": {},
   "outputs": [],
   "source": [
    "r = requests.get(url, headers=headers)\n",
    "soup = BeautifulSoup(r.content, 'html.parser')"
   ]
  },
  {
   "cell_type": "code",
   "execution_count": 7,
   "id": "d58d2522",
   "metadata": {},
   "outputs": [],
   "source": [
    "containers = soup.find_all('div', class_=\"js-react-proj-card\")"
   ]
  },
  {
   "cell_type": "code",
   "execution_count": 9,
   "id": "49be9ae5",
   "metadata": {},
   "outputs": [
    {
     "data": {
      "text/plain": [
       "12"
      ]
     },
     "execution_count": 9,
     "metadata": {},
     "output_type": "execute_result"
    }
   ],
   "source": [
    "len(containers)"
   ]
  },
  {
   "cell_type": "code",
   "execution_count": 11,
   "id": "1873f4df",
   "metadata": {},
   "outputs": [
    {
     "data": {
      "text/plain": [
       "<div class=\"js-react-proj-card grid-col-12 grid-col-6-sm grid-col-4-lg\" data-pid=\"786901944\" data-project='{\"id\":786901944,\"photo\":{\"key\":\"assets/036/492/163/7000743662c834d73f897063b290a515_original.jpeg\",\"full\":\"https://ksr-ugc.imgix.net/assets/036/492/163/7000743662c834d73f897063b290a515_original.jpeg?ixlib=rb-4.0.2&amp;crop=faces&amp;w=560&amp;h=315&amp;fit=crop&amp;v=1646031479&amp;auto=format&amp;frame=1&amp;q=92&amp;s=da0655279d90bc4c4603392c59f52bfe\",\"ed\":\"https://ksr-ugc.imgix.net/assets/036/492/163/7000743662c834d73f897063b290a515_original.jpeg?ixlib=rb-4.0.2&amp;crop=faces&amp;w=352&amp;h=198&amp;fit=crop&amp;v=1646031479&amp;auto=format&amp;frame=1&amp;q=92&amp;s=d4279c031741a190214fa92bb58f3f72\",\"med\":\"https://ksr-ugc.imgix.net/assets/036/492/163/7000743662c834d73f897063b290a515_original.jpeg?ixlib=rb-4.0.2&amp;crop=faces&amp;w=272&amp;h=153&amp;fit=crop&amp;v=1646031479&amp;auto=format&amp;frame=1&amp;q=92&amp;s=449612fed77418290b686af14af043b3\",\"little\":\"https://ksr-ugc.imgix.net/assets/036/492/163/7000743662c834d73f897063b290a515_original.jpeg?ixlib=rb-4.0.2&amp;crop=faces&amp;w=208&amp;h=117&amp;fit=crop&amp;v=1646031479&amp;auto=format&amp;frame=1&amp;q=92&amp;s=4ca89ee385e735f5789d95de8f9c29c6\",\"small\":\"https://ksr-ugc.imgix.net/assets/036/492/163/7000743662c834d73f897063b290a515_original.jpeg?ixlib=rb-4.0.2&amp;crop=faces&amp;w=160&amp;h=90&amp;fit=crop&amp;v=1646031479&amp;auto=format&amp;frame=1&amp;q=92&amp;s=5b78105c0999f177c4f4b558e846966c\",\"thumb\":\"https://ksr-ugc.imgix.net/assets/036/492/163/7000743662c834d73f897063b290a515_original.jpeg?ixlib=rb-4.0.2&amp;crop=faces&amp;w=48&amp;h=27&amp;fit=crop&amp;v=1646031479&amp;auto=format&amp;frame=1&amp;q=92&amp;s=c599b2a946c540f38e0f05122152fa62\",\"1024x576\":\"https://ksr-ugc.imgix.net/assets/036/492/163/7000743662c834d73f897063b290a515_original.jpeg?ixlib=rb-4.0.2&amp;crop=faces&amp;w=1024&amp;h=576&amp;fit=crop&amp;v=1646031479&amp;auto=format&amp;frame=1&amp;q=92&amp;s=4cdb841079ad6e392abf68ffc167653e\",\"1536x864\":\"https://ksr-ugc.imgix.net/assets/036/492/163/7000743662c834d73f897063b290a515_original.jpeg?ixlib=rb-4.0.2&amp;crop=faces&amp;w=1552&amp;h=873&amp;fit=crop&amp;v=1646031479&amp;auto=format&amp;frame=1&amp;q=92&amp;s=e3ada2abad32b5146087a84cd4d141b5\"},\"name\":\"The most innovative Hair Towels EVER MADE for Long Hair\",\"blurb\":\"A selection of large microfiber hair towel turbans that are actually soft, actually look good &amp; actually fit.\",\"goal\":14000.0,\"pledged\":14721.32,\"state\":\"live\",\"slug\":\"the-most-innovative-hair-towels-ever-made-for-long-hair\",\"disable_communication\":false,\"country\":\"AU\",\"country_displayable_name\":\"Australia\",\"currency\":\"AUD\",\"currency_symbol\":\"$\",\"currency_trailing_code\":true,\"deadline\":1646250704,\"state_changed_at\":1643658707,\"created_at\":1641720932,\"launched_at\":1643658704,\"staff_pick\":false,\"is_starrable\":false,\"backers_count\":127,\"static_usd_rate\":0.69869972,\"usd_pledged\":\"10285.7821620304\",\"converted_pledged_amount\":10699,\"fx_rate\":0.72681021,\"usd_exchange_rate\":0.72681021,\"current_currency\":\"USD\",\"usd_type\":\"international\",\"creator\":{\"id\":134596367,\"name\":\"Kanbina Haircare\",\"slug\":\"kanbinahaircare\",\"is_registered\":null,\"is_email_verified\":null,\"chosen_currency\":null,\"is_superbacker\":null,\"avatar\":{\"thumb\":\"https://ksr-ugc.imgix.net/assets/036/020/193/0b83898b740b713f24076687b2673790_original.png?ixlib=rb-4.0.2&amp;w=40&amp;h=40&amp;fit=crop&amp;v=1641721390&amp;auto=format&amp;frame=1&amp;q=92&amp;s=4e41887099f3ba35b212a0448255b459\",\"small\":\"https://ksr-ugc.imgix.net/assets/036/020/193/0b83898b740b713f24076687b2673790_original.png?ixlib=rb-4.0.2&amp;w=80&amp;h=80&amp;fit=crop&amp;v=1641721390&amp;auto=format&amp;frame=1&amp;q=92&amp;s=2a5ce05c0e01b596c67e04fe6f17cb2d\",\"medium\":\"https://ksr-ugc.imgix.net/assets/036/020/193/0b83898b740b713f24076687b2673790_original.png?ixlib=rb-4.0.2&amp;w=160&amp;h=160&amp;fit=crop&amp;v=1641721390&amp;auto=format&amp;frame=1&amp;q=92&amp;s=7f0519e77fce3b4e9f38ba0b72f45fef\"},\"urls\":{\"web\":{\"user\":\"https://www.kickstarter.com/profile/kanbinahaircare\"},\"api\":{\"user\":\"https://api.kickstarter.com/v1/users/134596367?signature=1646335322.81bbc6819c287f2331edc13906a7c5dcb01c924b\"}}},\"location\":{\"id\":1105779,\"name\":\"Sydney\",\"slug\":\"sydney-au\",\"short_name\":\"Sydney, AU\",\"displayable_name\":\"Sydney, AU\",\"localized_name\":\"Sydney\",\"country\":\"AU\",\"state\":\"NSW\",\"type\":\"Town\",\"is_root\":false,\"expanded_country\":\"Australia\",\"urls\":{\"web\":{\"discover\":\"https://www.kickstarter.com/discover/places/sydney-au\",\"location\":\"https://www.kickstarter.com/locations/sydney-au\"},\"api\":{\"nearby_projects\":\"https://api.kickstarter.com/v1/discover?signature=1646334666.096d5037449e728d5ff67de7b03dce73bfeb003c&amp;woe_id=1105779\"}}},\"category\":{\"id\":262,\"name\":\"Accessories\",\"analytics_name\":\"Accessories\",\"slug\":\"fashion/accessories\",\"position\":1,\"parent_id\":9,\"parent_name\":\"Fashion\",\"color\":16752598,\"urls\":{\"web\":{\"discover\":\"http://www.kickstarter.com/discover/categories/fashion/accessories\"}}},\"profile\":{\"id\":4334046,\"project_id\":4334046,\"state\":\"inactive\",\"state_changed_at\":1641720932,\"name\":null,\"blurb\":null,\"background_color\":null,\"text_color\":null,\"link_background_color\":null,\"link_text_color\":null,\"link_text\":null,\"link_url\":null,\"show_feature_image\":false,\"background_image_opacity\":0.8,\"should_show_feature_image_section\":true,\"feature_image_attributes\":{\"image_urls\":{\"default\":\"https://ksr-ugc.imgix.net/assets/036/492/163/7000743662c834d73f897063b290a515_original.jpeg?ixlib=rb-4.0.2&amp;crop=faces&amp;w=1552&amp;h=873&amp;fit=crop&amp;v=1646031479&amp;auto=format&amp;frame=1&amp;q=92&amp;s=e3ada2abad32b5146087a84cd4d141b5\",\"baseball_card\":\"https://ksr-ugc.imgix.net/assets/036/492/163/7000743662c834d73f897063b290a515_original.jpeg?ixlib=rb-4.0.2&amp;crop=faces&amp;w=560&amp;h=315&amp;fit=crop&amp;v=1646031479&amp;auto=format&amp;frame=1&amp;q=92&amp;s=da0655279d90bc4c4603392c59f52bfe\"}}},\"spotlight\":false,\"urls\":{\"web\":{\"project\":\"https://www.kickstarter.com/projects/kanbinahaircare/the-most-innovative-hair-towels-ever-made-for-long-hair\",\"rewards\":\"https://www.kickstarter.com/projects/kanbinahaircare/the-most-innovative-hair-towels-ever-made-for-long-hair/rewards\"}},\"percent_funded\":105.15228571428572,\"is_liked\":false,\"is_disliked\":false}' data-ref=\"discovery_ending_soon\" id=\"the-most-innovative-hair-towels-ever-made-for-long-hair\">\n",
       "<div><div class=\"js-track-project-card\" data-model_name=\"\" data-project_backers_count=\"\" data-project_percent_raised=\"\" data-project_pid=\"\" data-project_pledged=\"\" data-project_state=\"\" data-raw_score=\"\" data-reactroot=\"\" data-user_has_starred=\"\" data-user_is_backer=\"\" data-weighted_score=\"\"><div class=\"mb5\"><div class=\"bg-white black relative border-grey-500 border\"><div class=\"relative self-start\"><a class=\"block img-placeholder w100p\"><div class=\"img-placeholder bg-grey-400 absolute t0 w100p\"></div></a></div><div class=\"\"><div class=\"h20 pt4 px3 mb1px\"></div><div class=\"pb5-md pb4 pt3 px5-sm px4\"><div class=\"h20-sm pt1px\"></div></div></div></div></div></div>\n",
       "</div>\n",
       "</div>"
      ]
     },
     "execution_count": 11,
     "metadata": {},
     "output_type": "execute_result"
    }
   ],
   "source": [
    "containers[0]"
   ]
  },
  {
   "cell_type": "code",
   "execution_count": 19,
   "id": "1042450b",
   "metadata": {},
   "outputs": [],
   "source": [
    "whole_string = str(containers[1]).replace('&amp', '').replace('&quot;', '')"
   ]
  },
  {
   "cell_type": "code",
   "execution_count": 20,
   "id": "e7b48a1c",
   "metadata": {},
   "outputs": [],
   "source": [
    "if '\"name\"' in whole_string:\n",
    "    project_info = '\"name\"' + re.findall('\"name\"(.+?)\"creator\"', whole_string)[0]\n",
    "else:\n",
    "    project_info = 'name' + re.findall('name(.+?)creator', whole_string)[0]    "
   ]
  },
  {
   "cell_type": "code",
   "execution_count": 21,
   "id": "82cfa5cd",
   "metadata": {},
   "outputs": [],
   "source": [
    "project_info_dict = scraper_prototype(project_info, 'project')\n",
    "df1 = pd.DataFrame.from_dict(project_info_dict, orient='index').transpose()"
   ]
  },
  {
   "cell_type": "code",
   "execution_count": 22,
   "id": "a0a009e7",
   "metadata": {
    "scrolled": false
   },
   "outputs": [
    {
     "data": {
      "text/html": [
       "<div>\n",
       "<style scoped>\n",
       "    .dataframe tbody tr th:only-of-type {\n",
       "        vertical-align: middle;\n",
       "    }\n",
       "\n",
       "    .dataframe tbody tr th {\n",
       "        vertical-align: top;\n",
       "    }\n",
       "\n",
       "    .dataframe thead th {\n",
       "        text-align: right;\n",
       "    }\n",
       "</style>\n",
       "<table border=\"1\" class=\"dataframe\">\n",
       "  <thead>\n",
       "    <tr style=\"text-align: right;\">\n",
       "      <th></th>\n",
       "      <th>project_name</th>\n",
       "      <th>project_blurb</th>\n",
       "      <th>project_goal</th>\n",
       "      <th>project_pledged</th>\n",
       "      <th>project_state</th>\n",
       "      <th>project_slug</th>\n",
       "      <th>project_disable_communication</th>\n",
       "      <th>project_country</th>\n",
       "      <th>project_country_displayable_name</th>\n",
       "      <th>project_currency</th>\n",
       "      <th>...</th>\n",
       "      <th>project_launched_at</th>\n",
       "      <th>project_staff_pick</th>\n",
       "      <th>project_is_starrable</th>\n",
       "      <th>project_backers_count</th>\n",
       "      <th>project_static_usd_rate</th>\n",
       "      <th>project_usd_pledged</th>\n",
       "      <th>project_converted_pledged_amount</th>\n",
       "      <th>project_fx_rate</th>\n",
       "      <th>project_usd_exchange_rate</th>\n",
       "      <th>project_current_currency</th>\n",
       "    </tr>\n",
       "  </thead>\n",
       "  <tbody>\n",
       "    <tr>\n",
       "      <th>0</th>\n",
       "      <td>The most innovative Hair Towels EVER MADE for ...</td>\n",
       "      <td>A selection of large microfiber hair towel tur...</td>\n",
       "      <td>14000.0</td>\n",
       "      <td>14721.32</td>\n",
       "      <td>live</td>\n",
       "      <td>the-most-innovative-hair-towels-ever-made-for-...</td>\n",
       "      <td>false</td>\n",
       "      <td>AU</td>\n",
       "      <td>Australia</td>\n",
       "      <td>AUD</td>\n",
       "      <td>...</td>\n",
       "      <td>1643658704</td>\n",
       "      <td>false</td>\n",
       "      <td>false</td>\n",
       "      <td>127</td>\n",
       "      <td>0.69869972</td>\n",
       "      <td>10285.7821620304</td>\n",
       "      <td>10699</td>\n",
       "      <td>0.72681021</td>\n",
       "      <td>0.72681021</td>\n",
       "      <td>USD</td>\n",
       "    </tr>\n",
       "  </tbody>\n",
       "</table>\n",
       "<p>1 rows × 25 columns</p>\n",
       "</div>"
      ],
      "text/plain": [
       "                                        project_name  \\\n",
       "0  The most innovative Hair Towels EVER MADE for ...   \n",
       "\n",
       "                                       project_blurb project_goal  \\\n",
       "0  A selection of large microfiber hair towel tur...      14000.0   \n",
       "\n",
       "  project_pledged project_state  \\\n",
       "0        14721.32          live   \n",
       "\n",
       "                                        project_slug  \\\n",
       "0  the-most-innovative-hair-towels-ever-made-for-...   \n",
       "\n",
       "  project_disable_communication project_country  \\\n",
       "0                         false              AU   \n",
       "\n",
       "  project_country_displayable_name project_currency  ... project_launched_at  \\\n",
       "0                        Australia              AUD  ...          1643658704   \n",
       "\n",
       "  project_staff_pick project_is_starrable project_backers_count  \\\n",
       "0              false                false                   127   \n",
       "\n",
       "  project_static_usd_rate project_usd_pledged  \\\n",
       "0              0.69869972    10285.7821620304   \n",
       "\n",
       "  project_converted_pledged_amount project_fx_rate project_usd_exchange_rate  \\\n",
       "0                            10699      0.72681021                0.72681021   \n",
       "\n",
       "  project_current_currency  \n",
       "0                      USD  \n",
       "\n",
       "[1 rows x 25 columns]"
      ]
     },
     "execution_count": 22,
     "metadata": {},
     "output_type": "execute_result"
    }
   ],
   "source": [
    "df"
   ]
  },
  {
   "cell_type": "code",
   "execution_count": 23,
   "id": "e72ea988",
   "metadata": {},
   "outputs": [
    {
     "data": {
      "text/html": [
       "<div>\n",
       "<style scoped>\n",
       "    .dataframe tbody tr th:only-of-type {\n",
       "        vertical-align: middle;\n",
       "    }\n",
       "\n",
       "    .dataframe tbody tr th {\n",
       "        vertical-align: top;\n",
       "    }\n",
       "\n",
       "    .dataframe thead th {\n",
       "        text-align: right;\n",
       "    }\n",
       "</style>\n",
       "<table border=\"1\" class=\"dataframe\">\n",
       "  <thead>\n",
       "    <tr style=\"text-align: right;\">\n",
       "      <th></th>\n",
       "      <th>project_name</th>\n",
       "      <th>project_blurb</th>\n",
       "      <th>project_goal</th>\n",
       "      <th>project_pledged</th>\n",
       "      <th>project_state</th>\n",
       "      <th>project_slug</th>\n",
       "      <th>project_disable_communication</th>\n",
       "      <th>project_country</th>\n",
       "      <th>project_country_displayable_name</th>\n",
       "      <th>project_currency</th>\n",
       "      <th>...</th>\n",
       "      <th>project_launched_at</th>\n",
       "      <th>project_staff_pick</th>\n",
       "      <th>project_is_starrable</th>\n",
       "      <th>project_backers_count</th>\n",
       "      <th>project_static_usd_rate</th>\n",
       "      <th>project_usd_pledged</th>\n",
       "      <th>project_converted_pledged_amount</th>\n",
       "      <th>project_fx_rate</th>\n",
       "      <th>project_usd_exchange_rate</th>\n",
       "      <th>project_current_currency</th>\n",
       "    </tr>\n",
       "  </thead>\n",
       "  <tbody>\n",
       "    <tr>\n",
       "      <th>0</th>\n",
       "      <td>Octagon Rainbow -- Fountain Pens in dream colors</td>\n",
       "      <td>Beautifully crafted fountain pens of rainbow w...</td>\n",
       "      <td>3000.0</td>\n",
       "      <td>16294.29</td>\n",
       "      <td>live</td>\n",
       "      <td>octagon-rainbow-fountain-pens-in-dream-colors</td>\n",
       "      <td>false</td>\n",
       "      <td>CA</td>\n",
       "      <td>Canada</td>\n",
       "      <td>CAD</td>\n",
       "      <td>...</td>\n",
       "      <td>1643832012</td>\n",
       "      <td>false</td>\n",
       "      <td>false</td>\n",
       "      <td>121</td>\n",
       "      <td>0.78744932</td>\n",
       "      <td>12830.9275803828</td>\n",
       "      <td>12809</td>\n",
       "      <td>0.78615116</td>\n",
       "      <td>0.78615116</td>\n",
       "      <td>USD</td>\n",
       "    </tr>\n",
       "  </tbody>\n",
       "</table>\n",
       "<p>1 rows × 25 columns</p>\n",
       "</div>"
      ],
      "text/plain": [
       "                                       project_name  \\\n",
       "0  Octagon Rainbow -- Fountain Pens in dream colors   \n",
       "\n",
       "                                       project_blurb project_goal  \\\n",
       "0  Beautifully crafted fountain pens of rainbow w...       3000.0   \n",
       "\n",
       "  project_pledged project_state  \\\n",
       "0        16294.29          live   \n",
       "\n",
       "                                    project_slug  \\\n",
       "0  octagon-rainbow-fountain-pens-in-dream-colors   \n",
       "\n",
       "  project_disable_communication project_country  \\\n",
       "0                         false              CA   \n",
       "\n",
       "  project_country_displayable_name project_currency  ... project_launched_at  \\\n",
       "0                           Canada              CAD  ...          1643832012   \n",
       "\n",
       "  project_staff_pick project_is_starrable project_backers_count  \\\n",
       "0              false                false                   121   \n",
       "\n",
       "  project_static_usd_rate project_usd_pledged  \\\n",
       "0              0.78744932    12830.9275803828   \n",
       "\n",
       "  project_converted_pledged_amount project_fx_rate project_usd_exchange_rate  \\\n",
       "0                            12809      0.78615116                0.78615116   \n",
       "\n",
       "  project_current_currency  \n",
       "0                      USD  \n",
       "\n",
       "[1 rows x 25 columns]"
      ]
     },
     "execution_count": 23,
     "metadata": {},
     "output_type": "execute_result"
    }
   ],
   "source": [
    "df1"
   ]
  },
  {
   "cell_type": "code",
   "execution_count": 24,
   "id": "512a278a",
   "metadata": {},
   "outputs": [],
   "source": [
    "if '\"creator\"' in whole_string:\n",
    "    creator_string = re.findall(r'\\\"creator\\\"\\:\\{(.+?)\\}', whole_string)[0]\n",
    "else:\n",
    "    creator_string = re.findall(r'creator\\:\\{(.+?)\\}', whole_string)[0]"
   ]
  },
  {
   "cell_type": "code",
   "execution_count": 26,
   "id": "9291f62f",
   "metadata": {},
   "outputs": [],
   "source": [
    "creator_info_dict = scraper_prototype(creator_string, 'creator')\n",
    "creator_info_dict['creator_slug'] = creator_info_dict.get('creator_slug', 'Null')\n",
    "df2 = pd.DataFrame.from_dict(creator_info_dict, orient='index').transpose()"
   ]
  },
  {
   "cell_type": "code",
   "execution_count": 27,
   "id": "b26b67a1",
   "metadata": {},
   "outputs": [
    {
     "data": {
      "text/html": [
       "<div>\n",
       "<style scoped>\n",
       "    .dataframe tbody tr th:only-of-type {\n",
       "        vertical-align: middle;\n",
       "    }\n",
       "\n",
       "    .dataframe tbody tr th {\n",
       "        vertical-align: top;\n",
       "    }\n",
       "\n",
       "    .dataframe thead th {\n",
       "        text-align: right;\n",
       "    }\n",
       "</style>\n",
       "<table border=\"1\" class=\"dataframe\">\n",
       "  <thead>\n",
       "    <tr style=\"text-align: right;\">\n",
       "      <th></th>\n",
       "      <th>creator_id</th>\n",
       "      <th>creator_name</th>\n",
       "      <th>creator_slug</th>\n",
       "      <th>creator_is_registered</th>\n",
       "      <th>creator_is_email_verified</th>\n",
       "      <th>creator_chosen_currency</th>\n",
       "      <th>creator_is_superbacker</th>\n",
       "      <th>creator_avatar</th>\n",
       "      <th>creator_small</th>\n",
       "    </tr>\n",
       "  </thead>\n",
       "  <tbody>\n",
       "    <tr>\n",
       "      <th>0</th>\n",
       "      <td>304407774</td>\n",
       "      <td>Artimber</td>\n",
       "      <td>artimber</td>\n",
       "      <td>null</td>\n",
       "      <td>null</td>\n",
       "      <td>null</td>\n",
       "      <td>null</td>\n",
       "      <td>{thumb:https://ksr-ugc.imgix.net/assets/033/46...</td>\n",
       "      <td>https://ksr-ugc.imgix.net/assets/033/467/402/d...</td>\n",
       "    </tr>\n",
       "  </tbody>\n",
       "</table>\n",
       "</div>"
      ],
      "text/plain": [
       "  creator_id creator_name creator_slug creator_is_registered  \\\n",
       "0  304407774     Artimber     artimber                  null   \n",
       "\n",
       "  creator_is_email_verified creator_chosen_currency creator_is_superbacker  \\\n",
       "0                      null                    null                   null   \n",
       "\n",
       "                                      creator_avatar  \\\n",
       "0  {thumb:https://ksr-ugc.imgix.net/assets/033/46...   \n",
       "\n",
       "                                       creator_small  \n",
       "0  https://ksr-ugc.imgix.net/assets/033/467/402/d...  "
      ]
     },
     "execution_count": 27,
     "metadata": {},
     "output_type": "execute_result"
    }
   ],
   "source": [
    "df2"
   ]
  },
  {
   "cell_type": "code",
   "execution_count": 30,
   "id": "74cc4cf2",
   "metadata": {},
   "outputs": [],
   "source": [
    "if '\"location\"' in whole_string:\n",
    "    location_string = re.findall(r'\\\"location\\\"\\:\\{(.+?)\\}', whole_string)[0]\n",
    "else:\n",
    "    location_string = re.findall(r'location\\:\\{(.+?)\\}', whole_string)[0]"
   ]
  },
  {
   "cell_type": "code",
   "execution_count": 31,
   "id": "5ed63762",
   "metadata": {},
   "outputs": [],
   "source": [
    "location_info_dict = scraper_prototype(location_string, 'location')\n",
    "df3 = pd.DataFrame.from_dict(location_info_dict, orient='index').transpose()"
   ]
  },
  {
   "cell_type": "code",
   "execution_count": 32,
   "id": "f5c44b7f",
   "metadata": {},
   "outputs": [
    {
     "data": {
      "text/html": [
       "<div>\n",
       "<style scoped>\n",
       "    .dataframe tbody tr th:only-of-type {\n",
       "        vertical-align: middle;\n",
       "    }\n",
       "\n",
       "    .dataframe tbody tr th {\n",
       "        vertical-align: top;\n",
       "    }\n",
       "\n",
       "    .dataframe thead th {\n",
       "        text-align: right;\n",
       "    }\n",
       "</style>\n",
       "<table border=\"1\" class=\"dataframe\">\n",
       "  <thead>\n",
       "    <tr style=\"text-align: right;\">\n",
       "      <th></th>\n",
       "      <th>location_id</th>\n",
       "      <th>location_name</th>\n",
       "      <th>location_slug</th>\n",
       "      <th>location_short_name</th>\n",
       "      <th>location_displayable_name</th>\n",
       "      <th>location_localized_name</th>\n",
       "      <th>location_country</th>\n",
       "      <th>location_state</th>\n",
       "      <th>location_type</th>\n",
       "      <th>location_is_root</th>\n",
       "      <th>location_expanded_country</th>\n",
       "      <th>location_urls</th>\n",
       "    </tr>\n",
       "  </thead>\n",
       "  <tbody>\n",
       "    <tr>\n",
       "      <th>0</th>\n",
       "      <td>2151849</td>\n",
       "      <td>Shanghai</td>\n",
       "      <td>shanghai-cn</td>\n",
       "      <td>Shanghai, China</td>\n",
       "      <td>Shanghai, China</td>\n",
       "      <td>Shanghai</td>\n",
       "      <td>CN</td>\n",
       "      <td>Shanghai</td>\n",
       "      <td>Town</td>\n",
       "      <td>false</td>\n",
       "      <td>China</td>\n",
       "      <td>{web:{discover:https://www.kickstarter.com/dis...</td>\n",
       "    </tr>\n",
       "  </tbody>\n",
       "</table>\n",
       "</div>"
      ],
      "text/plain": [
       "  location_id location_name location_slug location_short_name  \\\n",
       "0     2151849      Shanghai   shanghai-cn     Shanghai, China   \n",
       "\n",
       "  location_displayable_name location_localized_name location_country  \\\n",
       "0           Shanghai, China                Shanghai               CN   \n",
       "\n",
       "  location_state location_type location_is_root location_expanded_country  \\\n",
       "0       Shanghai          Town            false                     China   \n",
       "\n",
       "                                       location_urls  \n",
       "0  {web:{discover:https://www.kickstarter.com/dis...  "
      ]
     },
     "execution_count": 32,
     "metadata": {},
     "output_type": "execute_result"
    }
   ],
   "source": [
    "df3"
   ]
  },
  {
   "cell_type": "code",
   "execution_count": 33,
   "id": "49f08afc",
   "metadata": {},
   "outputs": [],
   "source": [
    "if '\"profile\"' in whole_string:\n",
    "    profile_string = re.findall(r'\\\"profile\\\"\\:\\{(.+?)\\}', whole_string)[0]\n",
    "else:\n",
    "    profile_string = re.findall(r'profile\\:\\{(.+?)\\}', whole_string)[0]"
   ]
  },
  {
   "cell_type": "code",
   "execution_count": 34,
   "id": "e40af1ac",
   "metadata": {},
   "outputs": [],
   "source": [
    "profile_info_dict = scraper_prototype(profile_string, 'profile')\n",
    "df4 = pd.DataFrame.from_dict(profile_info_dict, orient='index').transpose()"
   ]
  },
  {
   "cell_type": "code",
   "execution_count": 35,
   "id": "990d42d5",
   "metadata": {},
   "outputs": [
    {
     "data": {
      "text/html": [
       "<div>\n",
       "<style scoped>\n",
       "    .dataframe tbody tr th:only-of-type {\n",
       "        vertical-align: middle;\n",
       "    }\n",
       "\n",
       "    .dataframe tbody tr th {\n",
       "        vertical-align: top;\n",
       "    }\n",
       "\n",
       "    .dataframe thead th {\n",
       "        text-align: right;\n",
       "    }\n",
       "</style>\n",
       "<table border=\"1\" class=\"dataframe\">\n",
       "  <thead>\n",
       "    <tr style=\"text-align: right;\">\n",
       "      <th></th>\n",
       "      <th>profile_id</th>\n",
       "      <th>profile_project_id</th>\n",
       "      <th>profile_state</th>\n",
       "      <th>profile_state_changed_at</th>\n",
       "      <th>profile_name</th>\n",
       "      <th>profile_blurb</th>\n",
       "      <th>profile_background_color</th>\n",
       "      <th>profile_text_color</th>\n",
       "      <th>profile_link_background_color</th>\n",
       "      <th>profile_link_text_color</th>\n",
       "      <th>profile_link_text</th>\n",
       "      <th>profile_link_url</th>\n",
       "      <th>profile_show_feature_image</th>\n",
       "      <th>profile_background_image_opacity</th>\n",
       "      <th>profile_should_show_feature_image_section</th>\n",
       "      <th>profile_feature_image_attributes</th>\n",
       "    </tr>\n",
       "  </thead>\n",
       "  <tbody>\n",
       "    <tr>\n",
       "      <th>0</th>\n",
       "      <td>4314001</td>\n",
       "      <td>4314001</td>\n",
       "      <td>inactive</td>\n",
       "      <td>1637722607</td>\n",
       "      <td>null</td>\n",
       "      <td>null</td>\n",
       "      <td>null</td>\n",
       "      <td>null</td>\n",
       "      <td>null</td>\n",
       "      <td>null</td>\n",
       "      <td>null</td>\n",
       "      <td>null</td>\n",
       "      <td>false</td>\n",
       "      <td>0.8</td>\n",
       "      <td>true</td>\n",
       "      <td>{image_urls:{default:https://ksr-ugc.imgix.net...</td>\n",
       "    </tr>\n",
       "  </tbody>\n",
       "</table>\n",
       "</div>"
      ],
      "text/plain": [
       "  profile_id profile_project_id profile_state profile_state_changed_at  \\\n",
       "0    4314001            4314001      inactive               1637722607   \n",
       "\n",
       "  profile_name profile_blurb profile_background_color profile_text_color  \\\n",
       "0         null          null                     null               null   \n",
       "\n",
       "  profile_link_background_color profile_link_text_color profile_link_text  \\\n",
       "0                          null                    null              null   \n",
       "\n",
       "  profile_link_url profile_show_feature_image  \\\n",
       "0             null                      false   \n",
       "\n",
       "  profile_background_image_opacity profile_should_show_feature_image_section  \\\n",
       "0                              0.8                                      true   \n",
       "\n",
       "                    profile_feature_image_attributes  \n",
       "0  {image_urls:{default:https://ksr-ugc.imgix.net...  "
      ]
     },
     "execution_count": 35,
     "metadata": {},
     "output_type": "execute_result"
    }
   ],
   "source": [
    "df4"
   ]
  },
  {
   "cell_type": "code",
   "execution_count": 36,
   "id": "d6e6a084",
   "metadata": {},
   "outputs": [],
   "source": [
    "df = pd.concat((df1, df2, df3, df4), axis=1)"
   ]
  },
  {
   "cell_type": "code",
   "execution_count": 37,
   "id": "9357275e",
   "metadata": {},
   "outputs": [
    {
     "data": {
      "text/html": [
       "<div>\n",
       "<style scoped>\n",
       "    .dataframe tbody tr th:only-of-type {\n",
       "        vertical-align: middle;\n",
       "    }\n",
       "\n",
       "    .dataframe tbody tr th {\n",
       "        vertical-align: top;\n",
       "    }\n",
       "\n",
       "    .dataframe thead th {\n",
       "        text-align: right;\n",
       "    }\n",
       "</style>\n",
       "<table border=\"1\" class=\"dataframe\">\n",
       "  <thead>\n",
       "    <tr style=\"text-align: right;\">\n",
       "      <th></th>\n",
       "      <th>project_name</th>\n",
       "      <th>project_blurb</th>\n",
       "      <th>project_goal</th>\n",
       "      <th>project_pledged</th>\n",
       "      <th>project_state</th>\n",
       "      <th>project_slug</th>\n",
       "      <th>project_disable_communication</th>\n",
       "      <th>project_country</th>\n",
       "      <th>project_country_displayable_name</th>\n",
       "      <th>project_currency</th>\n",
       "      <th>...</th>\n",
       "      <th>profile_background_color</th>\n",
       "      <th>profile_text_color</th>\n",
       "      <th>profile_link_background_color</th>\n",
       "      <th>profile_link_text_color</th>\n",
       "      <th>profile_link_text</th>\n",
       "      <th>profile_link_url</th>\n",
       "      <th>profile_show_feature_image</th>\n",
       "      <th>profile_background_image_opacity</th>\n",
       "      <th>profile_should_show_feature_image_section</th>\n",
       "      <th>profile_feature_image_attributes</th>\n",
       "    </tr>\n",
       "  </thead>\n",
       "  <tbody>\n",
       "    <tr>\n",
       "      <th>0</th>\n",
       "      <td>Octagon Rainbow -- Fountain Pens in dream colors</td>\n",
       "      <td>Beautifully crafted fountain pens of rainbow w...</td>\n",
       "      <td>3000.0</td>\n",
       "      <td>16294.29</td>\n",
       "      <td>live</td>\n",
       "      <td>octagon-rainbow-fountain-pens-in-dream-colors</td>\n",
       "      <td>false</td>\n",
       "      <td>CA</td>\n",
       "      <td>Canada</td>\n",
       "      <td>CAD</td>\n",
       "      <td>...</td>\n",
       "      <td>null</td>\n",
       "      <td>null</td>\n",
       "      <td>null</td>\n",
       "      <td>null</td>\n",
       "      <td>null</td>\n",
       "      <td>null</td>\n",
       "      <td>false</td>\n",
       "      <td>0.8</td>\n",
       "      <td>true</td>\n",
       "      <td>{image_urls:{default:https://ksr-ugc.imgix.net...</td>\n",
       "    </tr>\n",
       "  </tbody>\n",
       "</table>\n",
       "<p>1 rows × 62 columns</p>\n",
       "</div>"
      ],
      "text/plain": [
       "                                       project_name  \\\n",
       "0  Octagon Rainbow -- Fountain Pens in dream colors   \n",
       "\n",
       "                                       project_blurb project_goal  \\\n",
       "0  Beautifully crafted fountain pens of rainbow w...       3000.0   \n",
       "\n",
       "  project_pledged project_state  \\\n",
       "0        16294.29          live   \n",
       "\n",
       "                                    project_slug  \\\n",
       "0  octagon-rainbow-fountain-pens-in-dream-colors   \n",
       "\n",
       "  project_disable_communication project_country  \\\n",
       "0                         false              CA   \n",
       "\n",
       "  project_country_displayable_name project_currency  ...  \\\n",
       "0                           Canada              CAD  ...   \n",
       "\n",
       "  profile_background_color profile_text_color profile_link_background_color  \\\n",
       "0                     null               null                          null   \n",
       "\n",
       "  profile_link_text_color profile_link_text profile_link_url  \\\n",
       "0                    null              null             null   \n",
       "\n",
       "  profile_show_feature_image profile_background_image_opacity  \\\n",
       "0                      false                              0.8   \n",
       "\n",
       "  profile_should_show_feature_image_section  \\\n",
       "0                                      true   \n",
       "\n",
       "                    profile_feature_image_attributes  \n",
       "0  {image_urls:{default:https://ksr-ugc.imgix.net...  \n",
       "\n",
       "[1 rows x 62 columns]"
      ]
     },
     "execution_count": 37,
     "metadata": {},
     "output_type": "execute_result"
    }
   ],
   "source": [
    "df"
   ]
  },
  {
   "cell_type": "code",
   "execution_count": null,
   "id": "43479dd4",
   "metadata": {},
   "outputs": [],
   "source": []
  }
 ],
 "metadata": {
  "kernelspec": {
   "display_name": "gorgias",
   "language": "python",
   "name": "gorgias"
  },
  "language_info": {
   "codemirror_mode": {
    "name": "ipython",
    "version": 3
   },
   "file_extension": ".py",
   "mimetype": "text/x-python",
   "name": "python",
   "nbconvert_exporter": "python",
   "pygments_lexer": "ipython3",
   "version": "3.8.12"
  }
 },
 "nbformat": 4,
 "nbformat_minor": 5
}
